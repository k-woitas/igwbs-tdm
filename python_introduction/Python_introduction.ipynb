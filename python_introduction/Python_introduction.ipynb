{
 "cells": [
  {
   "cell_type": "markdown",
   "id": "5369a537-aa01-47c7-a938-6081f90e7b0a",
   "metadata": {},
   "source": [
    "# Erste Schritte in Python\n",
    "\n",
    "    Python tutorial (English): https://www.pythoncheatsheet.org/#Python-Basics\n",
    "    \n",
    "    Tutorial auf Deutsch: https://www.python-kurs.eu/kurs.php\n",
    "    "
   ]
  },
  {
   "cell_type": "markdown",
   "id": "dd0f6b85-95a3-41bb-8dd1-1200047875ba",
   "metadata": {},
   "source": [
    "### String Variable definieren und benutzen:"
   ]
  },
  {
   "cell_type": "code",
   "execution_count": 1,
   "id": "63a0ef90-d3f9-4cfc-8ef2-86f9583c32be",
   "metadata": {},
   "outputs": [],
   "source": [
    "# Variable 'spam' definieren\n",
    "spam = 'hello world'"
   ]
  },
  {
   "cell_type": "code",
   "execution_count": 2,
   "id": "e407eb7b-4a5b-4f54-a838-a55e273ea243",
   "metadata": {},
   "outputs": [
    {
     "data": {
      "text/plain": [
       "'hello world'"
      ]
     },
     "execution_count": 2,
     "metadata": {},
     "output_type": "execute_result"
    }
   ],
   "source": [
    "# Variable ausgeben\n",
    "spam"
   ]
  },
  {
   "cell_type": "code",
   "execution_count": 3,
   "id": "b11e6686-af6c-4564-a079-c5033dbd7161",
   "metadata": {},
   "outputs": [
    {
     "name": "stdout",
     "output_type": "stream",
     "text": [
      "hello world\n"
     ]
    }
   ],
   "source": [
    "# Variable drucken (in den Standard-Output)\n",
    "print(spam)"
   ]
  },
  {
   "cell_type": "code",
   "execution_count": 4,
   "id": "f713709a-6467-49de-9594-ce5485491673",
   "metadata": {},
   "outputs": [
    {
     "data": {
      "text/plain": [
       "11"
      ]
     },
     "execution_count": 4,
     "metadata": {},
     "output_type": "execute_result"
    }
   ],
   "source": [
    "# Die Länge (Anzahl Zeichen) der Variable ausgeben\n",
    "len(spam)"
   ]
  },
  {
   "cell_type": "code",
   "execution_count": 5,
   "id": "bcf8be93-fbb4-4b1f-b096-bb2b60cef491",
   "metadata": {},
   "outputs": [
    {
     "data": {
      "text/plain": [
       "'r'"
      ]
     },
     "execution_count": 5,
     "metadata": {},
     "output_type": "execute_result"
    }
   ],
   "source": [
    "# Das 8. Zeichen der Variable ausgeben\n",
    "spam[8]"
   ]
  },
  {
   "cell_type": "code",
   "execution_count": 6,
   "id": "cce30bef-5888-4ef8-8314-f0d897f648dd",
   "metadata": {},
   "outputs": [
    {
     "data": {
      "text/plain": [
       "['he', '', 'o wor', 'd']"
      ]
     },
     "execution_count": 6,
     "metadata": {},
     "output_type": "execute_result"
    }
   ],
   "source": [
    "# Die Zeichenfolge beim Zeichen 'l' teilen\n",
    "spam.split('l')"
   ]
  },
  {
   "cell_type": "code",
   "execution_count": 7,
   "id": "c88533cc-8477-4d1f-b573-4cabf8c76fca",
   "metadata": {},
   "outputs": [],
   "source": [
    "# Eine neue Variable 'split_spam' aus der geteilten Zeichenfolge initialisieren\n",
    "split_spam = spam.split('l')"
   ]
  },
  {
   "cell_type": "code",
   "execution_count": 8,
   "id": "a4618489-98a8-4957-9364-a247b5947b69",
   "metadata": {},
   "outputs": [
    {
     "data": {
      "text/plain": [
       "['he', '', 'o wor', 'd']"
      ]
     },
     "execution_count": 8,
     "metadata": {},
     "output_type": "execute_result"
    }
   ],
   "source": [
    "# Neue Variable ausgeben\n",
    "split_spam"
   ]
  },
  {
   "cell_type": "code",
   "execution_count": 9,
   "id": "7abe6bc3-d173-4760-b73d-4ffa2de6e29a",
   "metadata": {},
   "outputs": [
    {
     "data": {
      "text/plain": [
       "'he'"
      ]
     },
     "execution_count": 9,
     "metadata": {},
     "output_type": "execute_result"
    }
   ],
   "source": [
    "# Erstes Element der neuen Variable ausgeben\n",
    "split_spam[0]"
   ]
  },
  {
   "cell_type": "code",
   "execution_count": 10,
   "id": "4fc82e1f-3b70-4fa5-9895-65cdd2fb51a2",
   "metadata": {},
   "outputs": [
    {
     "data": {
      "text/plain": [
       "'e'"
      ]
     },
     "execution_count": 10,
     "metadata": {},
     "output_type": "execute_result"
    }
   ],
   "source": [
    "#Zweites Zeichen  des ersten Elements der Variable ausgeben\n",
    "split_spam[0][1]"
   ]
  },
  {
   "cell_type": "markdown",
   "id": "94fcdb99-ac0c-4d0b-8736-9ea4e691fcb9",
   "metadata": {},
   "source": [
    "### Numerische Variable definieren und benutzen"
   ]
  },
  {
   "cell_type": "code",
   "execution_count": 11,
   "id": "0908db31-10ff-4f79-9ab9-68dc9f369c76",
   "metadata": {},
   "outputs": [],
   "source": [
    "# Variable 'my_num' definieren\n",
    "my_num = 5"
   ]
  },
  {
   "cell_type": "code",
   "execution_count": 12,
   "id": "da25a9b1-d586-449c-b712-301ebf22492f",
   "metadata": {},
   "outputs": [
    {
     "data": {
      "text/plain": [
       "5"
      ]
     },
     "execution_count": 12,
     "metadata": {},
     "output_type": "execute_result"
    }
   ],
   "source": [
    "# Variable ausgeben\n",
    "my_num"
   ]
  },
  {
   "cell_type": "code",
   "execution_count": 13,
   "id": "af2c5c76-a6f7-4338-9831-08849adda0a4",
   "metadata": {},
   "outputs": [
    {
     "data": {
      "text/plain": [
       "22"
      ]
     },
     "execution_count": 13,
     "metadata": {},
     "output_type": "execute_result"
    }
   ],
   "source": [
    "# Zahl zur Variablen addieren\n",
    "my_num + 17"
   ]
  },
  {
   "cell_type": "code",
   "execution_count": 14,
   "id": "f396869b-0e41-4e50-8c3b-50ada1a52ea3",
   "metadata": {},
   "outputs": [
    {
     "data": {
      "text/plain": [
       "1.4"
      ]
     },
     "execution_count": 14,
     "metadata": {},
     "output_type": "execute_result"
    }
   ],
   "source": [
    "# Addition, Multiplikation und Division\n",
    "(my_num + 2)*3/15"
   ]
  },
  {
   "cell_type": "markdown",
   "id": "99cf6767-31f6-48ed-8600-28e1bd7fa811",
   "metadata": {},
   "source": [
    "### Eine Liste erzeugen und benutzen"
   ]
  },
  {
   "cell_type": "code",
   "execution_count": 15,
   "id": "975b3978-72c8-4a25-85c1-732ba738ddc4",
   "metadata": {},
   "outputs": [],
   "source": [
    "# Erzeugen der Liste 'Farben' mit den Elementen 'rot', 'blau', 'weiss' und 'gelb'\n",
    "Farben = ['rot', 'blau', 'weiss', 'gelb']"
   ]
  },
  {
   "cell_type": "code",
   "execution_count": 16,
   "id": "87563b35-05a0-45a6-95af-053c5d5533e5",
   "metadata": {},
   "outputs": [
    {
     "data": {
      "text/plain": [
       "['rot', 'blau', 'weiss', 'gelb']"
      ]
     },
     "execution_count": 16,
     "metadata": {},
     "output_type": "execute_result"
    }
   ],
   "source": [
    "# Liste ausgeben\n",
    "Farben"
   ]
  },
  {
   "cell_type": "code",
   "execution_count": 17,
   "id": "7488aadb-4c14-4fe0-b01f-65f069a931ed",
   "metadata": {},
   "outputs": [
    {
     "data": {
      "text/plain": [
       "'weiss'"
      ]
     },
     "execution_count": 17,
     "metadata": {},
     "output_type": "execute_result"
    }
   ],
   "source": [
    "# Drittes Element der Liste ausgeben\n",
    "Farben[2]"
   ]
  },
  {
   "cell_type": "code",
   "execution_count": 18,
   "id": "d8429166-4e92-47b5-901e-879de8d40075",
   "metadata": {},
   "outputs": [],
   "source": [
    "# Ein neues Element zur Liste hinzufügen\n",
    "Farben.append('schwarz')"
   ]
  },
  {
   "cell_type": "code",
   "execution_count": 19,
   "id": "ec7bbc7f-0984-4983-982a-b30319d1b848",
   "metadata": {},
   "outputs": [
    {
     "data": {
      "text/plain": [
       "['rot', 'blau', 'weiss', 'gelb', 'schwarz']"
      ]
     },
     "execution_count": 19,
     "metadata": {},
     "output_type": "execute_result"
    }
   ],
   "source": [
    "# Liste ausgeben\n",
    "Farben"
   ]
  },
  {
   "cell_type": "markdown",
   "id": "ce68f5fd-4ac0-4f05-99d1-107e9af81dfb",
   "metadata": {},
   "source": [
    "### Einen Dictionary erzeugen und benutzen\n",
    "Ein Dictionary enthält verschiedene definierte Felder (Keys), denen jeweils ein Wert zugewiesen ist"
   ]
  },
  {
   "cell_type": "code",
   "execution_count": 20,
   "id": "319b38a7-e79a-4331-bb09-1492be20873c",
   "metadata": {},
   "outputs": [],
   "source": [
    "# Den Dictionary \"Farbauswahl\" erzeugen\n",
    "Farbauswahl = {\n",
    "    'Wandfarbe': 'weiss',\n",
    "    'Bodenfarbe': 'braun',\n",
    "    'Himmelfarbe': 'blau'}"
   ]
  },
  {
   "cell_type": "code",
   "execution_count": 21,
   "id": "ebc207f3-ec0d-4751-8989-38ae5170c98d",
   "metadata": {},
   "outputs": [
    {
     "data": {
      "text/plain": [
       "{'Wandfarbe': 'weiss', 'Bodenfarbe': 'braun', 'Himmelfarbe': 'blau'}"
      ]
     },
     "execution_count": 21,
     "metadata": {},
     "output_type": "execute_result"
    }
   ],
   "source": [
    "# Den Dictionary ausgeben\n",
    "Farbauswahl"
   ]
  },
  {
   "cell_type": "code",
   "execution_count": 22,
   "id": "2afb38d7-e0b6-4c67-8fa2-ab8f53f4d24a",
   "metadata": {},
   "outputs": [
    {
     "data": {
      "text/plain": [
       "'braun'"
      ]
     },
     "execution_count": 22,
     "metadata": {},
     "output_type": "execute_result"
    }
   ],
   "source": [
    "# Element 'Bodenfarbe' abfragen\n",
    "Farbauswahl['Bodenfarbe']"
   ]
  },
  {
   "cell_type": "code",
   "execution_count": 23,
   "id": "73588d36-6e71-4aa3-a9f7-da889ba5810f",
   "metadata": {},
   "outputs": [],
   "source": [
    "# Ein neues Element zum Dictionary hinzufügen\n",
    "Farbauswahl['Steinfarbe'] = 'grau'"
   ]
  },
  {
   "cell_type": "code",
   "execution_count": 24,
   "id": "1dc93c1a-febf-4ad3-a29a-f2a6f68bbdc6",
   "metadata": {},
   "outputs": [
    {
     "data": {
      "text/plain": [
       "{'Wandfarbe': 'weiss',\n",
       " 'Bodenfarbe': 'braun',\n",
       " 'Himmelfarbe': 'blau',\n",
       " 'Steinfarbe': 'grau'}"
      ]
     },
     "execution_count": 24,
     "metadata": {},
     "output_type": "execute_result"
    }
   ],
   "source": [
    "# Den erweiterten Dictionary ausgeben\n",
    "Farbauswahl"
   ]
  },
  {
   "cell_type": "code",
   "execution_count": 25,
   "id": "cb66e141-8b2d-40d1-9375-da02e913710c",
   "metadata": {},
   "outputs": [
    {
     "data": {
      "text/plain": [
       "dict_keys(['Wandfarbe', 'Bodenfarbe', 'Himmelfarbe', 'Steinfarbe'])"
      ]
     },
     "execution_count": 25,
     "metadata": {},
     "output_type": "execute_result"
    }
   ],
   "source": [
    "# Definierte Felder (Keys) im Dictionary ausgeben\n",
    "Farbauswahl.keys()"
   ]
  },
  {
   "cell_type": "markdown",
   "id": "d4001462-981f-433c-8e87-2c2d9dea2e5a",
   "metadata": {},
   "source": [
    "### Eine Funktion definieren"
   ]
  },
  {
   "cell_type": "code",
   "execution_count": 26,
   "id": "643207cf-11a4-49b2-a141-136cb201e119",
   "metadata": {},
   "outputs": [],
   "source": [
    "# Definieren der Funktion 'hello'\n",
    "def hello(name):\n",
    "    print('Hello there, {}!'.format(name))"
   ]
  },
  {
   "cell_type": "code",
   "execution_count": 27,
   "id": "b41abd6d-6bb2-4c1f-9a22-c475eb43f77d",
   "metadata": {},
   "outputs": [
    {
     "name": "stdout",
     "output_type": "stream",
     "text": [
      "Hello there, Sandra!\n"
     ]
    }
   ],
   "source": [
    "# Die Funktion 'hello' ausführen\n",
    "hello('Sandra')"
   ]
  },
  {
   "cell_type": "markdown",
   "id": "d9118dc8-1bd0-4e4e-92a3-cb7f8378e895",
   "metadata": {},
   "source": [
    "### Python Module importieren und benutzen\n",
    "\n",
    "Die Module müssen dazu auf dem System installiert sein."
   ]
  },
  {
   "cell_type": "code",
   "execution_count": 28,
   "id": "c56c0182-49d9-47ca-8cb7-4f9244139bfd",
   "metadata": {},
   "outputs": [],
   "source": [
    "# Das Modul 'os' (Operation System) importieren; Mit diesem Modul können informationen des Systems wie z.B. vorhandene Files abgefragt und verändert werden\n",
    "import os"
   ]
  },
  {
   "cell_type": "code",
   "execution_count": 29,
   "id": "642b5a5e-b119-484c-9d6d-1ef9a95afdd9",
   "metadata": {},
   "outputs": [
    {
     "data": {
      "text/plain": [
       "['test.txt', '.ipynb_checkpoints', 'intro_python.ipynb', 'test_notebook.ipynb']"
      ]
     },
     "execution_count": 29,
     "metadata": {},
     "output_type": "execute_result"
    }
   ],
   "source": [
    "# Modul 'os' benutzen, um alle Files im aktuellen Verzeichnis aufzulisten\n",
    "os.listdir()"
   ]
  },
  {
   "cell_type": "code",
   "execution_count": 30,
   "id": "2abbe051-ea56-4a8b-bf39-009db08a5e66",
   "metadata": {},
   "outputs": [],
   "source": [
    "# Ein neues File mit dem Namen 'test.txt' erzeugen und öffnen\n",
    "fd = os.open('test.txt', os.O_RDWR|os.O_CREAT)"
   ]
  },
  {
   "cell_type": "code",
   "execution_count": 31,
   "id": "f6fa3b6f-d289-49be-acd7-b94ab3641cbe",
   "metadata": {},
   "outputs": [],
   "source": [
    "# Stringavariable definieren (wird nachher ins File geschrieben)\n",
    "line = \"this is test\" "
   ]
  },
  {
   "cell_type": "code",
   "execution_count": 32,
   "id": "0d6a6786-ce5f-4872-97b9-02e942b0dc6a",
   "metadata": {},
   "outputs": [],
   "source": [
    "# Variabletyp des Strings ändern\n",
    "b = str.encode(line)"
   ]
  },
  {
   "cell_type": "code",
   "execution_count": 33,
   "id": "00ba8033-5f78-44bb-b333-2f6d34ccbc06",
   "metadata": {},
   "outputs": [
    {
     "data": {
      "text/plain": [
       "12"
      ]
     },
     "execution_count": 33,
     "metadata": {},
     "output_type": "execute_result"
    }
   ],
   "source": [
    "# Variable ins File schreiben\n",
    "os.write(fd, b)"
   ]
  },
  {
   "cell_type": "code",
   "execution_count": 34,
   "id": "35a9db29-0f01-4db3-823e-6ded6c0d6e82",
   "metadata": {},
   "outputs": [],
   "source": [
    "# File schliessen\n",
    "os.close(fd)"
   ]
  },
  {
   "cell_type": "code",
   "execution_count": null,
   "id": "e7106090-f128-48ff-a507-1d10e05e251f",
   "metadata": {},
   "outputs": [],
   "source": []
  }
 ],
 "metadata": {
  "kernelspec": {
   "display_name": "Python 3",
   "language": "python",
   "name": "python3"
  },
  "language_info": {
   "codemirror_mode": {
    "name": "ipython",
    "version": 3
   },
   "file_extension": ".py",
   "mimetype": "text/x-python",
   "name": "python",
   "nbconvert_exporter": "python",
   "pygments_lexer": "ipython3",
   "version": "3.9.5"
  }
 },
 "nbformat": 4,
 "nbformat_minor": 5
}
