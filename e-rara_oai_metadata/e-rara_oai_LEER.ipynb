{
 "cells": [
  {
   "cell_type": "markdown",
   "id": "e9c7849e-766f-42e2-a495-c357de2e5f27",
   "metadata": {},
   "source": [
    "# TDM for IGWBS 1: Daten von der OAI-Schnittstelle von e-rara"
   ]
  },
  {
   "cell_type": "markdown",
   "id": "f8a1492e-27d2-44ed-ae92-456e75c3d239",
   "metadata": {},
   "source": [
    "## Womit arbeiten wir hier eigentlich?"
   ]
  },
  {
   "cell_type": "code",
   "execution_count": null,
   "id": "b62e01fb-347e-4f77-be78-de1b0b8a7d4c",
   "metadata": {},
   "outputs": [],
   "source": [
    "!python --version"
   ]
  },
  {
   "cell_type": "code",
   "execution_count": null,
   "id": "5e2c97b4",
   "metadata": {},
   "outputs": [],
   "source": [
    "# Path für neu installierte Libraries hinzufügen\n",
    "import sys\n",
    "sys.path.append('/home/.local/lib/python3.8/site-packages')"
   ]
  },
  {
   "cell_type": "code",
   "execution_count": null,
   "id": "f63daf93-8ac1-416b-a119-d290bd90beb4",
   "metadata": {},
   "outputs": [],
   "source": [
    "# vorinstallierte Libraries - bei Interesse \"#\" vor dem Code entfernen und ausführen\n",
    "#!pip list"
   ]
  },
  {
   "cell_type": "code",
   "execution_count": null,
   "id": "47b9653e-6cb3-45ed-b811-349404c11dd4",
   "metadata": {},
   "outputs": [],
   "source": [
    "# Installation fehlender Libraries\n",
    "!pip install beautifulsoup4 "
   ]
  },
  {
   "cell_type": "code",
   "execution_count": null,
   "id": "4810ce6e-83af-4106-b6e2-810330cc73bc",
   "metadata": {},
   "outputs": [],
   "source": [
    "# Import der (installierten) Libraries, die im Nachfolgenden benutzt werden\n",
    "\n",
    "from IPython.display import IFrame              # Webpages in Jupyter Notebook anzeigen/einbetten\n",
    "import requests                                 # Web-URLs abfragen\n",
    "from bs4 import BeautifulSoup as soup           # Webscraping und HTML/XML parsen\n",
    "import lxml                                     # XML Parser für Beautiful Soup\n",
    "                                                \n",
    "import os                                       # System und z.B. Ordner navigieren und manipulieren \n",
    "import re                                       # mit Regex (Regular Expressions) arbeiten\n",
    "import pandas as pd                             # Standard Library für Dataframes (tabelleartige Datenstrukturen)\n",
    "print(\"Alle Libraries erfolgreich importiert\")"
   ]
  },
  {
   "cell_type": "markdown",
   "id": "6812ba6c-e63a-4521-99e6-3ff94beb49a2",
   "metadata": {
    "tags": []
   },
   "source": [
    "## Wie sieht die OAI-Schnittstelle im Web aus?\n",
    "\n",
    "Die OAI-Schnittstelle von e-rara ist frei zugänglich: ES braucht keine Registrierung oder API Key zur Nutzung der Daten. Diese stehen unter [freien Lizenzen](https://www.e-rara.ch/wiki/termsOfUse) zur Verfügung.\n",
    "\n",
    "Mit`IFrame` können Websites in einem Jupyter Notebook angezeigt/eingebunden werden, so auch die OAI-Startseite von e-rara, `https://www.e-rara.ch/oai?verb=Identify`.\n",
    "\n",
    "Probieren Sie verschiedene **OAI verbs** in der OAI-URL im Code unten aus:\n",
    "* `Identify`\n",
    "* `ListMetadataFormats`\n",
    "* `ListSets`."
   ]
  },
  {
   "cell_type": "code",
   "execution_count": null,
   "id": "72a2588c-0bba-4a62-a245-ff6de5c0ee42",
   "metadata": {},
   "outputs": [],
   "source": [
    "# Identify = Startseite der OAI-Schnittstelle\n",
    "IFrame('https://www.e-rara.ch/oai?verb=Identify', width=820, height=300)"
   ]
  },
  {
   "cell_type": "markdown",
   "id": "398d932e-d191-430c-94a4-d56123d74aa3",
   "metadata": {},
   "source": [
    "Mit dem OAI verb `GetRecord` und dem entsprechenden **e-rara-Identifier** lassen sich einfach die Metadaten eines bestimmten Titels anzeigen.\n",
    "\n",
    "In der URL des Titel auf der e-rara-Plattform, z.B. https://www.e-rara.ch/zut/content/titleinfo/26079348, ist der e-rara-Identifier enthalten, im Beispiel: `26079348`.\n",
    "\n",
    "Probieren Sie verschiedene Metadatenstandards aus. Diese lassen sich mit dem Parameter `metadataPrefix` in der URL einfach variieren:\n",
    "* `oai_dc` - [Simple Dublin Core](http://purl.org/dc/elements/1.1/)\n",
    "* `mods` - [MODS](https://www.loc.gov/standards/mods/)\n",
    "* `mets`- [METS](https://www.loc.gov/standards/mets/)\n",
    "\n",
    "Und natürlich können Sie auch andere e-rara-Identifier ausprobieren, z.B. `26079348`!"
   ]
  },
  {
   "cell_type": "code",
   "execution_count": null,
   "id": "14d860fb-93ea-4e8b-8b79-b8f85222621a",
   "metadata": {},
   "outputs": [],
   "source": [
    "# Beipieldatensatz aus e-rara\n",
    "IFrame('https://www.e-rara.ch/oai?verb=GetRecord&metadataPrefix=oai_dc&identifier=20329783', width=820, height=300)"
   ]
  },
  {
   "cell_type": "markdown",
   "id": "82aebd2f-ba81-4ecc-a9f4-0075519789c2",
   "metadata": {},
   "source": [
    "## XML-Daten von der OAI-Schnittstelle beziehen\n",
    "\n",
    "Bisher haben wir die **Metadaten im  XML-Format** nur auf einer Website angezeigt erhalten - nun greifen wir direkt auf diese Daten zu, d.h. laden sie herunter und speichern sie in Dateien. Hierfür werden zwei kleine Funktionen definiert: `load_xml`und `download_record`. Bei Letzterem wird das OAI verb `GetRecord` benutzt."
   ]
  },
  {
   "cell_type": "code",
   "execution_count": null,
   "id": "81a352c3-eab8-4670-b60b-4dd1b9e6a57f",
   "metadata": {},
   "outputs": [],
   "source": [
    "# Basis-URL der OAI-Schnittstelle als definierte Variable macht die weitere Verwendung einfacher\n",
    "oai = 'https://www.e-rara.ch/oai'"
   ]
  },
  {
   "cell_type": "code",
   "execution_count": null,
   "id": "17902ae1-4988-4ab2-8ad2-bd0ce9c69862",
   "metadata": {},
   "outputs": [],
   "source": [
    "# allgemeine Funktion zur Datenabfrage der OAI-Schnittstelle und Dekodierung in XML\n",
    "def load_xml(params):\n",
    "    '''\n",
    "    Accesses the OAI interface according to given parameters and scrapes its content.\n",
    "    Parameters:\n",
    "    All available native OAI verbs and parameter/value pairs.\n",
    "    '''\n",
    "    base_url = oai\n",
    "    response = requests.get(base_url, params=params)\n",
    "    output_soup = soup(response.content, features=\"xml\")   #\"lxml\"\n",
    "    return output_soup"
   ]
  },
  {
   "cell_type": "code",
   "execution_count": null,
   "id": "1e4cd158-7584-4451-942b-c82ff82043b7",
   "metadata": {},
   "outputs": [],
   "source": [
    "# \"load_xml\"-Funktion benötigt die Parameter, die in den URLs oben angehängt wurden\n",
    "xml_soup = load_xml({'verb': 'Identify'})\n",
    "xml_soup"
   ]
  },
  {
   "cell_type": "code",
   "execution_count": null,
   "id": "c446be0f-6de3-49a0-afd6-16d70115d906",
   "metadata": {},
   "outputs": [],
   "source": [
    "# OAI verb, metadataPrefix, identifier als Parameter für die \"load_xml\"-Funktion\n",
    "# entspricht: https://www.e-rara.ch/oai?verb=GetRecord&metadataPrefix=oai_dc&identifier=26079348\n",
    "\n",
    "xml_soup = load_xml({'verb': 'GetRecord', 'metadataPrefix': 'oai_dc', 'identifier': '26079348'})\n",
    "xml_soup"
   ]
  },
  {
   "cell_type": "code",
   "execution_count": null,
   "id": "4d66f8f3-ab86-4685-a276-b6912f7e2b8d",
   "metadata": {},
   "outputs": [],
   "source": [
    "# Funktion um Metadaten eines Titels herunterzuladen - in verschiedenenen Metadatenstandards und in genuiner XML-Formatierung\n",
    "\n",
    "def download_record(ID, metadataPrefix='mods'):\n",
    "    '''\n",
    "    Downloads a certain metadata record in original XML formatting from OAI to a single XML file.\n",
    "    Throws a notice when download is successful and if download fails.\n",
    "    Parameters:\n",
    "    ID = E-rara ID of the desired metadata record.\n",
    "    metadataPrefix = Metadata format to be delivered. Can be: oai_dc, mods, rawmods, mets. Default value is mods.\n",
    "    '''\n",
    "    path = os.getcwd()\n",
    "    output_soup = load_xml({'verb': 'GetRecord', 'metadataPrefix': metadataPrefix, 'identifier': ID})\n",
    "    outfile = path + '/{}.xml'.format(ID) \n",
    "    try:\n",
    "        with open(outfile, mode='w', encoding='utf-8') as f:\n",
    "            f.write(output_soup.decode())\n",
    "            print(\"Metadata file {}.xml saved\".format(ID))\n",
    "    except:\n",
    "            print(\"Saving metadata file failed\".format(ID))\n",
    "    finally:\n",
    "            pass"
   ]
  },
  {
   "cell_type": "code",
   "execution_count": null,
   "id": "1cecc2b4-e7e9-46bc-a82b-6b28f45e98d9",
   "metadata": {},
   "outputs": [],
   "source": [
    "# die Funkion in Aktion\n",
    "download_record('26079348')\n",
    "#download_record('26079348', metadataPrefix='oai_dc')"
   ]
  },
  {
   "cell_type": "code",
   "execution_count": null,
   "id": "972f5eb9-710d-4f38-925c-7fa2fd8066f2",
   "metadata": {},
   "outputs": [],
   "source": [
    "# auch mehrere Titel sind mittels einer FOR-Schleife möglich\n",
    "for ID in ['22400512', '4310610', '13621365']:\n",
    "    download_record(ID, metadataPrefix='oai_dc')"
   ]
  },
  {
   "cell_type": "markdown",
   "id": "99c7335b-6568-4561-b0e8-47f241da2018",
   "metadata": {
    "tags": []
   },
   "source": [
    "## Etwas einfacher: Arbeiten mit der Polymatheia Library\n",
    "\n",
    "Genuin liefert die OAI-PMH-Schnittstelle XML-formatierte Metadaten gemäss verschiedenen Standards aus. Mit [Polymatheia](https://polymatheia.readthedocs.io/en/latest/index.html), einer spezifischen Python \"Library\" für OAI-Schnittstellen, können diese nicht nur **einfacher abgefragt** werden, sondern die Daten werden auch in einem **einfacher auswertbaren Format** ausgegeben. Das [Navigable Dictionary](https://polymatheia.readthedocs.io/en/latest/concepts.html) macht die direkte Addressierung einzelner Datenelemente möglich. Zudem kann es leicht im [JSON](https://de.wikipedia.org/wiki/JavaScript_Object_Notation)-Format gespeichert werden."
   ]
  },
  {
   "cell_type": "code",
   "execution_count": null,
   "id": "98461182-2269-4cf2-a67e-3ff6d2802f59",
   "metadata": {},
   "outputs": [],
   "source": [
    "# Polymatheia library installieren\n",
    "!pip install polymatheia"
   ]
  },
  {
   "cell_type": "code",
   "execution_count": null,
   "id": "ab43bc30-b537-4ac7-af5e-6ebd6eaa6eb7",
   "metadata": {},
   "outputs": [],
   "source": [
    "# verschiedene Module von Polymatheia importieren\n",
    "from polymatheia.data.reader import OAISetReader               # Fragt die Sets/Sammlungen ab\n",
    "from polymatheia.data.reader import OAIMetadataFormatReader    # Fragt die Metadatenformate, die angeboten werden, ab\n",
    "from polymatheia.data.reader import OAIRecordReader            # Fragt mehrere Records/Titeldatensätze ab\n",
    "from polymatheia.data.writer import PandasDFWriter             # zur Transformation von flachen Daten in Tabellenform (Dataframe)\n",
    "print(\"Alle Libraries erfolgreich importiert\")"
   ]
  },
  {
   "cell_type": "code",
   "execution_count": null,
   "id": "0b7e22a4-3a37-43ef-8784-4bf9182f0c9a",
   "metadata": {},
   "outputs": [],
   "source": [
    "# Basis-URL der OAI-Schnittstelle als definierte Variable macht die weitere Verwendung einfacher\n",
    "oai = 'https://www.e-rara.ch/oai'"
   ]
  },
  {
   "cell_type": "markdown",
   "id": "fbe3a18f-ac81-4f81-996b-7c21eae21446",
   "metadata": {},
   "source": [
    "### Sets/Sammlungen und Metadatenformate abfragen\n",
    "\n",
    "Polymatheia arbeitet mit vorgefertigten **Readern**, die einfach zur Abfrage gemäss der verschiedenen OAI verbs benutzt werden können. Der Reader nimmt die ausgelieferten Daten entgegen und speichert sie in einem Objekt (einem Navigable Dictionary), das dann ausgelesen werden kann."
   ]
  },
  {
   "cell_type": "code",
   "execution_count": null,
   "id": "494bab7d-3c51-4617-9644-b0ab024f19e1",
   "metadata": {},
   "outputs": [],
   "source": [
    "# Der OAIMetadataFormatReader, der das OAI verb \"ListMetadataFormats\" nutzt\n",
    "reader = OAIMetadataFormatReader(oai)\n",
    "type(reader)"
   ]
  },
  {
   "cell_type": "code",
   "execution_count": null,
   "id": "52ae8a18-2357-4ac3-83a1-a9bc1e9ba91f",
   "metadata": {},
   "outputs": [],
   "source": [
    "# Welche Metdatenformate sind verfügbar? Daten aus dem Reader auslesen\n",
    "for formats in reader:\n",
    "    #print(formats)\n",
    "    print(formats.metadataPrefix)"
   ]
  },
  {
   "cell_type": "code",
   "execution_count": null,
   "id": "d9734769-24ee-4d27-a2c0-4f084ba033e5",
   "metadata": {},
   "outputs": [],
   "source": [
    "[formats.metadataPrefix for formats in reader]    # abgekürzte Variante der FOR-Schleife oben"
   ]
  },
  {
   "cell_type": "code",
   "execution_count": null,
   "id": "c45cccc4-4d92-42d6-87a9-4a89e7514709",
   "metadata": {},
   "outputs": [],
   "source": [
    "# Welche Sets/Sammlungen bietet die Schnittstelle an? Hierfür gibt es den OAISetReader\n",
    "\n",
    "reader = OAISetReader(oai)                         \n",
    "[x for x in reader]"
   ]
  },
  {
   "cell_type": "code",
   "execution_count": null,
   "id": "d3163485-3368-4e83-a9a4-c1d1e57b202e",
   "metadata": {},
   "outputs": [],
   "source": [
    "# Mit dem PandasDFWriter von Polymatheia lassen sich die Set-Daten einfach in eine übersichtlichere Tabellenform überführen\n",
    "\n",
    "reader = OAISetReader(oai)\n",
    "oai_sets = []                          # eine leere Liste namens \"oai_sets\" erstellen\n",
    "for x in reader:\n",
    "    oai_sets.append(x)                 # \".append\" hängt nacheinander alle Elemente aus \"reader\" in die Liste \"oai_sets\"\n",
    "df = PandasDFWriter().write(oai_sets)  # aus der Liste \"oai_sets\" den Dataframe \"df\" erstellen\n",
    "df.style"
   ]
  },
  {
   "cell_type": "markdown",
   "id": "3d7ba876-c2fa-468c-a2a0-b85e70b79f26",
   "metadata": {},
   "source": [
    "### Grösse eines Sets/einer Sammlung abrufen"
   ]
  },
  {
   "cell_type": "markdown",
   "id": "d6ccbe48-95b1-4730-98fe-7e36efc24b03",
   "metadata": {},
   "source": [
    "Von Interesse ist oft auch die Grösse eines Sets/einer Sammlung. Diese ist etwas versteckt in den ausgebenen Daten, z.B. mit dem OAI verb `ListIdentifiers`, vorhanden. Um die Setgrösse einfach abzurufen, wird eine eine weitere Funktion `setsize()` definiert. Das entsprechende Set wird mit seinem Kurzzeichen abgefragt. "
   ]
  },
  {
   "cell_type": "code",
   "execution_count": null,
   "id": "0a6e080a-e9cc-41c7-b444-d3ebebf31fdd",
   "metadata": {},
   "outputs": [],
   "source": [
    "# Wo steckt die Setgrösse?\n",
    "IFrame('https://www.e-rara.ch/oai?verb=ListIdentifiers&set=vitruviana&metadataPrefix=oai_dc', width=820, height=300)"
   ]
  },
  {
   "cell_type": "code",
   "execution_count": null,
   "id": "3570ac0b-7403-479d-b8b4-cd63bce5eeac",
   "metadata": {},
   "outputs": [],
   "source": [
    "# Wie gross ist ein bestimtmes Set?\n",
    "\n",
    "def setsize(Set):  \n",
    "    '''\n",
    "    Accesses the OAI interface and retrieves the size of a given OAI set.\n",
    "    Parameters:\n",
    "    Set: The 'setSpec' short cut of the desired OAI set.\n",
    "    '''\n",
    "    base_url = oai\n",
    "    listsearch_term = {'verb': 'ListIdentifiers', 'metadataPrefix': 'oai_dc', 'set': Set}\n",
    "    \n",
    "    # Basic function\n",
    "    def load_xml(params):\n",
    "        '''\n",
    "        Accesses the OAI interface according to given parameters and scrapes its content.\n",
    "        Parameters:\n",
    "        All available native OAI verbs and parameter/value pairs.\n",
    "        '''\n",
    "        response = requests.get(base_url, params=params)\n",
    "        output_soup = soup(response.content, \"lxml\")\n",
    "        return output_soup\n",
    "    \n",
    "    xml_soup = load_xml(listsearch_term)\n",
    "    if xml_soup.resumptiontoken:\n",
    "        set_size = int(xml_soup.resumptiontoken['completelistsize'])\n",
    "    else:\n",
    "        set_size = len(xml_soup.find_all('identifier'))\n",
    "    return set_size"
   ]
  },
  {
   "cell_type": "code",
   "execution_count": null,
   "id": "9bbd0272-8296-406f-86fc-add2d7ee9db1",
   "metadata": {},
   "outputs": [],
   "source": [
    "# alle Titel\n",
    "setsize('')"
   ]
  },
  {
   "cell_type": "code",
   "execution_count": null,
   "id": "a46f5197-3be7-4cda-99a8-ed706b2dbd23",
   "metadata": {},
   "outputs": [],
   "source": [
    "# \"Gottfried Keller (1819-1890)\"\n",
    "setsize('pbgkeller')"
   ]
  },
  {
   "cell_type": "markdown",
   "id": "955c2eef-a439-4704-afc4-12e3a97ae641",
   "metadata": {},
   "source": [
    "### Auf ausgewählte Metadaten eines Sets zugreifen\n",
    "\n",
    "Mit Polymatheia lassen sich leicht **massenhaft Metadaten** per OAI herunterladen. Hierbei können Metadatenstandard, Set/Sammlung und Anzahl von Datensätzen definiert werden. Der entsprechende Reader heisst `OAIRecordReader`. Die Daten sind wieder als Navigable Dictionary im Reader-Objekt gespeichert."
   ]
  },
  {
   "cell_type": "code",
   "execution_count": null,
   "id": "46dd333d-5213-4ae9-82bb-3db7f65379fa",
   "metadata": {},
   "outputs": [],
   "source": [
    "# x Metadatensätze eines Sets/einer Sammlung herunterladen und die \"header section\" der Datensätze auslesen\n",
    "\n",
    "reader = OAIRecordReader(oai, metadata_prefix='oai_dc', set_spec='stp', max_records=2)\n",
    "for record in reader:\n",
    "    print(record.header)"
   ]
  },
  {
   "cell_type": "code",
   "execution_count": null,
   "id": "5090e31e-03c0-4265-9c9a-948a3709f68c",
   "metadata": {},
   "outputs": [],
   "source": [
    "# Einzelne Metadatenfelder können im Navigable Dictionary direkt mit \"Subsetting\" oder per Punkt-Notation adressiert werden\n",
    "\n",
    "for record in reader:\n",
    "    print(record['header']['identifier']['_text'])       # Subsetting aus Python\n",
    "    print(record.header.identifier._text)                # Punkt-Notation des NavigableDict aus Polymatheia\n",
    "    print('---')"
   ]
  },
  {
   "cell_type": "code",
   "execution_count": null,
   "id": "60588590-9270-4fff-9e3a-4117c148a8f8",
   "metadata": {},
   "outputs": [],
   "source": [
    "# Ebenso kann die \"metadata section\" des Datensätze ausgelesen werden - übersichtlicher in der abgekürzten Form der FOR-Schleife\n",
    "\n",
    "[record.metadata for record in reader]"
   ]
  },
  {
   "cell_type": "code",
   "execution_count": null,
   "id": "a0364e52-8558-4725-96dc-7fd3d7ed6703",
   "metadata": {},
   "outputs": [],
   "source": [
    "# Für die Abfrage in der metadata section muss an einer Stelle allerdings zwingend die Subsetting-Syntax verwendet werden \n",
    "# wg. geschweiferter Klammern als Sonderzeichen\n",
    "\n",
    "[record.metadata['{http://www.openarchives.org/OAI/2.0/oai_dc/}dc'].dc_title._text for record in reader]"
   ]
  },
  {
   "cell_type": "code",
   "execution_count": null,
   "id": "33966306-28dd-4f8f-91bd-813088bffeab",
   "metadata": {},
   "outputs": [],
   "source": [
    "# Versuchen Sie weitere Metadaten-Elemente so herauszulesen!\n",
    "\n",
    "[record.metadata['{http://www.openarchives.org/OAI/2.0/oai_dc/}dc']...... for record in reader]"
   ]
  },
  {
   "cell_type": "code",
   "execution_count": null,
   "id": "6ae84695-4c69-42ad-94a0-6207642933fa",
   "metadata": {},
   "outputs": [],
   "source": [
    "# Metadatenfelder können auch mehrere Werte enthalten, wie die Angabe von mehreren Sets/Sammlungen, in die ein Titel gehört\n",
    "# Die Daten werden dann als Liste ausgegeben, zu erkennen an den einfassenden eckigen Klammern.\n",
    "\n",
    "for record in reader:\n",
    "    print(record.header.setSpec)"
   ]
  },
  {
   "cell_type": "code",
   "execution_count": null,
   "id": "03646bd7-751f-4f6c-b1d8-d9de1c0da4cc",
   "metadata": {},
   "outputs": [],
   "source": [
    "# Wie beim Reader können die Listen-Elemente mit einer FOR-Schleife einzeln ausgelesen werden.\n",
    "# D.h. wird haben dann 2 ineinandergeschachtelte FOR-Schleifen\n",
    "\n",
    "for record in reader:\n",
    "    for list_item in record.header.setSpec:\n",
    "        print(list_item._text)\n",
    "    print('---')"
   ]
  },
  {
   "cell_type": "code",
   "execution_count": null,
   "id": "c75b43d4-a6b7-4111-8a44-00b76fc8153a",
   "metadata": {},
   "outputs": [],
   "source": [
    "# Auch das \"dc_subject\"-Feld in der metadata section enthält eine Liste von mehreren Werten\n",
    "# Ergänzen Sie den Code, um die einzelnen Werte auszulesen!\n",
    "\n",
    "for record in reader:\n",
    "    for list_item in record.metadata['{http://www.openarchives.org/OAI/2.0/oai_dc/}dc']........:\n",
    "        print(list_item.......)\n",
    "    print('---')"
   ]
  },
  {
   "cell_type": "markdown",
   "id": "67c5d40a-2f6c-4a74-badc-48697412e5bc",
   "metadata": {},
   "source": [
    "Es gibt aber noch einen einfacheren Weg, an die einzelnen Metadaten-Elemente heranzuzukommen! Hier gibt es **keine Probleme mehr mit Einzelwerten versus Listen** als Datenwerte. Die einzelnen hierachisch angeordneten Metadaten-Elemente werden als Parameter eines spezifischen Befehls, `get`, gehandhabt.\n",
    "\n",
    "Zu beachten ist dabei, dass im Falle von Listen ebenso eine Ergebnisliste (in eckigen Klammern) ausgegeben wird.\n"
   ]
  },
  {
   "cell_type": "code",
   "execution_count": null,
   "id": "c64505c0-a734-4908-9194-d1e5a6df6674",
   "metadata": {},
   "outputs": [],
   "source": [
    "# Einfacher Zugriff auf alle Metadaten-Elemente mit dem \"get\"-Befehl\n",
    "\n",
    "for record in reader:\n",
    "    print(record.get(['header', 'identifier', '_text']))\n",
    "    print(record.get(['header', 'setSpec', '_text']))\n",
    "    print(record.get(['metadata', '{http://www.openarchives.org/OAI/2.0/oai_dc/}dc', 'dc_title', '_text']))\n",
    "    print(record.get(['metadata', '{http://www.openarchives.org/OAI/2.0/oai_dc/}dc', 'dc_subject', '_text']))\n",
    "    print('---')"
   ]
  },
  {
   "cell_type": "markdown",
   "id": "36b4d395-0711-4bd0-a2c0-18a13838fdfc",
   "metadata": {},
   "source": [
    "### Ausgewählte Metadaten in Tabellenform bringen und als CSV abspeichern"
   ]
  },
  {
   "cell_type": "code",
   "execution_count": null,
   "id": "d715890d-6f14-4ced-a652-741d8db223ca",
   "metadata": {},
   "outputs": [],
   "source": [
    "setsize('ch19')"
   ]
  },
  {
   "cell_type": "code",
   "execution_count": null,
   "id": "2822aace-e9be-45ee-a48d-0a1f9a20a7ad",
   "metadata": {},
   "outputs": [],
   "source": [
    "reader = OAIRecordReader(oai, metadata_prefix='oai_dc', set_spec='ch19', max_records=1000)\n",
    "\n",
    "identifier = [] \n",
    "sets = []\n",
    "creator = []\n",
    "title = [] \n",
    "year = []\n",
    "language = []\n",
    "publisher = []\n",
    "subjects = []\n",
    "types = []\n",
    "rights = []\n",
    "\n",
    "\n",
    "for record in reader:\n",
    "    identifier.append(record.get(['header', 'identifier', '_text']))\n",
    "    sets.append(record.get(['header', 'setSpec', '_text']))\n",
    "    creator.append(record.get(['metadata', '{http://www.openarchives.org/OAI/2.0/oai_dc/}dc', 'dc_creator', '_text']))\n",
    "    title.append(record.get(['metadata', '{http://www.openarchives.org/OAI/2.0/oai_dc/}dc', 'dc_title', '_text']))\n",
    "    year.append(record.get(['metadata', '{http://www.openarchives.org/OAI/2.0/oai_dc/}dc', 'dc_date', '_text']))\n",
    "    language.append(record.get(['metadata', '{http://www.openarchives.org/OAI/2.0/oai_dc/}dc', 'dc_language', '_text']))\n",
    "    publisher.append(record.get(['metadata', '{http://www.openarchives.org/OAI/2.0/oai_dc/}dc', 'dc_publisher', '_text']))\n",
    "    subjects.append(record.get(['metadata', '{http://www.openarchives.org/OAI/2.0/oai_dc/}dc', 'dc_subject', '_text']))\n",
    "    types.append(record.get(['metadata', '{http://www.openarchives.org/OAI/2.0/oai_dc/}dc', 'dc_type', '_text']))\n",
    "    rights.append(record.get(['metadata', '{http://www.openarchives.org/OAI/2.0/oai_dc/}dc', 'dc_rights', '_text']))\n",
    "    \n",
    "df = pd.DataFrame(list(zip(identifier, title, creator, year, language, publisher, subjects, sets, types, rights)),\n",
    "               columns =['identifier', 'title', 'creator', 'year', 'language', 'publisher', 'subjects', 'sets', 'types', 'rights'])\n",
    "df"
   ]
  },
  {
   "cell_type": "code",
   "execution_count": null,
   "id": "6cc4ce44-ce73-4730-abec-2bc9053b069f",
   "metadata": {},
   "outputs": [],
   "source": [
    "# Tabelle als CSV-Datei abspeichern, mit Semikolon als Spaltentrenner\n",
    "outfile = 'e-rara_daten_semikolon.csv'\n",
    "with open(outfile, mode='w', encoding='utf-8') as f:\n",
    "    df.to_csv(f, index=False, sep=';')"
   ]
  },
  {
   "cell_type": "code",
   "execution_count": null,
   "id": "ee2c0984-c10c-4905-bc41-3f33016b3532",
   "metadata": {},
   "outputs": [],
   "source": [
    "# Tabelle als CSV-Datei abspeichern, mit Komma als Spaltentrenner (default)\n",
    "outfile = 'e-rara_daten.csv'\n",
    "with open(outfile, mode='w', encoding='utf-8') as f:\n",
    "    df.to_csv(f, index=False)"
   ]
  },
  {
   "cell_type": "markdown",
   "id": "a3bf4509-e5a7-4a4d-a23f-e4fef2b9d50d",
   "metadata": {},
   "source": [
    "## Ganze Metadatensätze als JSON-Dateien speichern"
   ]
  },
  {
   "cell_type": "markdown",
   "id": "d2e33949-2e29-48fe-8cfb-aec730202da3",
   "metadata": {},
   "source": [
    "Daten, die als Navigable Dictionary vorliegen können einfach in **JSON-Formatierung** abgespeichert werden. Hierfür werden die einzelnen Datensätze aus dem Reader gelesen und **mit `.json` Dateiendung** mit dem **e-rara-Identifier als Dateiname** gespeichert. Im Beispiel wird vorab noch ein Ordner `json_data_dc` für die entstehenden Dateien angelegt."
   ]
  },
  {
   "cell_type": "code",
   "execution_count": null,
   "id": "d14546c0-2e3d-4e6a-a211-6a2c206e714e",
   "metadata": {},
   "outputs": [],
   "source": [
    "# Auslesen der e-rara-Identifier eines Sets\n",
    "reader = OAIRecordReader(oai, metadata_prefix='oai_dc', set_spec='stp', max_records=10)\n",
    "\n",
    "for record in reader:\n",
    "    match = re.search('oai:www.e-rara.ch:(\\d+)', record.header.identifier._text)\n",
    "    ID = match.group(1)\n",
    "    print(ID)"
   ]
  },
  {
   "cell_type": "code",
   "execution_count": null,
   "id": "eb450d74-01ad-4cf7-9d6a-16076f8bf32b",
   "metadata": {},
   "outputs": [],
   "source": [
    "# Metadaten eines Sets/einer Sammlung als JSON-Dateien abspeichern, mit e-rara Identifiern als Dateiname\n",
    "# Versuchen Sie auch das Gleiche im MODS-Standard und vergleichen Sie die abgespeicherten JSON-Dateien!\n",
    "\n",
    "reader = OAIRecordReader(oai, metadata_prefix='oai_dc', set_spec='stp', max_records=10)\n",
    "os.makedirs('json_data_dc', exist_ok=True)\n",
    "path = 'json_data_dc'\n",
    "\n",
    "for record in reader:\n",
    "    match = re.search('oai:www.e-rara.ch:(\\d+)', record.header.identifier._text)\n",
    "    ID = match.group(1)\n",
    "    outfile = path + '/{}.json'.format(ID)\n",
    "    try:\n",
    "        with open(outfile, mode='w', encoding='utf-8') as f:\n",
    "            f.write(str(record))\n",
    "            print(\"Metadata file {}.json saved\".format(ID))\n",
    "    except:\n",
    "            print(\"Saving metadata file failed\".format(ID))\n",
    "    finally:\n",
    "            pass"
   ]
  },
  {
   "cell_type": "code",
   "execution_count": null,
   "id": "c19a8a6f-56a1-4135-9b9a-213704148c57",
   "metadata": {},
   "outputs": [],
   "source": []
  }
 ],
 "metadata": {
  "kernelspec": {
   "display_name": "Python 3 (ipykernel)",
   "language": "python",
   "name": "python3"
  },
  "language_info": {
   "codemirror_mode": {
    "name": "ipython",
    "version": 3
   },
   "file_extension": ".py",
   "mimetype": "text/x-python",
   "name": "python",
   "nbconvert_exporter": "python",
   "pygments_lexer": "ipython3",
   "version": "3.8.10"
  },
  "toc-autonumbering": true,
  "toc-showcode": false,
  "toc-showmarkdowntxt": false
 },
 "nbformat": 4,
 "nbformat_minor": 5
}
