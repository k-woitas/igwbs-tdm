{
 "cells": [
  {
   "cell_type": "markdown",
   "id": "9b6ec704-ac61-455f-ba8d-3996dbded7b8",
   "metadata": {},
   "source": [
    "# TDM for IGWBS 2: Metadaten-Analyse und Visualisierung"
   ]
  },
  {
   "cell_type": "markdown",
   "id": "c2488d0d-4bef-43d5-b6ec-2744b2b32d7d",
   "metadata": {},
   "source": [
    "## Was brauchen wir?"
   ]
  },
  {
   "cell_type": "code",
   "execution_count": 1,
   "id": "c1c78942-2f0e-4f59-a887-0a2b46451689",
   "metadata": {},
   "outputs": [
    {
     "name": "stdout",
     "output_type": "stream",
     "text": [
      "Alle Libraries erfolgreich importiert\n"
     ]
    }
   ],
   "source": [
    "# Benötigte Python Libraries importieren\n",
    "import pandas as pd                    # Standard Library für Dataframes (tabellenartige Datenstrukturen)\n",
    "import collections                     # spezielle Daten-Container\n",
    "import re                              # mit Regex (Regular Expressions) arbeiten\n",
    "import json                            # mit JSON Daten umgehen (hier: hilfsweise)\n",
    "import seaborn as sns                  # Visualisierung\n",
    "import matplotlib.pyplot as plt        # Visualisierung 2\n",
    "from matplotlib.pyplot import figure\n",
    "%matplotlib inline\n",
    "print(\"Alle Libraries erfolgreich importiert\")"
   ]
  },
  {
   "cell_type": "code",
   "execution_count": 2,
   "id": "26ce51d2-3567-4f45-8eb8-1cf2dedddc60",
   "metadata": {},
   "outputs": [],
   "source": [
    "import warnings                        # allfällige Warnungen nicht anzeigen\n",
    "warnings.filterwarnings('ignore')"
   ]
  },
  {
   "cell_type": "markdown",
   "id": "9358dc1a-cf6f-47ff-b502-07ff267b8779",
   "metadata": {},
   "source": [
    "## Daten aus CSV in einen Dataframe laden"
   ]
  },
  {
   "cell_type": "code",
   "execution_count": 3,
   "id": "9ab2f7c8-1e63-4660-84cb-e8865b2344fe",
   "metadata": {},
   "outputs": [],
   "source": [
    "infile = 'e-rara_daten_semikolon.csv'\n",
    "with open(infile, mode='r', encoding='utf-8') as f:\n",
    "    df = pd.read_csv(f, sep=';')"
   ]
  },
  {
   "cell_type": "code",
   "execution_count": 4,
   "id": "717c81da-6eee-4da9-bbbd-953490baf2ee",
   "metadata": {},
   "outputs": [
    {
     "data": {
      "text/html": [
       "<div>\n",
       "<style scoped>\n",
       "    .dataframe tbody tr th:only-of-type {\n",
       "        vertical-align: middle;\n",
       "    }\n",
       "\n",
       "    .dataframe tbody tr th {\n",
       "        vertical-align: top;\n",
       "    }\n",
       "\n",
       "    .dataframe thead th {\n",
       "        text-align: right;\n",
       "    }\n",
       "</style>\n",
       "<table border=\"1\" class=\"dataframe\">\n",
       "  <thead>\n",
       "    <tr style=\"text-align: right;\">\n",
       "      <th></th>\n",
       "      <th>identifier</th>\n",
       "      <th>title</th>\n",
       "      <th>creator</th>\n",
       "      <th>year</th>\n",
       "      <th>language</th>\n",
       "      <th>publisher</th>\n",
       "      <th>subjects</th>\n",
       "      <th>sets</th>\n",
       "      <th>types</th>\n",
       "      <th>rights</th>\n",
       "    </tr>\n",
       "  </thead>\n",
       "  <tbody>\n",
       "    <tr>\n",
       "      <th>0</th>\n",
       "      <td>oai:www.e-rara.ch:14017</td>\n",
       "      <td>Funfzehn Ansichten der neuen St. Gotthards-Str...</td>\n",
       "      <td>Lusser, Karl Franz</td>\n",
       "      <td>1833</td>\n",
       "      <td>ger</td>\n",
       "      <td>bey Heinrich Füssli und Comp., Kunsthandlung z...</td>\n",
       "      <td>['ABBILDUNGEN UND BILDWERKE (DOKUMENTENTYP)', ...</td>\n",
       "      <td>['zut', 'book', 'collections', 'wihibe', 'ch',...</td>\n",
       "      <td>['Text', 'Book']</td>\n",
       "      <td>pdm</td>\n",
       "    </tr>\n",
       "    <tr>\n",
       "      <th>1</th>\n",
       "      <td>oai:www.e-rara.ch:34616</td>\n",
       "      <td>Der  Baugarten</td>\n",
       "      <td>Esslinger, Christoph</td>\n",
       "      <td>1842</td>\n",
       "      <td>ger</td>\n",
       "      <td>Verlag von Hermann Trachsler</td>\n",
       "      <td>['PANORAMENKARTEN', 'ZÜRICH, STADT (KANTON ZÜR...</td>\n",
       "      <td>['zut', 'book', 'collections', 'wihibe', 'ch',...</td>\n",
       "      <td>['Text', 'Book']</td>\n",
       "      <td>pdm</td>\n",
       "    </tr>\n",
       "    <tr>\n",
       "      <th>2</th>\n",
       "      <td>oai:www.e-rara.ch:34628</td>\n",
       "      <td>Der  Höckler und das Schlösschen Maneck : ein ...</td>\n",
       "      <td>Hardmeyer, Carl Wilhelm</td>\n",
       "      <td>1840</td>\n",
       "      <td>ger</td>\n",
       "      <td>bei Herrmann Trachsler</td>\n",
       "      <td>['PANORAMENKARTEN', 'ZÜRICH, STADT (KANTON ZÜR...</td>\n",
       "      <td>['zut', 'book', 'collections', 'wihibe', 'ch',...</td>\n",
       "      <td>['Text', 'Book']</td>\n",
       "      <td>pdm</td>\n",
       "    </tr>\n",
       "    <tr>\n",
       "      <th>3</th>\n",
       "      <td>oai:www.e-rara.ch:366308</td>\n",
       "      <td>Ergebnisse der trigonometrischen Vermessungen ...</td>\n",
       "      <td>Eschmann, Johannes</td>\n",
       "      <td>1840</td>\n",
       "      <td>ger</td>\n",
       "      <td>Orell, Füssli</td>\n",
       "      <td>['AARBERG, ORT (KANTON BERN)', 'BERN, STADT (K...</td>\n",
       "      <td>['zut', 'book', 'collections', 'wihibe', 'ch',...</td>\n",
       "      <td>['Text', 'Book']</td>\n",
       "      <td>pdm</td>\n",
       "    </tr>\n",
       "    <tr>\n",
       "      <th>4</th>\n",
       "      <td>oai:www.e-rara.ch:388892</td>\n",
       "      <td>Allgemeines Künstlerlexikon, oder: Kurze Nachr...</td>\n",
       "      <td>Füssli, Johann Rudolf</td>\n",
       "      <td>['1806', '1821']</td>\n",
       "      <td>ger</td>\n",
       "      <td>Orell, Füssli</td>\n",
       "      <td>NaN</td>\n",
       "      <td>['zut', 'book', 'collections', 'wihibe', 'ch',...</td>\n",
       "      <td>['Text', 'Book']</td>\n",
       "      <td>pdm</td>\n",
       "    </tr>\n",
       "  </tbody>\n",
       "</table>\n",
       "</div>"
      ],
      "text/plain": [
       "                 identifier  \\\n",
       "0   oai:www.e-rara.ch:14017   \n",
       "1   oai:www.e-rara.ch:34616   \n",
       "2   oai:www.e-rara.ch:34628   \n",
       "3  oai:www.e-rara.ch:366308   \n",
       "4  oai:www.e-rara.ch:388892   \n",
       "\n",
       "                                               title                  creator  \\\n",
       "0  Funfzehn Ansichten der neuen St. Gotthards-Str...       Lusser, Karl Franz   \n",
       "1                                     Der  Baugarten     Esslinger, Christoph   \n",
       "2  Der  Höckler und das Schlösschen Maneck : ein ...  Hardmeyer, Carl Wilhelm   \n",
       "3  Ergebnisse der trigonometrischen Vermessungen ...       Eschmann, Johannes   \n",
       "4  Allgemeines Künstlerlexikon, oder: Kurze Nachr...    Füssli, Johann Rudolf   \n",
       "\n",
       "               year language  \\\n",
       "0              1833      ger   \n",
       "1              1842      ger   \n",
       "2              1840      ger   \n",
       "3              1840      ger   \n",
       "4  ['1806', '1821']      ger   \n",
       "\n",
       "                                           publisher  \\\n",
       "0  bey Heinrich Füssli und Comp., Kunsthandlung z...   \n",
       "1                       Verlag von Hermann Trachsler   \n",
       "2                             bei Herrmann Trachsler   \n",
       "3                                      Orell, Füssli   \n",
       "4                                      Orell, Füssli   \n",
       "\n",
       "                                            subjects  \\\n",
       "0  ['ABBILDUNGEN UND BILDWERKE (DOKUMENTENTYP)', ...   \n",
       "1  ['PANORAMENKARTEN', 'ZÜRICH, STADT (KANTON ZÜR...   \n",
       "2  ['PANORAMENKARTEN', 'ZÜRICH, STADT (KANTON ZÜR...   \n",
       "3  ['AARBERG, ORT (KANTON BERN)', 'BERN, STADT (K...   \n",
       "4                                                NaN   \n",
       "\n",
       "                                                sets             types rights  \n",
       "0  ['zut', 'book', 'collections', 'wihibe', 'ch',...  ['Text', 'Book']    pdm  \n",
       "1  ['zut', 'book', 'collections', 'wihibe', 'ch',...  ['Text', 'Book']    pdm  \n",
       "2  ['zut', 'book', 'collections', 'wihibe', 'ch',...  ['Text', 'Book']    pdm  \n",
       "3  ['zut', 'book', 'collections', 'wihibe', 'ch',...  ['Text', 'Book']    pdm  \n",
       "4  ['zut', 'book', 'collections', 'wihibe', 'ch',...  ['Text', 'Book']    pdm  "
      ]
     },
     "execution_count": 4,
     "metadata": {},
     "output_type": "execute_result"
    }
   ],
   "source": [
    "df.head(5)"
   ]
  },
  {
   "cell_type": "markdown",
   "id": "c56e5d0c-80fe-44bf-b406-44015b92336d",
   "metadata": {},
   "source": [
    "## Einfache Statistiken"
   ]
  },
  {
   "cell_type": "code",
   "execution_count": 5,
   "id": "090fbd89-3fe1-454c-9fa2-c4f2e535af2c",
   "metadata": {},
   "outputs": [
    {
     "name": "stdout",
     "output_type": "stream",
     "text": [
      "<class 'pandas.core.frame.DataFrame'>\n",
      "RangeIndex: 1000 entries, 0 to 999\n",
      "Data columns (total 10 columns):\n",
      " #   Column      Non-Null Count  Dtype \n",
      "---  ------      --------------  ----- \n",
      " 0   identifier  1000 non-null   object\n",
      " 1   title       1000 non-null   object\n",
      " 2   creator     1000 non-null   object\n",
      " 3   year        1000 non-null   object\n",
      " 4   language    1000 non-null   object\n",
      " 5   publisher   1000 non-null   object\n",
      " 6   subjects    325 non-null    object\n",
      " 7   sets        1000 non-null   object\n",
      " 8   types       1000 non-null   object\n",
      " 9   rights      1000 non-null   object\n",
      "dtypes: object(10)\n",
      "memory usage: 78.2+ KB\n"
     ]
    }
   ],
   "source": [
    "# Überblick über die Daten: Grösse, Spalten, Null-Werte, Datentypen\n",
    "df.info()"
   ]
  },
  {
   "cell_type": "code",
   "execution_count": 6,
   "id": "441fa402-93e3-4062-9e55-e7fefd8c03a8",
   "metadata": {},
   "outputs": [
    {
     "data": {
      "text/html": [
       "<div>\n",
       "<style scoped>\n",
       "    .dataframe tbody tr th:only-of-type {\n",
       "        vertical-align: middle;\n",
       "    }\n",
       "\n",
       "    .dataframe tbody tr th {\n",
       "        vertical-align: top;\n",
       "    }\n",
       "\n",
       "    .dataframe thead th {\n",
       "        text-align: right;\n",
       "    }\n",
       "</style>\n",
       "<table border=\"1\" class=\"dataframe\">\n",
       "  <thead>\n",
       "    <tr style=\"text-align: right;\">\n",
       "      <th></th>\n",
       "      <th>identifier</th>\n",
       "      <th>title</th>\n",
       "      <th>creator</th>\n",
       "      <th>year</th>\n",
       "      <th>language</th>\n",
       "      <th>publisher</th>\n",
       "      <th>subjects</th>\n",
       "      <th>sets</th>\n",
       "      <th>types</th>\n",
       "      <th>rights</th>\n",
       "    </tr>\n",
       "  </thead>\n",
       "  <tbody>\n",
       "    <tr>\n",
       "      <th>count</th>\n",
       "      <td>1000</td>\n",
       "      <td>1000</td>\n",
       "      <td>1000</td>\n",
       "      <td>1000</td>\n",
       "      <td>1000</td>\n",
       "      <td>1000</td>\n",
       "      <td>325</td>\n",
       "      <td>1000</td>\n",
       "      <td>1000</td>\n",
       "      <td>1000</td>\n",
       "    </tr>\n",
       "    <tr>\n",
       "      <th>unique</th>\n",
       "      <td>1000</td>\n",
       "      <td>966</td>\n",
       "      <td>524</td>\n",
       "      <td>193</td>\n",
       "      <td>8</td>\n",
       "      <td>606</td>\n",
       "      <td>291</td>\n",
       "      <td>30</td>\n",
       "      <td>8</td>\n",
       "      <td>1</td>\n",
       "    </tr>\n",
       "    <tr>\n",
       "      <th>top</th>\n",
       "      <td>oai:www.e-rara.ch:14017</td>\n",
       "      <td>Taschenbuch für Mathematik, Physik, Geodäsie u...</td>\n",
       "      <td>[s.n.]</td>\n",
       "      <td>1850</td>\n",
       "      <td>ger</td>\n",
       "      <td>[Verlag nicht ermittelbar]</td>\n",
       "      <td>['KARTOGRAPHISCHE LEHRMITTEL', 'SCHWEIZ (MITTE...</td>\n",
       "      <td>['zut', 'book', 'collections', 'wihibe', 'ch',...</td>\n",
       "      <td>['Text', 'Book']</td>\n",
       "      <td>pdm</td>\n",
       "    </tr>\n",
       "    <tr>\n",
       "      <th>freq</th>\n",
       "      <td>1</td>\n",
       "      <td>4</td>\n",
       "      <td>169</td>\n",
       "      <td>28</td>\n",
       "      <td>787</td>\n",
       "      <td>40</td>\n",
       "      <td>5</td>\n",
       "      <td>274</td>\n",
       "      <td>711</td>\n",
       "      <td>1000</td>\n",
       "    </tr>\n",
       "  </tbody>\n",
       "</table>\n",
       "</div>"
      ],
      "text/plain": [
       "                     identifier  \\\n",
       "count                      1000   \n",
       "unique                     1000   \n",
       "top     oai:www.e-rara.ch:14017   \n",
       "freq                          1   \n",
       "\n",
       "                                                    title creator  year  \\\n",
       "count                                                1000    1000  1000   \n",
       "unique                                                966     524   193   \n",
       "top     Taschenbuch für Mathematik, Physik, Geodäsie u...  [s.n.]  1850   \n",
       "freq                                                    4     169    28   \n",
       "\n",
       "       language                   publisher  \\\n",
       "count      1000                        1000   \n",
       "unique        8                         606   \n",
       "top         ger  [Verlag nicht ermittelbar]   \n",
       "freq        787                          40   \n",
       "\n",
       "                                                 subjects  \\\n",
       "count                                                 325   \n",
       "unique                                                291   \n",
       "top     ['KARTOGRAPHISCHE LEHRMITTEL', 'SCHWEIZ (MITTE...   \n",
       "freq                                                    5   \n",
       "\n",
       "                                                     sets             types  \\\n",
       "count                                                1000              1000   \n",
       "unique                                                 30                 8   \n",
       "top     ['zut', 'book', 'collections', 'wihibe', 'ch',...  ['Text', 'Book']   \n",
       "freq                                                  274               711   \n",
       "\n",
       "       rights  \n",
       "count    1000  \n",
       "unique      1  \n",
       "top       pdm  \n",
       "freq     1000  "
      ]
     },
     "execution_count": 6,
     "metadata": {},
     "output_type": "execute_result"
    }
   ],
   "source": [
    "# wie viele \"non-null\" Werte sind vorhanden = count\n",
    "# wie viele unterschiedliche Werte = unique\n",
    "# häufigste Werte mit Anzahl = top, freq\n",
    "\n",
    "df.describe(include='object')"
   ]
  },
  {
   "cell_type": "code",
   "execution_count": 7,
   "id": "8c3a5379-26a1-4386-ba2f-6594bc7dfcfb",
   "metadata": {},
   "outputs": [
    {
     "data": {
      "text/plain": [
       "[('Taschenbuch für Mathematik, Physik, Geodäsie und Astronomie', 4),\n",
       " ('Karte der Schweiz für Schulen : = Carte de la Suisse pour les écoles', 4),\n",
       " ('Karte des Kantons Zürich', 4),\n",
       " ('Der  Canton Zürich mit seinen nähern Angränzungen', 3),\n",
       " ('Geodäsie', 2),\n",
       " ('Taschenbuch für Mathematik und Physik', 2),\n",
       " ('Adressbuch der Stadt Bern', 2),\n",
       " ('Die  Urwelt der Schweiz', 2),\n",
       " ('Etudes critiques sur les mollusques fossiles', 2),\n",
       " ('Schweizerische Erzählungen', 2)]"
      ]
     },
     "execution_count": 7,
     "metadata": {},
     "output_type": "execute_result"
    }
   ],
   "source": [
    "# Wie sehen die 10 häufigsten Werte für das Metadatum \"title\" aus und wie oft tauchen diese auf?\n",
    "counter = collections.Counter(df.title)\n",
    "counter.most_common(10)"
   ]
  },
  {
   "cell_type": "code",
   "execution_count": 8,
   "id": "b7092374-476d-4dcc-80ad-ade8d5030595",
   "metadata": {},
   "outputs": [
    {
     "data": {
      "text/plain": [
       "[('[s.n.]', 169),\n",
       " ('Wolf, Rudolf', 26),\n",
       " ('Keller, Heinrich', 25),\n",
       " ('Ulrich, Friedrich Salomon', 17),\n",
       " ('Heim, Albert', 16),\n",
       " ('Scheuermann, Samuel Johann Jakob', 15),\n",
       " ('Leuzinger, Rudolf', 13),\n",
       " ('Nägeli, Hans Georg', 10),\n",
       " ('Compagnie du chemin de fer franco-suisse', 9),\n",
       " ('Culmann, Carl', 8)]"
      ]
     },
     "execution_count": 8,
     "metadata": {},
     "output_type": "execute_result"
    }
   ],
   "source": [
    "# Analog für \"creator\"\n",
    "counter = collections.Counter(df.creator)\n",
    "counter.most_common(10)"
   ]
  },
  {
   "cell_type": "code",
   "execution_count": 9,
   "id": "9fc0646b-0df7-449b-b2fa-85b1a374e2d4",
   "metadata": {},
   "outputs": [
    {
     "data": {
      "text/plain": [
       "[(\"['Text', 'Book']\", 711),\n",
       " (\"['Image', 'Map']\", 243),\n",
       " (\"['Other', 'Music Print']\", 35),\n",
       " (\"['Text', 'Periodical']\", 5),\n",
       " (\"['Text', 'Periodical', 'Zeitschrift']\", 2),\n",
       " (\"['Text', 'Series']\", 2),\n",
       " (\"['Text', 'Periodical', 'Kinderbuch']\", 1),\n",
       " (\"['Text', 'Bilderbuch']\", 1)]"
      ]
     },
     "execution_count": 9,
     "metadata": {},
     "output_type": "execute_result"
    }
   ],
   "source": [
    "# Analog für \"types\"\n",
    "counter = collections.Counter(df.types)\n",
    "counter.most_common()"
   ]
  },
  {
   "cell_type": "code",
   "execution_count": 10,
   "id": "de30709a-7908-4ec0-ad66-19bd963ae25e",
   "metadata": {},
   "outputs": [
    {
     "data": {
      "text/plain": [
       "ger    787\n",
       "fre    127\n",
       "ita     37\n",
       "lat     26\n",
       "und     14\n",
       "zxx      6\n",
       "eng      2\n",
       "mul      1\n",
       "Name: language, dtype: int64"
      ]
     },
     "execution_count": 10,
     "metadata": {},
     "output_type": "execute_result"
    }
   ],
   "source": [
    "# Alternative für kleinere Daten: alle Ausprägungen für das Metadatum \"language\", mit Anzahl\n",
    "df['language'].value_counts()"
   ]
  },
  {
   "cell_type": "code",
   "execution_count": 11,
   "id": "be783bd6-a294-44c3-81b5-ace57d9620e0",
   "metadata": {},
   "outputs": [
    {
     "data": {
      "text/plain": [
       "['zut', 'book', 'collections', 'wihibe', 'ch', 'ch19']                                                     0.274\n",
       "['zut', 'cartographic', 'collections', 'ch', 'ch19']                                                       0.219\n",
       "['sikjm', 'book', 'collections', 'sikjmc', 'ch', 'ch19']                                                   0.179\n",
       "['zut', 'book', 'collections', 'wihibe', 'ch', 'ch19', 'collections', 'profethz']                          0.072\n",
       "['zuz', 'book', 'ch', 'ch19']                                                                              0.051\n",
       "['zuz', 'book', 'ch', 'ch19', 'collections', 'rheinau']                                                    0.047\n",
       "['zuz', 'notated_music', 'collections', 'ch', 'ch19']                                                      0.034\n",
       "['lg1', 'book', 'collections', 'ticinensia', 'ch', 'ch19']                                                 0.029\n",
       "['zut', 'cartographic', 'collections', 'ch', 'ch19', 'collections', 'profethz']                            0.022\n",
       "['bes_1', 'book', 'collections', 'bernensia', 'ch', 'ch19']                                                0.018\n",
       "['sikjm', 'journal', 'collections', 'sikjmc', 'ch', 'ch19']                                                0.008\n",
       "['bes_1', 'book', 'ch', 'ch19']                                                                            0.007\n",
       "['zuz', 'book', 'collections', 'rheinau', 'ch', 'ch19']                                                    0.007\n",
       "['zut', 'book', 'collections', 'wihibe', 'collections', 'profethz', 'ch', 'ch19']                          0.007\n",
       "['bau_1', 'book', 'ch', 'ch19']                                                                            0.006\n",
       "['zut', 'book', 'ch', 'ch19', 'collections', 'wihibe']                                                     0.003\n",
       "['zut', 'book', 'collections', 'wihibe', 'ch', 'ch19', 'privlib', 'pboheer']                               0.002\n",
       "['bes_1', 'journal', 'collections', 'bernensia', 'ch', 'ch19']                                             0.002\n",
       "['zuz', 'book', 'collections', 'ch', 'ch19']                                                               0.002\n",
       "['zuz', 'book', 'ch', 'ch19', 'collections', 'nagezh']                                                     0.001\n",
       "['bes_1', 'book', 'ch', 'ch19', 'collections', 'bernensia']                                                0.001\n",
       "['gep_r', 'book', 'ch', 'ch19']                                                                            0.001\n",
       "['lg1', 'journal', 'collections', 'collections', 'ticinensia', 'ch', 'ch19']                               0.001\n",
       "['nev_r', 'book', 'collections', 'oiseaux', 'ch', 'ch19']                                                  0.001\n",
       "['zut', 'book', 'collections', 'wihibe', 'ch', 'ch19', 'privlib', 'pbrwolf']                               0.001\n",
       "['zut', 'cartographic', 'collections', 'wihibe', 'ch', 'ch19']                                             0.001\n",
       "['zut', 'book', 'collections', 'wihibe', 'privlib', 'pbrwolf', 'ch', 'ch19', 'collections', 'profethz']    0.001\n",
       "['zuz', 'notated_music', 'ch', 'ch19', 'collections']                                                      0.001\n",
       "['zut', 'cartographic', 'ch', 'ch19', 'collections']                                                       0.001\n",
       "['sikjm', 'book', 'collections', 'sikjmc', 'ch', 'ch18', 'ch', 'ch19']                                     0.001\n",
       "Name: sets, dtype: float64"
      ]
     },
     "execution_count": 11,
     "metadata": {},
     "output_type": "execute_result"
    }
   ],
   "source": [
    "# Wie sieht es mit den Ausprägungen in \"sets\" aus, und dies in Anteilen?\n",
    "df['sets'].value_counts(normalize=True)"
   ]
  },
  {
   "cell_type": "code",
   "execution_count": 12,
   "id": "da490008-f6b8-448e-b6c0-6ee063c8fe28",
   "metadata": {},
   "outputs": [
    {
     "data": {
      "text/plain": [
       "1000"
      ]
     },
     "execution_count": 12,
     "metadata": {},
     "output_type": "execute_result"
    }
   ],
   "source": [
    "# Wie viele unterschiedliche Datensätze gibt es? Bzw. gibt es Duplikate?\n",
    "len(df.value_counts(dropna=False))"
   ]
  },
  {
   "cell_type": "code",
   "execution_count": 13,
   "id": "7901411b-41c9-424b-89ef-c6b63f191ec5",
   "metadata": {},
   "outputs": [
    {
     "data": {
      "text/plain": [
       "675"
      ]
     },
     "execution_count": 13,
     "metadata": {},
     "output_type": "execute_result"
    }
   ],
   "source": [
    "# Wie viele Null-Werte (= \"Wert nicht-vorhanden\") gibt es?\n",
    "df.isnull().sum().sum()"
   ]
  },
  {
   "cell_type": "code",
   "execution_count": 14,
   "id": "3080d7f2-7f9b-45e6-8103-4798751b3b46",
   "metadata": {},
   "outputs": [
    {
     "data": {
      "text/plain": [
       "675"
      ]
     },
     "execution_count": 14,
     "metadata": {},
     "output_type": "execute_result"
    }
   ],
   "source": [
    "# Und in einer spezifischen Spalte, hier \"subjects\"?\n",
    "df.subjects.isna().sum()"
   ]
  },
  {
   "cell_type": "code",
   "execution_count": 15,
   "id": "a73480b1-fad0-4656-9860-219fdaa71b50",
   "metadata": {},
   "outputs": [
    {
     "data": {
      "text/plain": [
       "identifier      0\n",
       "title           0\n",
       "creator         0\n",
       "year            0\n",
       "language        0\n",
       "publisher       0\n",
       "subjects      675\n",
       "sets            0\n",
       "types           0\n",
       "rights          0\n",
       "dtype: int64"
      ]
     },
     "execution_count": 15,
     "metadata": {},
     "output_type": "execute_result"
    }
   ],
   "source": [
    "# In allen Spalten im Überblick\n",
    "df.isna().sum()"
   ]
  },
  {
   "cell_type": "code",
   "execution_count": 16,
   "id": "358319e8-15ea-4ce7-a36c-77839a4d2ec9",
   "metadata": {},
   "outputs": [
    {
     "data": {
      "text/html": [
       "<div>\n",
       "<style scoped>\n",
       "    .dataframe tbody tr th:only-of-type {\n",
       "        vertical-align: middle;\n",
       "    }\n",
       "\n",
       "    .dataframe tbody tr th {\n",
       "        vertical-align: top;\n",
       "    }\n",
       "\n",
       "    .dataframe thead th {\n",
       "        text-align: right;\n",
       "    }\n",
       "</style>\n",
       "<table border=\"1\" class=\"dataframe\">\n",
       "  <thead>\n",
       "    <tr style=\"text-align: right;\">\n",
       "      <th></th>\n",
       "      <th>identifier</th>\n",
       "      <th>title</th>\n",
       "      <th>creator</th>\n",
       "      <th>year</th>\n",
       "      <th>language</th>\n",
       "      <th>publisher</th>\n",
       "      <th>subjects</th>\n",
       "      <th>sets</th>\n",
       "      <th>types</th>\n",
       "      <th>rights</th>\n",
       "    </tr>\n",
       "  </thead>\n",
       "  <tbody>\n",
       "    <tr>\n",
       "      <th>4</th>\n",
       "      <td>oai:www.e-rara.ch:388892</td>\n",
       "      <td>Allgemeines Künstlerlexikon, oder: Kurze Nachr...</td>\n",
       "      <td>Füssli, Johann Rudolf</td>\n",
       "      <td>['1806', '1821']</td>\n",
       "      <td>ger</td>\n",
       "      <td>Orell, Füssli</td>\n",
       "      <td>NaN</td>\n",
       "      <td>['zut', 'book', 'collections', 'wihibe', 'ch',...</td>\n",
       "      <td>['Text', 'Book']</td>\n",
       "      <td>pdm</td>\n",
       "    </tr>\n",
       "    <tr>\n",
       "      <th>5</th>\n",
       "      <td>oai:www.e-rara.ch:435271</td>\n",
       "      <td>Bericht über die Arbeiten zur Reform der schwe...</td>\n",
       "      <td>[s.n.]</td>\n",
       "      <td>1868</td>\n",
       "      <td>ger</td>\n",
       "      <td>Druck von Zürcher und Furrer</td>\n",
       "      <td>NaN</td>\n",
       "      <td>['zut', 'book', 'collections', 'wihibe', 'ch',...</td>\n",
       "      <td>['Text', 'Book']</td>\n",
       "      <td>pdm</td>\n",
       "    </tr>\n",
       "    <tr>\n",
       "      <th>6</th>\n",
       "      <td>oai:www.e-rara.ch:649605</td>\n",
       "      <td>Nachrichten von der Sternwarte in Bern</td>\n",
       "      <td>Wolf, Rudolf</td>\n",
       "      <td>['1848', '1855']</td>\n",
       "      <td>ger</td>\n",
       "      <td>[Verlag nicht ermittelbar]</td>\n",
       "      <td>NaN</td>\n",
       "      <td>['zut', 'book', 'collections', 'wihibe', 'ch',...</td>\n",
       "      <td>['Text', 'Book']</td>\n",
       "      <td>pdm</td>\n",
       "    </tr>\n",
       "    <tr>\n",
       "      <th>7</th>\n",
       "      <td>oai:www.e-rara.ch:672521</td>\n",
       "      <td>Geodäsie</td>\n",
       "      <td>Wild, Johannes</td>\n",
       "      <td>1879</td>\n",
       "      <td>ger</td>\n",
       "      <td>Verein der Polytechniker</td>\n",
       "      <td>NaN</td>\n",
       "      <td>['zut', 'book', 'collections', 'wihibe', 'ch',...</td>\n",
       "      <td>['Text', 'Book']</td>\n",
       "      <td>pdm</td>\n",
       "    </tr>\n",
       "    <tr>\n",
       "      <th>8</th>\n",
       "      <td>oai:www.e-rara.ch:729101</td>\n",
       "      <td>Geodäsie</td>\n",
       "      <td>Wild, Johannes</td>\n",
       "      <td>1881</td>\n",
       "      <td>ger</td>\n",
       "      <td>Verein der Polytechniker</td>\n",
       "      <td>NaN</td>\n",
       "      <td>['zut', 'book', 'collections', 'wihibe', 'ch',...</td>\n",
       "      <td>['Text', 'Book']</td>\n",
       "      <td>pdm</td>\n",
       "    </tr>\n",
       "    <tr>\n",
       "      <th>...</th>\n",
       "      <td>...</td>\n",
       "      <td>...</td>\n",
       "      <td>...</td>\n",
       "      <td>...</td>\n",
       "      <td>...</td>\n",
       "      <td>...</td>\n",
       "      <td>...</td>\n",
       "      <td>...</td>\n",
       "      <td>...</td>\n",
       "      <td>...</td>\n",
       "    </tr>\n",
       "    <tr>\n",
       "      <th>995</th>\n",
       "      <td>oai:www.e-rara.ch:6775826</td>\n",
       "      <td>Dissertation sur la partie de l'optique qui tr...</td>\n",
       "      <td>La Rive, Auguste Arthur de</td>\n",
       "      <td>1823</td>\n",
       "      <td>fre</td>\n",
       "      <td>de l'imprimerie aux barrières</td>\n",
       "      <td>NaN</td>\n",
       "      <td>['zut', 'book', 'collections', 'wihibe', 'ch',...</td>\n",
       "      <td>['Text', 'Book']</td>\n",
       "      <td>pdm</td>\n",
       "    </tr>\n",
       "    <tr>\n",
       "      <th>996</th>\n",
       "      <td>oai:www.e-rara.ch:6776914</td>\n",
       "      <td>Schweizerische Handels-Akademie in Zürich : Pr...</td>\n",
       "      <td>Bertsch, Ferdinand</td>\n",
       "      <td>1895</td>\n",
       "      <td>ger</td>\n",
       "      <td>Wildhaber</td>\n",
       "      <td>NaN</td>\n",
       "      <td>['zuz', 'book', 'ch', 'ch19']</td>\n",
       "      <td>['Text', 'Book']</td>\n",
       "      <td>pdm</td>\n",
       "    </tr>\n",
       "    <tr>\n",
       "      <th>997</th>\n",
       "      <td>oai:www.e-rara.ch:6799599</td>\n",
       "      <td>Die  Schweiz / 1 Der  schweizerische Jura : se...</td>\n",
       "      <td>Siegfried, Johann Jacob</td>\n",
       "      <td>1851</td>\n",
       "      <td>ger</td>\n",
       "      <td>Druck und Verlag von Orell, Füssli &amp; Comp.</td>\n",
       "      <td>NaN</td>\n",
       "      <td>['zut', 'book', 'collections', 'wihibe', 'ch',...</td>\n",
       "      <td>['Text', 'Book']</td>\n",
       "      <td>pdm</td>\n",
       "    </tr>\n",
       "    <tr>\n",
       "      <th>998</th>\n",
       "      <td>oai:www.e-rara.ch:6800516</td>\n",
       "      <td>Bericht der Finanz-Commission des Stadtrathes ...</td>\n",
       "      <td>Bern</td>\n",
       "      <td>1834</td>\n",
       "      <td>ger</td>\n",
       "      <td>Rätzer</td>\n",
       "      <td>NaN</td>\n",
       "      <td>['bes_1', 'book', 'collections', 'bernensia', ...</td>\n",
       "      <td>['Text', 'Book']</td>\n",
       "      <td>pdm</td>\n",
       "    </tr>\n",
       "    <tr>\n",
       "      <th>999</th>\n",
       "      <td>oai:www.e-rara.ch:6800520</td>\n",
       "      <td>Gutachten des verstärkten Burgerrathes zu Hand...</td>\n",
       "      <td>Bern, Burgergemeinde</td>\n",
       "      <td>1848</td>\n",
       "      <td>ger</td>\n",
       "      <td>C. Rätzer</td>\n",
       "      <td>NaN</td>\n",
       "      <td>['bes_1', 'book', 'collections', 'bernensia', ...</td>\n",
       "      <td>['Text', 'Book']</td>\n",
       "      <td>pdm</td>\n",
       "    </tr>\n",
       "  </tbody>\n",
       "</table>\n",
       "<p>675 rows × 10 columns</p>\n",
       "</div>"
      ],
      "text/plain": [
       "                    identifier  \\\n",
       "4     oai:www.e-rara.ch:388892   \n",
       "5     oai:www.e-rara.ch:435271   \n",
       "6     oai:www.e-rara.ch:649605   \n",
       "7     oai:www.e-rara.ch:672521   \n",
       "8     oai:www.e-rara.ch:729101   \n",
       "..                         ...   \n",
       "995  oai:www.e-rara.ch:6775826   \n",
       "996  oai:www.e-rara.ch:6776914   \n",
       "997  oai:www.e-rara.ch:6799599   \n",
       "998  oai:www.e-rara.ch:6800516   \n",
       "999  oai:www.e-rara.ch:6800520   \n",
       "\n",
       "                                                 title  \\\n",
       "4    Allgemeines Künstlerlexikon, oder: Kurze Nachr...   \n",
       "5    Bericht über die Arbeiten zur Reform der schwe...   \n",
       "6               Nachrichten von der Sternwarte in Bern   \n",
       "7                                             Geodäsie   \n",
       "8                                             Geodäsie   \n",
       "..                                                 ...   \n",
       "995  Dissertation sur la partie de l'optique qui tr...   \n",
       "996  Schweizerische Handels-Akademie in Zürich : Pr...   \n",
       "997  Die  Schweiz / 1 Der  schweizerische Jura : se...   \n",
       "998  Bericht der Finanz-Commission des Stadtrathes ...   \n",
       "999  Gutachten des verstärkten Burgerrathes zu Hand...   \n",
       "\n",
       "                        creator              year language  \\\n",
       "4         Füssli, Johann Rudolf  ['1806', '1821']      ger   \n",
       "5                        [s.n.]              1868      ger   \n",
       "6                  Wolf, Rudolf  ['1848', '1855']      ger   \n",
       "7                Wild, Johannes              1879      ger   \n",
       "8                Wild, Johannes              1881      ger   \n",
       "..                          ...               ...      ...   \n",
       "995  La Rive, Auguste Arthur de              1823      fre   \n",
       "996          Bertsch, Ferdinand              1895      ger   \n",
       "997     Siegfried, Johann Jacob              1851      ger   \n",
       "998                        Bern              1834      ger   \n",
       "999        Bern, Burgergemeinde              1848      ger   \n",
       "\n",
       "                                      publisher subjects  \\\n",
       "4                                 Orell, Füssli      NaN   \n",
       "5                  Druck von Zürcher und Furrer      NaN   \n",
       "6                    [Verlag nicht ermittelbar]      NaN   \n",
       "7                      Verein der Polytechniker      NaN   \n",
       "8                      Verein der Polytechniker      NaN   \n",
       "..                                          ...      ...   \n",
       "995               de l'imprimerie aux barrières      NaN   \n",
       "996                                   Wildhaber      NaN   \n",
       "997  Druck und Verlag von Orell, Füssli & Comp.      NaN   \n",
       "998                                      Rätzer      NaN   \n",
       "999                                   C. Rätzer      NaN   \n",
       "\n",
       "                                                  sets             types  \\\n",
       "4    ['zut', 'book', 'collections', 'wihibe', 'ch',...  ['Text', 'Book']   \n",
       "5    ['zut', 'book', 'collections', 'wihibe', 'ch',...  ['Text', 'Book']   \n",
       "6    ['zut', 'book', 'collections', 'wihibe', 'ch',...  ['Text', 'Book']   \n",
       "7    ['zut', 'book', 'collections', 'wihibe', 'ch',...  ['Text', 'Book']   \n",
       "8    ['zut', 'book', 'collections', 'wihibe', 'ch',...  ['Text', 'Book']   \n",
       "..                                                 ...               ...   \n",
       "995  ['zut', 'book', 'collections', 'wihibe', 'ch',...  ['Text', 'Book']   \n",
       "996                      ['zuz', 'book', 'ch', 'ch19']  ['Text', 'Book']   \n",
       "997  ['zut', 'book', 'collections', 'wihibe', 'ch',...  ['Text', 'Book']   \n",
       "998  ['bes_1', 'book', 'collections', 'bernensia', ...  ['Text', 'Book']   \n",
       "999  ['bes_1', 'book', 'collections', 'bernensia', ...  ['Text', 'Book']   \n",
       "\n",
       "    rights  \n",
       "4      pdm  \n",
       "5      pdm  \n",
       "6      pdm  \n",
       "7      pdm  \n",
       "8      pdm  \n",
       "..     ...  \n",
       "995    pdm  \n",
       "996    pdm  \n",
       "997    pdm  \n",
       "998    pdm  \n",
       "999    pdm  \n",
       "\n",
       "[675 rows x 10 columns]"
      ]
     },
     "execution_count": 16,
     "metadata": {},
     "output_type": "execute_result"
    }
   ],
   "source": [
    "# Alle Zeilen mit mindestens einem Null-Wert\n",
    "df[df.isna().any(axis=1)]"
   ]
  },
  {
   "cell_type": "code",
   "execution_count": 17,
   "id": "70bd410a-8f80-4497-a26c-50f8fad9eb66",
   "metadata": {},
   "outputs": [
    {
     "data": {
      "text/html": [
       "<div>\n",
       "<style scoped>\n",
       "    .dataframe tbody tr th:only-of-type {\n",
       "        vertical-align: middle;\n",
       "    }\n",
       "\n",
       "    .dataframe tbody tr th {\n",
       "        vertical-align: top;\n",
       "    }\n",
       "\n",
       "    .dataframe thead th {\n",
       "        text-align: right;\n",
       "    }\n",
       "</style>\n",
       "<table border=\"1\" class=\"dataframe\">\n",
       "  <thead>\n",
       "    <tr style=\"text-align: right;\">\n",
       "      <th>types</th>\n",
       "      <th>['Image', 'Map']</th>\n",
       "      <th>['Other', 'Music Print']</th>\n",
       "      <th>['Text', 'Bilderbuch']</th>\n",
       "      <th>['Text', 'Book']</th>\n",
       "      <th>['Text', 'Periodical', 'Kinderbuch']</th>\n",
       "      <th>['Text', 'Periodical', 'Zeitschrift']</th>\n",
       "      <th>['Text', 'Periodical']</th>\n",
       "      <th>['Text', 'Series']</th>\n",
       "    </tr>\n",
       "    <tr>\n",
       "      <th>language</th>\n",
       "      <th></th>\n",
       "      <th></th>\n",
       "      <th></th>\n",
       "      <th></th>\n",
       "      <th></th>\n",
       "      <th></th>\n",
       "      <th></th>\n",
       "      <th></th>\n",
       "    </tr>\n",
       "  </thead>\n",
       "  <tbody>\n",
       "    <tr>\n",
       "      <th>eng</th>\n",
       "      <td>1</td>\n",
       "      <td>0</td>\n",
       "      <td>0</td>\n",
       "      <td>1</td>\n",
       "      <td>0</td>\n",
       "      <td>0</td>\n",
       "      <td>0</td>\n",
       "      <td>0</td>\n",
       "    </tr>\n",
       "    <tr>\n",
       "      <th>fre</th>\n",
       "      <td>27</td>\n",
       "      <td>1</td>\n",
       "      <td>0</td>\n",
       "      <td>99</td>\n",
       "      <td>0</td>\n",
       "      <td>0</td>\n",
       "      <td>0</td>\n",
       "      <td>0</td>\n",
       "    </tr>\n",
       "    <tr>\n",
       "      <th>ger</th>\n",
       "      <td>211</td>\n",
       "      <td>13</td>\n",
       "      <td>1</td>\n",
       "      <td>553</td>\n",
       "      <td>1</td>\n",
       "      <td>2</td>\n",
       "      <td>5</td>\n",
       "      <td>1</td>\n",
       "    </tr>\n",
       "    <tr>\n",
       "      <th>ita</th>\n",
       "      <td>4</td>\n",
       "      <td>0</td>\n",
       "      <td>0</td>\n",
       "      <td>32</td>\n",
       "      <td>0</td>\n",
       "      <td>0</td>\n",
       "      <td>0</td>\n",
       "      <td>1</td>\n",
       "    </tr>\n",
       "    <tr>\n",
       "      <th>lat</th>\n",
       "      <td>0</td>\n",
       "      <td>1</td>\n",
       "      <td>0</td>\n",
       "      <td>25</td>\n",
       "      <td>0</td>\n",
       "      <td>0</td>\n",
       "      <td>0</td>\n",
       "      <td>0</td>\n",
       "    </tr>\n",
       "    <tr>\n",
       "      <th>mul</th>\n",
       "      <td>0</td>\n",
       "      <td>0</td>\n",
       "      <td>0</td>\n",
       "      <td>1</td>\n",
       "      <td>0</td>\n",
       "      <td>0</td>\n",
       "      <td>0</td>\n",
       "      <td>0</td>\n",
       "    </tr>\n",
       "    <tr>\n",
       "      <th>und</th>\n",
       "      <td>0</td>\n",
       "      <td>14</td>\n",
       "      <td>0</td>\n",
       "      <td>0</td>\n",
       "      <td>0</td>\n",
       "      <td>0</td>\n",
       "      <td>0</td>\n",
       "      <td>0</td>\n",
       "    </tr>\n",
       "    <tr>\n",
       "      <th>zxx</th>\n",
       "      <td>0</td>\n",
       "      <td>6</td>\n",
       "      <td>0</td>\n",
       "      <td>0</td>\n",
       "      <td>0</td>\n",
       "      <td>0</td>\n",
       "      <td>0</td>\n",
       "      <td>0</td>\n",
       "    </tr>\n",
       "  </tbody>\n",
       "</table>\n",
       "</div>"
      ],
      "text/plain": [
       "types     ['Image', 'Map']  ['Other', 'Music Print']  ['Text', 'Bilderbuch']  \\\n",
       "language                                                                       \n",
       "eng                      1                         0                       0   \n",
       "fre                     27                         1                       0   \n",
       "ger                    211                        13                       1   \n",
       "ita                      4                         0                       0   \n",
       "lat                      0                         1                       0   \n",
       "mul                      0                         0                       0   \n",
       "und                      0                        14                       0   \n",
       "zxx                      0                         6                       0   \n",
       "\n",
       "types     ['Text', 'Book']  ['Text', 'Periodical', 'Kinderbuch']  \\\n",
       "language                                                           \n",
       "eng                      1                                     0   \n",
       "fre                     99                                     0   \n",
       "ger                    553                                     1   \n",
       "ita                     32                                     0   \n",
       "lat                     25                                     0   \n",
       "mul                      1                                     0   \n",
       "und                      0                                     0   \n",
       "zxx                      0                                     0   \n",
       "\n",
       "types     ['Text', 'Periodical', 'Zeitschrift']  ['Text', 'Periodical']  \\\n",
       "language                                                                  \n",
       "eng                                           0                       0   \n",
       "fre                                           0                       0   \n",
       "ger                                           2                       5   \n",
       "ita                                           0                       0   \n",
       "lat                                           0                       0   \n",
       "mul                                           0                       0   \n",
       "und                                           0                       0   \n",
       "zxx                                           0                       0   \n",
       "\n",
       "types     ['Text', 'Series']  \n",
       "language                      \n",
       "eng                        0  \n",
       "fre                        0  \n",
       "ger                        1  \n",
       "ita                        1  \n",
       "lat                        0  \n",
       "mul                        0  \n",
       "und                        0  \n",
       "zxx                        0  "
      ]
     },
     "execution_count": 17,
     "metadata": {},
     "output_type": "execute_result"
    }
   ],
   "source": [
    "# Gegenüberstellung zweier Werte\n",
    "pd.crosstab(df.language, df.types)"
   ]
  },
  {
   "cell_type": "code",
   "execution_count": 18,
   "id": "17251a1a-5c61-41a1-8fc0-53f8e5e243fe",
   "metadata": {},
   "outputs": [
    {
     "data": {
      "text/plain": [
       "language  types                                \n",
       "eng       ['Image', 'Map']                           1\n",
       "          ['Text', 'Book']                           1\n",
       "fre       ['Image', 'Map']                          27\n",
       "          ['Other', 'Music Print']                   1\n",
       "          ['Text', 'Book']                          99\n",
       "ger       ['Image', 'Map']                         211\n",
       "          ['Other', 'Music Print']                  13\n",
       "          ['Text', 'Bilderbuch']                     1\n",
       "          ['Text', 'Book']                         553\n",
       "          ['Text', 'Periodical', 'Kinderbuch']       1\n",
       "          ['Text', 'Periodical', 'Zeitschrift']      2\n",
       "          ['Text', 'Periodical']                     5\n",
       "          ['Text', 'Series']                         1\n",
       "ita       ['Image', 'Map']                           4\n",
       "          ['Text', 'Book']                          32\n",
       "          ['Text', 'Series']                         1\n",
       "lat       ['Other', 'Music Print']                   1\n",
       "          ['Text', 'Book']                          25\n",
       "mul       ['Text', 'Book']                           1\n",
       "und       ['Other', 'Music Print']                  14\n",
       "zxx       ['Other', 'Music Print']                   6\n",
       "dtype: int64"
      ]
     },
     "execution_count": 18,
     "metadata": {},
     "output_type": "execute_result"
    }
   ],
   "source": [
    "# Variante\n",
    "df.groupby(['language', 'types']).size()"
   ]
  },
  {
   "cell_type": "markdown",
   "id": "67e08bd5-47ab-430c-bf92-27f7769ed202",
   "metadata": {},
   "source": [
    "## Datentransformation und Bereinigung"
   ]
  },
  {
   "cell_type": "markdown",
   "id": "d8ff27ab-3af8-4747-9f92-d8c845b97b95",
   "metadata": {},
   "source": [
    "### Sets, Subjects und Types auswerten"
   ]
  },
  {
   "cell_type": "code",
   "execution_count": 19,
   "id": "7023a15b-edb3-414a-be45-ef274a8f8c3f",
   "metadata": {},
   "outputs": [
    {
     "name": "stdout",
     "output_type": "stream",
     "text": [
      "['zut', 'cartographic', 'collections', 'ch', 'ch19']\n",
      "---\n",
      "<class 'str'>\n"
     ]
    }
   ],
   "source": [
    "# Problem: Es sind mehrere Werte in den \"sets\"-Feldern enthalten - allerdings nicht als Liste, sondern als String!\n",
    "# -> macht Auswertung schwer\n",
    "\n",
    "print(df.sets[721])\n",
    "print('---')\n",
    "print(type(df.sets[721]))"
   ]
  },
  {
   "cell_type": "code",
   "execution_count": 20,
   "id": "91f3cf4c-b930-4de6-9b52-1cc25ce694fa",
   "metadata": {},
   "outputs": [
    {
     "name": "stdout",
     "output_type": "stream",
     "text": [
      "['KARTOGRAPHISCHE LEHRMITTEL', 'SCHWEIZ (MITTELEUROPA). SCHWEIZERISCHE EIDGENOSSENSCHAFT', 'TOPOGRAPHISCHE KARTEN']\n",
      "---\n",
      "<class 'str'>\n",
      "---\n",
      "['Image', 'Map']\n",
      "---\n",
      "<class 'str'>\n"
     ]
    }
   ],
   "source": [
    "# Dasselbe gilt für die \"subjects\" und \"Types\"\n",
    "print(df.subjects[721])\n",
    "print('---')\n",
    "print(type(df.subjects[721]))\n",
    "print('---')\n",
    "print(df.types[721])\n",
    "print('---')\n",
    "print(type(df.types[721]))"
   ]
  },
  {
   "cell_type": "code",
   "execution_count": 21,
   "id": "0cbd3b1b-9d62-4122-95ca-a4792539fa98",
   "metadata": {},
   "outputs": [],
   "source": [
    "# Drei neue Spalten \"sets_list\", \"types_list\" und \"subjects_list\", in der Sets, Types und Subjects wieder zählbare Listen sind!\n",
    "\n",
    "df['sets_list'] = 0\n",
    "for i in df.index:\n",
    "    string = df.sets[i]\n",
    "    string2 = string.replace('\\'', '\"')\n",
    "    df['sets_list'][i] = json.loads(string2) \n",
    "    \n",
    "df['types_list'] = 0\n",
    "for i in df.index:\n",
    "    string = df.types[i]\n",
    "    string2 = string.replace('\\'', '\"')\n",
    "    df['types_list'][i] = json.loads(string2) \n",
    "    \n",
    "df['subjects_list'] = 0\n",
    "for i in df.index:\n",
    "    try:\n",
    "        #print(type(df['subjects'][i]))\n",
    "        string = df.subjects[i]\n",
    "        string2 = string.replace('\\'', '\"')\n",
    "        df['subjects_list'][i] = json.loads(string2)\n",
    "    except: pass"
   ]
  },
  {
   "cell_type": "code",
   "execution_count": 22,
   "id": "39b9874c-a220-492e-909a-6967ecb7e295",
   "metadata": {},
   "outputs": [
    {
     "data": {
      "text/html": [
       "<div>\n",
       "<style scoped>\n",
       "    .dataframe tbody tr th:only-of-type {\n",
       "        vertical-align: middle;\n",
       "    }\n",
       "\n",
       "    .dataframe tbody tr th {\n",
       "        vertical-align: top;\n",
       "    }\n",
       "\n",
       "    .dataframe thead th {\n",
       "        text-align: right;\n",
       "    }\n",
       "</style>\n",
       "<table border=\"1\" class=\"dataframe\">\n",
       "  <thead>\n",
       "    <tr style=\"text-align: right;\">\n",
       "      <th></th>\n",
       "      <th>identifier</th>\n",
       "      <th>title</th>\n",
       "      <th>creator</th>\n",
       "      <th>year</th>\n",
       "      <th>language</th>\n",
       "      <th>publisher</th>\n",
       "      <th>subjects</th>\n",
       "      <th>sets</th>\n",
       "      <th>types</th>\n",
       "      <th>rights</th>\n",
       "      <th>sets_list</th>\n",
       "      <th>types_list</th>\n",
       "      <th>subjects_list</th>\n",
       "    </tr>\n",
       "  </thead>\n",
       "  <tbody>\n",
       "    <tr>\n",
       "      <th>670</th>\n",
       "      <td>oai:www.e-rara.ch:6484231</td>\n",
       "      <td>Übersichtskarte des schweizerischen Pegel und ...</td>\n",
       "      <td>[s.n.]</td>\n",
       "      <td>1871</td>\n",
       "      <td>ger</td>\n",
       "      <td>Topogr. Anstalt v. Wurster, Randegger &amp; Cie</td>\n",
       "      <td>['FLUSSWASSERSTAND (HYDROLOGIE)', 'HYDROGEOLOG...</td>\n",
       "      <td>['zut', 'cartographic', 'collections', 'ch', '...</td>\n",
       "      <td>['Image', 'Map']</td>\n",
       "      <td>pdm</td>\n",
       "      <td>[zut, cartographic, collections, ch, ch19]</td>\n",
       "      <td>[Image, Map]</td>\n",
       "      <td>[FLUSSWASSERSTAND (HYDROLOGIE), HYDROGEOLOGISC...</td>\n",
       "    </tr>\n",
       "    <tr>\n",
       "      <th>671</th>\n",
       "      <td>oai:www.e-rara.ch:6484242</td>\n",
       "      <td>Reise- u. Touristen-Karte des Kantons Appenzel...</td>\n",
       "      <td>[s.n.]</td>\n",
       "      <td>189u</td>\n",
       "      <td>ger</td>\n",
       "      <td>E. Wagner</td>\n",
       "      <td>['KANTONE APPENZELL (SCHWEIZ)', 'TOURISTENKART...</td>\n",
       "      <td>['zut', 'cartographic', 'collections', 'ch', '...</td>\n",
       "      <td>['Image', 'Map']</td>\n",
       "      <td>pdm</td>\n",
       "      <td>[zut, cartographic, collections, ch, ch19]</td>\n",
       "      <td>[Image, Map]</td>\n",
       "      <td>[KANTONE APPENZELL (SCHWEIZ), TOURISTENKARTEN]</td>\n",
       "    </tr>\n",
       "    <tr>\n",
       "      <th>672</th>\n",
       "      <td>oai:www.e-rara.ch:6484254</td>\n",
       "      <td>Regenkarte der Schweiz : konstruiert nach den ...</td>\n",
       "      <td>Billwiller, Robert</td>\n",
       "      <td>1893</td>\n",
       "      <td>ger</td>\n",
       "      <td>Wurster &amp; Randegger</td>\n",
       "      <td>['FLÜSSIGER NIEDERSCHLAG, REGEN, NIESELN (METE...</td>\n",
       "      <td>['zut', 'cartographic', 'collections', 'ch', '...</td>\n",
       "      <td>['Image', 'Map']</td>\n",
       "      <td>pdm</td>\n",
       "      <td>[zut, cartographic, collections, ch, ch19]</td>\n",
       "      <td>[Image, Map]</td>\n",
       "      <td>[FLÜSSIGER NIEDERSCHLAG, REGEN, NIESELN (METEO...</td>\n",
       "    </tr>\n",
       "    <tr>\n",
       "      <th>673</th>\n",
       "      <td>oai:www.e-rara.ch:6484259</td>\n",
       "      <td>Archäologische Karte des Kantons Zürich</td>\n",
       "      <td>Heierli, Jacob</td>\n",
       "      <td>1894</td>\n",
       "      <td>ger</td>\n",
       "      <td>Verlag der Erziehungsdirection des Kantons Zürich</td>\n",
       "      <td>['Archäologie', 'ARCHÄOLOGISCHE KARTEN', 'KANT...</td>\n",
       "      <td>['zut', 'cartographic', 'collections', 'ch', '...</td>\n",
       "      <td>['Image', 'Map']</td>\n",
       "      <td>pdm</td>\n",
       "      <td>[zut, cartographic, collections, ch, ch19]</td>\n",
       "      <td>[Image, Map]</td>\n",
       "      <td>[Archäologie, ARCHÄOLOGISCHE KARTEN, KANTON ZÜ...</td>\n",
       "    </tr>\n",
       "    <tr>\n",
       "      <th>674</th>\n",
       "      <td>oai:www.e-rara.ch:6484265</td>\n",
       "      <td>Karte über die wichtigsten Industrien und Verk...</td>\n",
       "      <td>Steiner, J.</td>\n",
       "      <td>1882</td>\n",
       "      <td>ger</td>\n",
       "      <td>Wurster, Randegger &amp; Cie.</td>\n",
       "      <td>['Industrie', 'Verkehr', 'KARTEN ÜBER INDUSTRI...</td>\n",
       "      <td>['zut', 'cartographic', 'collections', 'ch', '...</td>\n",
       "      <td>['Image', 'Map']</td>\n",
       "      <td>pdm</td>\n",
       "      <td>[zut, cartographic, collections, ch, ch19]</td>\n",
       "      <td>[Image, Map]</td>\n",
       "      <td>[Industrie, Verkehr, KARTEN ÜBER INDUSTRIE, GE...</td>\n",
       "    </tr>\n",
       "  </tbody>\n",
       "</table>\n",
       "</div>"
      ],
      "text/plain": [
       "                    identifier  \\\n",
       "670  oai:www.e-rara.ch:6484231   \n",
       "671  oai:www.e-rara.ch:6484242   \n",
       "672  oai:www.e-rara.ch:6484254   \n",
       "673  oai:www.e-rara.ch:6484259   \n",
       "674  oai:www.e-rara.ch:6484265   \n",
       "\n",
       "                                                 title             creator  \\\n",
       "670  Übersichtskarte des schweizerischen Pegel und ...              [s.n.]   \n",
       "671  Reise- u. Touristen-Karte des Kantons Appenzel...              [s.n.]   \n",
       "672  Regenkarte der Schweiz : konstruiert nach den ...  Billwiller, Robert   \n",
       "673            Archäologische Karte des Kantons Zürich      Heierli, Jacob   \n",
       "674  Karte über die wichtigsten Industrien und Verk...         Steiner, J.   \n",
       "\n",
       "     year language                                          publisher  \\\n",
       "670  1871      ger        Topogr. Anstalt v. Wurster, Randegger & Cie   \n",
       "671  189u      ger                                          E. Wagner   \n",
       "672  1893      ger                                Wurster & Randegger   \n",
       "673  1894      ger  Verlag der Erziehungsdirection des Kantons Zürich   \n",
       "674  1882      ger                          Wurster, Randegger & Cie.   \n",
       "\n",
       "                                              subjects  \\\n",
       "670  ['FLUSSWASSERSTAND (HYDROLOGIE)', 'HYDROGEOLOG...   \n",
       "671  ['KANTONE APPENZELL (SCHWEIZ)', 'TOURISTENKART...   \n",
       "672  ['FLÜSSIGER NIEDERSCHLAG, REGEN, NIESELN (METE...   \n",
       "673  ['Archäologie', 'ARCHÄOLOGISCHE KARTEN', 'KANT...   \n",
       "674  ['Industrie', 'Verkehr', 'KARTEN ÜBER INDUSTRI...   \n",
       "\n",
       "                                                  sets             types  \\\n",
       "670  ['zut', 'cartographic', 'collections', 'ch', '...  ['Image', 'Map']   \n",
       "671  ['zut', 'cartographic', 'collections', 'ch', '...  ['Image', 'Map']   \n",
       "672  ['zut', 'cartographic', 'collections', 'ch', '...  ['Image', 'Map']   \n",
       "673  ['zut', 'cartographic', 'collections', 'ch', '...  ['Image', 'Map']   \n",
       "674  ['zut', 'cartographic', 'collections', 'ch', '...  ['Image', 'Map']   \n",
       "\n",
       "    rights                                   sets_list    types_list  \\\n",
       "670    pdm  [zut, cartographic, collections, ch, ch19]  [Image, Map]   \n",
       "671    pdm  [zut, cartographic, collections, ch, ch19]  [Image, Map]   \n",
       "672    pdm  [zut, cartographic, collections, ch, ch19]  [Image, Map]   \n",
       "673    pdm  [zut, cartographic, collections, ch, ch19]  [Image, Map]   \n",
       "674    pdm  [zut, cartographic, collections, ch, ch19]  [Image, Map]   \n",
       "\n",
       "                                         subjects_list  \n",
       "670  [FLUSSWASSERSTAND (HYDROLOGIE), HYDROGEOLOGISC...  \n",
       "671     [KANTONE APPENZELL (SCHWEIZ), TOURISTENKARTEN]  \n",
       "672  [FLÜSSIGER NIEDERSCHLAG, REGEN, NIESELN (METEO...  \n",
       "673  [Archäologie, ARCHÄOLOGISCHE KARTEN, KANTON ZÜ...  \n",
       "674  [Industrie, Verkehr, KARTEN ÜBER INDUSTRIE, GE...  "
      ]
     },
     "execution_count": 22,
     "metadata": {},
     "output_type": "execute_result"
    }
   ],
   "source": [
    "df[670:675]"
   ]
  },
  {
   "cell_type": "code",
   "execution_count": 23,
   "id": "7a8cc90b-8bf5-4b15-8159-602e5d596ca5",
   "metadata": {},
   "outputs": [
    {
     "name": "stdout",
     "output_type": "stream",
     "text": [
      "<class 'list'>\n",
      "<class 'list'>\n",
      "<class 'list'>\n"
     ]
    }
   ],
   "source": [
    "# Gegenprobe\n",
    "print(type(df.sets_list[3]))\n",
    "print(type(df.types_list[3]))\n",
    "print(type(df.subjects_list[3]))"
   ]
  },
  {
   "cell_type": "code",
   "execution_count": 24,
   "id": "6459e583-399f-4b56-b37d-ed829c06e39c",
   "metadata": {},
   "outputs": [
    {
     "data": {
      "text/plain": [
       "5806"
      ]
     },
     "execution_count": 24,
     "metadata": {},
     "output_type": "execute_result"
    }
   ],
   "source": [
    "# Auslesen allen Listenelmente in der gesamte Spalte \"sets_list\" und zusammenfassen in einer externen Gesamtliste \"sets_all\"\n",
    "sets_all = []\n",
    "for i in df.index:\n",
    "    sets_all.extend(df.sets_list[i])\n",
    "    \n",
    "len(sets_all)"
   ]
  },
  {
   "cell_type": "code",
   "execution_count": 25,
   "id": "236b6eee-3d21-4af9-8242-9578d00c3348",
   "metadata": {},
   "outputs": [
    {
     "data": {
      "text/plain": [
       "[('collections', 1038),\n",
       " ('ch', 1001),\n",
       " ('ch19', 1000),\n",
       " ('book', 711),\n",
       " ('zut', 603),\n",
       " ('wihibe', 361),\n",
       " ('cartographic', 243),\n",
       " ('sikjm', 188),\n",
       " ('sikjmc', 188),\n",
       " ('zuz', 143),\n",
       " ('profethz', 102),\n",
       " ('rheinau', 54),\n",
       " ('notated_music', 35),\n",
       " ('lg1', 30),\n",
       " ('ticinensia', 30),\n",
       " ('bes_1', 28),\n",
       " ('bernensia', 21),\n",
       " ('journal', 11),\n",
       " ('bau_1', 6),\n",
       " ('privlib', 4)]"
      ]
     },
     "execution_count": 25,
     "metadata": {},
     "output_type": "execute_result"
    }
   ],
   "source": [
    "# Auswertung von \"sets_all\"\n",
    "counter = collections.Counter(sets_all)\n",
    "counter.most_common(20)"
   ]
  },
  {
   "cell_type": "code",
   "execution_count": 26,
   "id": "076a6718-7eb6-42df-9570-ea4c54ab0e0b",
   "metadata": {},
   "outputs": [
    {
     "data": {
      "text/plain": [
       "2003"
      ]
     },
     "execution_count": 26,
     "metadata": {},
     "output_type": "execute_result"
    }
   ],
   "source": [
    "# Auslesen allen Listenelmente in der gesamte Spalte \"sets_list\" und zusammenfassen in einer externen Gesamtliste \"sets_all\"\n",
    "types_all = []\n",
    "for i in df.index:\n",
    "    types_all.extend(df.types_list[i])\n",
    "    \n",
    "len(types_all)"
   ]
  },
  {
   "cell_type": "code",
   "execution_count": 27,
   "id": "64b43c10-cffc-4478-a977-f70ab2494bc0",
   "metadata": {},
   "outputs": [
    {
     "data": {
      "text/plain": [
       "[('Text', 722),\n",
       " ('Book', 711),\n",
       " ('Image', 243),\n",
       " ('Map', 243),\n",
       " ('Other', 35),\n",
       " ('Music Print', 35),\n",
       " ('Periodical', 8),\n",
       " ('Zeitschrift', 2),\n",
       " ('Series', 2),\n",
       " ('Kinderbuch', 1),\n",
       " ('Bilderbuch', 1)]"
      ]
     },
     "execution_count": 27,
     "metadata": {},
     "output_type": "execute_result"
    }
   ],
   "source": [
    "# Auswerten von \"types_all\"\n",
    "counter = collections.Counter(types_all)\n",
    "counter.most_common()"
   ]
  },
  {
   "cell_type": "code",
   "execution_count": 28,
   "id": "9e8b99e8-fcd6-440b-b316-472fb0870f4b",
   "metadata": {},
   "outputs": [
    {
     "data": {
      "text/plain": [
       "962"
      ]
     },
     "execution_count": 28,
     "metadata": {},
     "output_type": "execute_result"
    }
   ],
   "source": [
    "# Analog für \"subjects_list\" -> externe GesamtListe \"subjects_all\" zur Auswertung\n",
    "subjects_all = []\n",
    "for i in df.index:\n",
    "    if type(df.subjects_list[i]) == list:\n",
    "        subjects_all.extend(df.subjects_list[i])\n",
    "        \n",
    "len(subjects_all)"
   ]
  },
  {
   "cell_type": "code",
   "execution_count": 29,
   "id": "7eaebc37-203a-48be-b32e-16c5b4dbe3f9",
   "metadata": {},
   "outputs": [
    {
     "data": {
      "text/plain": [
       "[('TOPOGRAPHISCHE KARTEN', 66),\n",
       " ('SCHWEIZ (MITTELEUROPA). SCHWEIZERISCHE EIDGENOSSENSCHAFT', 62),\n",
       " ('PANORAMENKARTEN', 45),\n",
       " ('ALTE KARTEN (VOR 1850)', 37),\n",
       " ('ZÜRICH, STADT (KANTON ZÜRICH)', 22),\n",
       " ('GEOLOGISCHE KARTEN', 22),\n",
       " ('KANTON ZÜRICH (SCHWEIZ)', 18),\n",
       " ('EISENBAHNKARTEN', 18),\n",
       " ('KARTOGRAPHISCHE LEHRMITTEL', 18),\n",
       " ('STADTPLÄNE + ORTSPLÄNE', 17),\n",
       " ('ÜBERSICHTSKARTEN', 16),\n",
       " ('PLÄNE (KARTENMATERIAL)', 11),\n",
       " ('NEUNZEHNTES JAHRHUNDERT N. CHR', 9),\n",
       " ('ZENTRALSCHWEIZ', 9),\n",
       " ('Eisenbahn', 9),\n",
       " ('RIGI (SCHWYZER ALPEN)', 9),\n",
       " ('WALDKARTEN', 8),\n",
       " ('VIERWALDSTÄTTER-SEE (ZENTRALSCHWEIZ)', 7),\n",
       " ('TOURISTENKARTEN', 7),\n",
       " ('GOTTHARDGRUPPE, GOTTHARDREGION (TESSINER ALPEN)', 6)]"
      ]
     },
     "execution_count": 29,
     "metadata": {},
     "output_type": "execute_result"
    }
   ],
   "source": [
    "# Auswertung von \"subjects_all\"\n",
    "counter = collections.Counter(subjects_all)\n",
    "counter.most_common(20)"
   ]
  },
  {
   "cell_type": "markdown",
   "id": "b665cd0a-be97-458f-9357-67cdcfe9a5da",
   "metadata": {},
   "source": [
    "### Start-Jahre auslesen"
   ]
  },
  {
   "cell_type": "code",
   "execution_count": 30,
   "id": "91ec6e4d-7d82-4a79-8394-7eef55151ff2",
   "metadata": {},
   "outputs": [
    {
     "data": {
      "text/plain": [
       "0      1833\n",
       "1      1842\n",
       "2      1840\n",
       "3      1840\n",
       "4      1806\n",
       "       ... \n",
       "995    1823\n",
       "996    1895\n",
       "997    1851\n",
       "998    1834\n",
       "999    1848\n",
       "Name: start_year, Length: 1000, dtype: int64"
      ]
     },
     "execution_count": 30,
     "metadata": {},
     "output_type": "execute_result"
    }
   ],
   "source": [
    "# Eine neue Spalte bilden mit dem einzigen bzw. erstgenannten Jahr = \"start_year\"\n",
    "\n",
    "df['start_year'] = 0\n",
    "for i in df.index:\n",
    "    match = re.search('(\\d+)', df.year[i])\n",
    "    if match:\n",
    "        y = match.group(1)\n",
    "    else:\n",
    "        y = 0\n",
    "    df['start_year'][i] = y\n",
    "df.start_year.astype('int')"
   ]
  },
  {
   "cell_type": "code",
   "execution_count": 31,
   "id": "664379c7-fb07-40d2-8d30-24df99615dd2",
   "metadata": {},
   "outputs": [
    {
     "data": {
      "text/html": [
       "<div>\n",
       "<style scoped>\n",
       "    .dataframe tbody tr th:only-of-type {\n",
       "        vertical-align: middle;\n",
       "    }\n",
       "\n",
       "    .dataframe tbody tr th {\n",
       "        vertical-align: top;\n",
       "    }\n",
       "\n",
       "    .dataframe thead th {\n",
       "        text-align: right;\n",
       "    }\n",
       "</style>\n",
       "<table border=\"1\" class=\"dataframe\">\n",
       "  <thead>\n",
       "    <tr style=\"text-align: right;\">\n",
       "      <th></th>\n",
       "      <th>identifier</th>\n",
       "      <th>title</th>\n",
       "      <th>creator</th>\n",
       "      <th>year</th>\n",
       "      <th>language</th>\n",
       "      <th>publisher</th>\n",
       "      <th>subjects</th>\n",
       "      <th>sets</th>\n",
       "      <th>types</th>\n",
       "      <th>rights</th>\n",
       "      <th>sets_list</th>\n",
       "      <th>types_list</th>\n",
       "      <th>subjects_list</th>\n",
       "      <th>start_year</th>\n",
       "    </tr>\n",
       "  </thead>\n",
       "  <tbody>\n",
       "    <tr>\n",
       "      <th>0</th>\n",
       "      <td>oai:www.e-rara.ch:14017</td>\n",
       "      <td>Funfzehn Ansichten der neuen St. Gotthards-Str...</td>\n",
       "      <td>Lusser, Karl Franz</td>\n",
       "      <td>1833</td>\n",
       "      <td>ger</td>\n",
       "      <td>bey Heinrich Füssli und Comp., Kunsthandlung z...</td>\n",
       "      <td>['ABBILDUNGEN UND BILDWERKE (DOKUMENTENTYP)', ...</td>\n",
       "      <td>['zut', 'book', 'collections', 'wihibe', 'ch',...</td>\n",
       "      <td>['Text', 'Book']</td>\n",
       "      <td>pdm</td>\n",
       "      <td>[zut, book, collections, wihibe, ch, ch19]</td>\n",
       "      <td>[Text, Book]</td>\n",
       "      <td>[ABBILDUNGEN UND BILDWERKE (DOKUMENTENTYP), GO...</td>\n",
       "      <td>1833</td>\n",
       "    </tr>\n",
       "    <tr>\n",
       "      <th>1</th>\n",
       "      <td>oai:www.e-rara.ch:34616</td>\n",
       "      <td>Der  Baugarten</td>\n",
       "      <td>Esslinger, Christoph</td>\n",
       "      <td>1842</td>\n",
       "      <td>ger</td>\n",
       "      <td>Verlag von Hermann Trachsler</td>\n",
       "      <td>['PANORAMENKARTEN', 'ZÜRICH, STADT (KANTON ZÜR...</td>\n",
       "      <td>['zut', 'book', 'collections', 'wihibe', 'ch',...</td>\n",
       "      <td>['Text', 'Book']</td>\n",
       "      <td>pdm</td>\n",
       "      <td>[zut, book, collections, wihibe, ch, ch19]</td>\n",
       "      <td>[Text, Book]</td>\n",
       "      <td>[PANORAMENKARTEN, ZÜRICH, STADT (KANTON ZÜRICH)]</td>\n",
       "      <td>1842</td>\n",
       "    </tr>\n",
       "    <tr>\n",
       "      <th>2</th>\n",
       "      <td>oai:www.e-rara.ch:34628</td>\n",
       "      <td>Der  Höckler und das Schlösschen Maneck : ein ...</td>\n",
       "      <td>Hardmeyer, Carl Wilhelm</td>\n",
       "      <td>1840</td>\n",
       "      <td>ger</td>\n",
       "      <td>bei Herrmann Trachsler</td>\n",
       "      <td>['PANORAMENKARTEN', 'ZÜRICH, STADT (KANTON ZÜR...</td>\n",
       "      <td>['zut', 'book', 'collections', 'wihibe', 'ch',...</td>\n",
       "      <td>['Text', 'Book']</td>\n",
       "      <td>pdm</td>\n",
       "      <td>[zut, book, collections, wihibe, ch, ch19]</td>\n",
       "      <td>[Text, Book]</td>\n",
       "      <td>[PANORAMENKARTEN, ZÜRICH, STADT (KANTON ZÜRICH)]</td>\n",
       "      <td>1840</td>\n",
       "    </tr>\n",
       "    <tr>\n",
       "      <th>3</th>\n",
       "      <td>oai:www.e-rara.ch:366308</td>\n",
       "      <td>Ergebnisse der trigonometrischen Vermessungen ...</td>\n",
       "      <td>Eschmann, Johannes</td>\n",
       "      <td>1840</td>\n",
       "      <td>ger</td>\n",
       "      <td>Orell, Füssli</td>\n",
       "      <td>['AARBERG, ORT (KANTON BERN)', 'BERN, STADT (K...</td>\n",
       "      <td>['zut', 'book', 'collections', 'wihibe', 'ch',...</td>\n",
       "      <td>['Text', 'Book']</td>\n",
       "      <td>pdm</td>\n",
       "      <td>[zut, book, collections, wihibe, ch, ch19, pri...</td>\n",
       "      <td>[Text, Book]</td>\n",
       "      <td>[AARBERG, ORT (KANTON BERN), BERN, STADT (KANT...</td>\n",
       "      <td>1840</td>\n",
       "    </tr>\n",
       "    <tr>\n",
       "      <th>4</th>\n",
       "      <td>oai:www.e-rara.ch:388892</td>\n",
       "      <td>Allgemeines Künstlerlexikon, oder: Kurze Nachr...</td>\n",
       "      <td>Füssli, Johann Rudolf</td>\n",
       "      <td>['1806', '1821']</td>\n",
       "      <td>ger</td>\n",
       "      <td>Orell, Füssli</td>\n",
       "      <td>NaN</td>\n",
       "      <td>['zut', 'book', 'collections', 'wihibe', 'ch',...</td>\n",
       "      <td>['Text', 'Book']</td>\n",
       "      <td>pdm</td>\n",
       "      <td>[zut, book, collections, wihibe, ch, ch19]</td>\n",
       "      <td>[Text, Book]</td>\n",
       "      <td>0</td>\n",
       "      <td>1806</td>\n",
       "    </tr>\n",
       "  </tbody>\n",
       "</table>\n",
       "</div>"
      ],
      "text/plain": [
       "                 identifier  \\\n",
       "0   oai:www.e-rara.ch:14017   \n",
       "1   oai:www.e-rara.ch:34616   \n",
       "2   oai:www.e-rara.ch:34628   \n",
       "3  oai:www.e-rara.ch:366308   \n",
       "4  oai:www.e-rara.ch:388892   \n",
       "\n",
       "                                               title                  creator  \\\n",
       "0  Funfzehn Ansichten der neuen St. Gotthards-Str...       Lusser, Karl Franz   \n",
       "1                                     Der  Baugarten     Esslinger, Christoph   \n",
       "2  Der  Höckler und das Schlösschen Maneck : ein ...  Hardmeyer, Carl Wilhelm   \n",
       "3  Ergebnisse der trigonometrischen Vermessungen ...       Eschmann, Johannes   \n",
       "4  Allgemeines Künstlerlexikon, oder: Kurze Nachr...    Füssli, Johann Rudolf   \n",
       "\n",
       "               year language  \\\n",
       "0              1833      ger   \n",
       "1              1842      ger   \n",
       "2              1840      ger   \n",
       "3              1840      ger   \n",
       "4  ['1806', '1821']      ger   \n",
       "\n",
       "                                           publisher  \\\n",
       "0  bey Heinrich Füssli und Comp., Kunsthandlung z...   \n",
       "1                       Verlag von Hermann Trachsler   \n",
       "2                             bei Herrmann Trachsler   \n",
       "3                                      Orell, Füssli   \n",
       "4                                      Orell, Füssli   \n",
       "\n",
       "                                            subjects  \\\n",
       "0  ['ABBILDUNGEN UND BILDWERKE (DOKUMENTENTYP)', ...   \n",
       "1  ['PANORAMENKARTEN', 'ZÜRICH, STADT (KANTON ZÜR...   \n",
       "2  ['PANORAMENKARTEN', 'ZÜRICH, STADT (KANTON ZÜR...   \n",
       "3  ['AARBERG, ORT (KANTON BERN)', 'BERN, STADT (K...   \n",
       "4                                                NaN   \n",
       "\n",
       "                                                sets             types rights  \\\n",
       "0  ['zut', 'book', 'collections', 'wihibe', 'ch',...  ['Text', 'Book']    pdm   \n",
       "1  ['zut', 'book', 'collections', 'wihibe', 'ch',...  ['Text', 'Book']    pdm   \n",
       "2  ['zut', 'book', 'collections', 'wihibe', 'ch',...  ['Text', 'Book']    pdm   \n",
       "3  ['zut', 'book', 'collections', 'wihibe', 'ch',...  ['Text', 'Book']    pdm   \n",
       "4  ['zut', 'book', 'collections', 'wihibe', 'ch',...  ['Text', 'Book']    pdm   \n",
       "\n",
       "                                           sets_list    types_list  \\\n",
       "0         [zut, book, collections, wihibe, ch, ch19]  [Text, Book]   \n",
       "1         [zut, book, collections, wihibe, ch, ch19]  [Text, Book]   \n",
       "2         [zut, book, collections, wihibe, ch, ch19]  [Text, Book]   \n",
       "3  [zut, book, collections, wihibe, ch, ch19, pri...  [Text, Book]   \n",
       "4         [zut, book, collections, wihibe, ch, ch19]  [Text, Book]   \n",
       "\n",
       "                                       subjects_list  start_year  \n",
       "0  [ABBILDUNGEN UND BILDWERKE (DOKUMENTENTYP), GO...        1833  \n",
       "1   [PANORAMENKARTEN, ZÜRICH, STADT (KANTON ZÜRICH)]        1842  \n",
       "2   [PANORAMENKARTEN, ZÜRICH, STADT (KANTON ZÜRICH)]        1840  \n",
       "3  [AARBERG, ORT (KANTON BERN), BERN, STADT (KANT...        1840  \n",
       "4                                                  0        1806  "
      ]
     },
     "execution_count": 31,
     "metadata": {},
     "output_type": "execute_result"
    }
   ],
   "source": [
    "# alternative Anzeige der ersten 5 Zeilen zu df.head(5)\n",
    "df[:5]"
   ]
  },
  {
   "cell_type": "code",
   "execution_count": 32,
   "id": "03ecf829-a574-4291-9dc3-a641defa5834",
   "metadata": {},
   "outputs": [
    {
     "data": {
      "text/plain": [
       "identifier       object\n",
       "title            object\n",
       "creator          object\n",
       "year             object\n",
       "language         object\n",
       "publisher        object\n",
       "subjects         object\n",
       "sets             object\n",
       "types            object\n",
       "rights           object\n",
       "sets_list        object\n",
       "types_list       object\n",
       "subjects_list    object\n",
       "start_year        int64\n",
       "dtype: object"
      ]
     },
     "execution_count": 32,
     "metadata": {},
     "output_type": "execute_result"
    }
   ],
   "source": [
    "# Datentypen in den Spalten: Es gibt einen neuen numerischen Datentyp, \"int64\".\n",
    "df.dtypes"
   ]
  },
  {
   "cell_type": "code",
   "execution_count": 33,
   "id": "87f19ef6-2493-46ae-8224-4d6394ca0e8f",
   "metadata": {},
   "outputs": [
    {
     "data": {
      "text/html": [
       "<div>\n",
       "<style scoped>\n",
       "    .dataframe tbody tr th:only-of-type {\n",
       "        vertical-align: middle;\n",
       "    }\n",
       "\n",
       "    .dataframe tbody tr th {\n",
       "        vertical-align: top;\n",
       "    }\n",
       "\n",
       "    .dataframe thead th {\n",
       "        text-align: right;\n",
       "    }\n",
       "</style>\n",
       "<table border=\"1\" class=\"dataframe\">\n",
       "  <thead>\n",
       "    <tr style=\"text-align: right;\">\n",
       "      <th></th>\n",
       "      <th>start_year</th>\n",
       "    </tr>\n",
       "  </thead>\n",
       "  <tbody>\n",
       "    <tr>\n",
       "      <th>count</th>\n",
       "      <td>1000.0</td>\n",
       "    </tr>\n",
       "    <tr>\n",
       "      <th>mean</th>\n",
       "      <td>1786.0</td>\n",
       "    </tr>\n",
       "    <tr>\n",
       "      <th>std</th>\n",
       "      <td>333.0</td>\n",
       "    </tr>\n",
       "    <tr>\n",
       "      <th>min</th>\n",
       "      <td>0.0</td>\n",
       "    </tr>\n",
       "    <tr>\n",
       "      <th>25%</th>\n",
       "      <td>1832.0</td>\n",
       "    </tr>\n",
       "    <tr>\n",
       "      <th>50%</th>\n",
       "      <td>1852.0</td>\n",
       "    </tr>\n",
       "    <tr>\n",
       "      <th>75%</th>\n",
       "      <td>1870.0</td>\n",
       "    </tr>\n",
       "    <tr>\n",
       "      <th>max</th>\n",
       "      <td>1900.0</td>\n",
       "    </tr>\n",
       "  </tbody>\n",
       "</table>\n",
       "</div>"
      ],
      "text/plain": [
       "       start_year\n",
       "count      1000.0\n",
       "mean       1786.0\n",
       "std         333.0\n",
       "min           0.0\n",
       "25%        1832.0\n",
       "50%        1852.0\n",
       "75%        1870.0\n",
       "max        1900.0"
      ]
     },
     "execution_count": 33,
     "metadata": {},
     "output_type": "execute_result"
    }
   ],
   "source": [
    "# statistischer Überblick über numerische Variablen \n",
    "# Jahreszahl Minimum \"0\"? Da stimmt noch etwas nicht\n",
    "\n",
    "df.describe().round(0)"
   ]
  },
  {
   "cell_type": "code",
   "execution_count": 34,
   "id": "10256393-04fc-47bc-83e2-0be2a1440cda",
   "metadata": {},
   "outputs": [
    {
     "data": {
      "text/html": [
       "<div>\n",
       "<style scoped>\n",
       "    .dataframe tbody tr th:only-of-type {\n",
       "        vertical-align: middle;\n",
       "    }\n",
       "\n",
       "    .dataframe tbody tr th {\n",
       "        vertical-align: top;\n",
       "    }\n",
       "\n",
       "    .dataframe thead th {\n",
       "        text-align: right;\n",
       "    }\n",
       "</style>\n",
       "<table border=\"1\" class=\"dataframe\">\n",
       "  <thead>\n",
       "    <tr style=\"text-align: right;\">\n",
       "      <th></th>\n",
       "      <th>identifier</th>\n",
       "      <th>title</th>\n",
       "      <th>creator</th>\n",
       "      <th>year</th>\n",
       "      <th>language</th>\n",
       "      <th>publisher</th>\n",
       "      <th>subjects</th>\n",
       "      <th>sets</th>\n",
       "      <th>types</th>\n",
       "      <th>rights</th>\n",
       "      <th>sets_list</th>\n",
       "      <th>types_list</th>\n",
       "      <th>subjects_list</th>\n",
       "      <th>start_year</th>\n",
       "    </tr>\n",
       "  </thead>\n",
       "  <tbody>\n",
       "    <tr>\n",
       "      <th>172</th>\n",
       "      <td>oai:www.e-rara.ch:3006210</td>\n",
       "      <td>Kleine Reisen in der Schweiz, für die Jugend b...</td>\n",
       "      <td>Meisner, Friedrich</td>\n",
       "      <td>uuuu</td>\n",
       "      <td>ger</td>\n",
       "      <td>J. J. Burgdorfer</td>\n",
       "      <td>NaN</td>\n",
       "      <td>['sikjm', 'journal', 'collections', 'sikjmc', ...</td>\n",
       "      <td>['Text', 'Series']</td>\n",
       "      <td>pdm</td>\n",
       "      <td>[sikjm, journal, collections, sikjmc, ch, ch19]</td>\n",
       "      <td>[Text, Series]</td>\n",
       "      <td>0</td>\n",
       "      <td>0</td>\n",
       "    </tr>\n",
       "  </tbody>\n",
       "</table>\n",
       "</div>"
      ],
      "text/plain": [
       "                    identifier  \\\n",
       "172  oai:www.e-rara.ch:3006210   \n",
       "\n",
       "                                                 title             creator  \\\n",
       "172  Kleine Reisen in der Schweiz, für die Jugend b...  Meisner, Friedrich   \n",
       "\n",
       "     year language         publisher subjects  \\\n",
       "172  uuuu      ger  J. J. Burgdorfer      NaN   \n",
       "\n",
       "                                                  sets               types  \\\n",
       "172  ['sikjm', 'journal', 'collections', 'sikjmc', ...  ['Text', 'Series']   \n",
       "\n",
       "    rights                                        sets_list      types_list  \\\n",
       "172    pdm  [sikjm, journal, collections, sikjmc, ch, ch19]  [Text, Series]   \n",
       "\n",
       "    subjects_list  start_year  \n",
       "172             0           0  "
      ]
     },
     "execution_count": 34,
     "metadata": {},
     "output_type": "execute_result"
    }
   ],
   "source": [
    "# Jahreszahl-Minimum \"0\" - was hat es damit auf sich? Anzeige dieser Datensätze...\n",
    "df[df.start_year==0]"
   ]
  },
  {
   "cell_type": "code",
   "execution_count": 35,
   "id": "2a21698e-2ab1-446f-9c4a-1b6d91803f15",
   "metadata": {},
   "outputs": [
    {
     "name": "stdout",
     "output_type": "stream",
     "text": [
      "185\n",
      "186\n",
      "0\n",
      "18\n",
      "183\n",
      "18\n",
      "18\n",
      "18\n",
      "18\n",
      "18\n",
      "18\n",
      "18\n",
      "188\n",
      "189\n",
      "189\n",
      "189\n",
      "188\n",
      "187\n",
      "18\n",
      "188\n",
      "188\n",
      "188\n",
      "189\n",
      "189\n",
      "18\n",
      "186\n",
      "187\n",
      "18\n",
      "18\n",
      "18\n",
      "182\n",
      "188\n",
      "18\n",
      "185\n",
      "186\n",
      "186\n",
      "189\n",
      "18\n"
     ]
    }
   ],
   "source": [
    "# Weitere Überprüfung: Zeige alle Startjahre, die kleiner sind als 1800 ODER weniger Stellen haben als 4\n",
    "# -> entsprechend auskommentieren\n",
    "\n",
    "for i in df.index:\n",
    "    #if df.start_year[i] < 1800:\n",
    "    if len(str(df.start_year[i])) < 4:\n",
    "        print(df.start_year[i])"
   ]
  },
  {
   "cell_type": "code",
   "execution_count": 36,
   "id": "6308d911-d129-4371-8ad5-9e3f41dfb955",
   "metadata": {},
   "outputs": [
    {
     "data": {
      "text/plain": [
       "0      1833\n",
       "1      1842\n",
       "2      1840\n",
       "3      1840\n",
       "4      1806\n",
       "       ... \n",
       "995    1823\n",
       "996    1895\n",
       "997    1851\n",
       "998    1834\n",
       "999    1848\n",
       "Name: start_year, Length: 1000, dtype: int64"
      ]
     },
     "execution_count": 36,
     "metadata": {},
     "output_type": "execute_result"
    }
   ],
   "source": [
    "# Ergänzen der \"18\"-Werte zu \"1850\"\n",
    "# Auffüllen der übrigen Jahreszahlen mit weniger als 4 Stellen mit Nullen\n",
    "\n",
    "for i in df.index:\n",
    "    if len(str(df.start_year[i])) < 4:\n",
    "        if str(df.start_year[i]) == '18':\n",
    "            df.start_year[i] = '1850'\n",
    "        else:\n",
    "            n = 4 - len(str(df.start_year[i]))\n",
    "            df.start_year[i] = str(df.start_year[i]) + n * (str(0))\n",
    "df.start_year.astype('int')"
   ]
  },
  {
   "cell_type": "code",
   "execution_count": 37,
   "id": "320a9718-2a4e-48e2-8f97-25e954ef0bc1",
   "metadata": {},
   "outputs": [
    {
     "name": "stdout",
     "output_type": "stream",
     "text": [
      "0\n",
      "1774\n",
      "1794\n",
      "1793\n",
      "1790\n",
      "1796\n",
      "1799\n"
     ]
    }
   ],
   "source": [
    "# Gegenprobe: Nochmal alle Jahreszahlen < 1800 oder mit weniger als 4 Stellen\n",
    "\n",
    "for i in df.index:\n",
    "    if df.start_year[i] < 1800:\n",
    "    #if len(str(df.start_year[i])) < 4:\n",
    "        print(df.start_year[i])"
   ]
  },
  {
   "cell_type": "code",
   "execution_count": 38,
   "id": "de02efda-26d4-4dc3-b497-f528c8693907",
   "metadata": {},
   "outputs": [],
   "source": [
    "# Die \"0\" stört aber weiterhin, z.B. bei statistischen Auswertungen, daher:\n",
    "# Transformation der \"0\" in einen richtigen Null-Wert, d.h. ein \"Nicht-Vorhanden-Wert\"\n",
    "\n",
    "for i in df.index:\n",
    "    if df.start_year[i] == 0:\n",
    "        df.start_year[i] = None"
   ]
  },
  {
   "cell_type": "code",
   "execution_count": 39,
   "id": "ee1dbe4a-277d-4c27-9c0a-9deda27f9215",
   "metadata": {},
   "outputs": [
    {
     "data": {
      "text/html": [
       "<div>\n",
       "<style scoped>\n",
       "    .dataframe tbody tr th:only-of-type {\n",
       "        vertical-align: middle;\n",
       "    }\n",
       "\n",
       "    .dataframe tbody tr th {\n",
       "        vertical-align: top;\n",
       "    }\n",
       "\n",
       "    .dataframe thead th {\n",
       "        text-align: right;\n",
       "    }\n",
       "</style>\n",
       "<table border=\"1\" class=\"dataframe\">\n",
       "  <thead>\n",
       "    <tr style=\"text-align: right;\">\n",
       "      <th></th>\n",
       "      <th>start_year</th>\n",
       "    </tr>\n",
       "  </thead>\n",
       "  <tbody>\n",
       "    <tr>\n",
       "      <th>count</th>\n",
       "      <td>999.0</td>\n",
       "    </tr>\n",
       "    <tr>\n",
       "      <th>mean</th>\n",
       "      <td>1852.0</td>\n",
       "    </tr>\n",
       "    <tr>\n",
       "      <th>std</th>\n",
       "      <td>25.0</td>\n",
       "    </tr>\n",
       "    <tr>\n",
       "      <th>min</th>\n",
       "      <td>1774.0</td>\n",
       "    </tr>\n",
       "    <tr>\n",
       "      <th>25%</th>\n",
       "      <td>1837.0</td>\n",
       "    </tr>\n",
       "    <tr>\n",
       "      <th>50%</th>\n",
       "      <td>1853.0</td>\n",
       "    </tr>\n",
       "    <tr>\n",
       "      <th>75%</th>\n",
       "      <td>1871.0</td>\n",
       "    </tr>\n",
       "    <tr>\n",
       "      <th>max</th>\n",
       "      <td>1900.0</td>\n",
       "    </tr>\n",
       "  </tbody>\n",
       "</table>\n",
       "</div>"
      ],
      "text/plain": [
       "       start_year\n",
       "count       999.0\n",
       "mean       1852.0\n",
       "std          25.0\n",
       "min        1774.0\n",
       "25%        1837.0\n",
       "50%        1853.0\n",
       "75%        1871.0\n",
       "max        1900.0"
      ]
     },
     "execution_count": 39,
     "metadata": {},
     "output_type": "execute_result"
    }
   ],
   "source": [
    "# Nun sieht die statistische Auswertung für \"start_year\" valide aus.\n",
    "df.describe().round()"
   ]
  },
  {
   "cell_type": "code",
   "execution_count": 40,
   "id": "889262b8-4397-473c-82a0-bbeb74806ecc",
   "metadata": {},
   "outputs": [
    {
     "data": {
      "text/plain": [
       "[(1850.0, 47),\n",
       " (1856.0, 28),\n",
       " (1853.0, 24),\n",
       " (1857.0, 23),\n",
       " (1880.0, 22),\n",
       " (1851.0, 21),\n",
       " (1855.0, 20),\n",
       " (1841.0, 20),\n",
       " (1822.0, 20),\n",
       " (1840.0, 19)]"
      ]
     },
     "execution_count": 40,
     "metadata": {},
     "output_type": "execute_result"
    }
   ],
   "source": [
    "# Wie sehen die 10 häufigsten Werte für \"start_year\" nun aus und wie oft tauchen diese auf?\n",
    "counter = collections.Counter(df.start_year)\n",
    "counter.most_common(10)"
   ]
  },
  {
   "cell_type": "markdown",
   "id": "793eb5df-4543-4cf2-a93f-f765c34617fe",
   "metadata": {},
   "source": [
    "## Visualisierungen"
   ]
  },
  {
   "cell_type": "markdown",
   "id": "2a57cab4-99f2-41ed-a1d8-7c15dd6de62b",
   "metadata": {},
   "source": [
    "### Visualisierungen mit Pandas\n",
    "\n",
    "Pandas nutzt im Hintergrund Matplotlib um Daten zu visualisieren. Im User Guide von Pandas gibt es einen Abschnitt zum Thema Diagramme: https://pandas.pydata.org/docs/user_guide/visualization.html."
   ]
  },
  {
   "cell_type": "code",
   "execution_count": 41,
   "id": "f7e09224-aa35-4ac4-a5bb-77181b8d6b50",
   "metadata": {},
   "outputs": [
    {
     "data": {
      "image/png": "[encoded data removed]",
      "text/plain": [
       "<Figure size 576x288 with 1 Axes>"
      ]
     },
     "metadata": {
      "needs_background": "light"
     },
     "output_type": "display_data"
    }
   ],
   "source": [
    "# Streudiagramm\n",
    "ax = df.plot(x='start_year', y='language', kind='scatter', s=2.5, figsize=(8,4))"
   ]
  },
  {
   "cell_type": "code",
   "execution_count": 42,
   "id": "aca31d8c-8c20-4274-8359-6f06ab838c87",
   "metadata": {},
   "outputs": [
    {
     "data": {
      "image/png": "[encoded data removed]",
      "text/plain": [
       "<Figure size 432x288 with 1 Axes>"
      ]
     },
     "metadata": {
      "needs_background": "light"
     },
     "output_type": "display_data"
    }
   ],
   "source": [
    "# eine numerische Variable plotten\n",
    "ax = df.start_year.plot(color='darkgrey', figsize=(6,4))"
   ]
  },
  {
   "cell_type": "code",
   "execution_count": 43,
   "id": "50732793-fb63-40e6-ba57-3c6619c58257",
   "metadata": {},
   "outputs": [
    {
     "data": {
      "image/png": "[encoded data removed]",
      "text/plain": [
       "<Figure size 432x288 with 1 Axes>"
      ]
     },
     "metadata": {
      "needs_background": "light"
     },
     "output_type": "display_data"
    }
   ],
   "source": [
    "# Histogramm (hier: 10 Klassen/Intervalle)\n",
    "ax = df.start_year.plot(kind='hist', bins=20, color='lightgreen')                                "
   ]
  },
  {
   "cell_type": "code",
   "execution_count": 44,
   "id": "5ec6e748-f25a-4b67-a40d-80d85fc173ea",
   "metadata": {},
   "outputs": [
    {
     "data": {
      "image/png": "[encoded data removed]",
      "text/plain": [
       "<Figure size 600x400 with 1 Axes>"
      ]
     },
     "metadata": {
      "needs_background": "light"
     },
     "output_type": "display_data"
    }
   ],
   "source": [
    "# Kasten-Diagramm (box whisker plot)\n",
    "figure(dpi=100)\n",
    "ax = df.start_year.plot(kind='box', vert=False)"
   ]
  },
  {
   "cell_type": "code",
   "execution_count": 45,
   "id": "18932206-305d-47da-8ce0-cd4ae12e79bc",
   "metadata": {},
   "outputs": [
    {
     "data": {
      "image/png": "[encoded data removed]",
      "text/plain": [
       "<Figure size 432x288 with 1 Axes>"
      ]
     },
     "metadata": {
      "needs_background": "light"
     },
     "output_type": "display_data"
    }
   ],
   "source": [
    "# Dichte-Diagramm\n",
    "ax = df.start_year.plot(kind='density')"
   ]
  },
  {
   "cell_type": "code",
   "execution_count": 46,
   "id": "39c6bcac-b5e0-4d37-a28e-7e7016f6e088",
   "metadata": {},
   "outputs": [
    {
     "data": {
      "image/png": "[encoded data removed]",
      "text/plain": [
       "<Figure size 432x288 with 1 Axes>"
      ]
     },
     "metadata": {
      "needs_background": "light"
     },
     "output_type": "display_data"
    }
   ],
   "source": [
    "# Balkendiagramm für \"language\"\n",
    "ax = df.language.value_counts().plot(kind='bar', color='darkred', figsize=(6,4))"
   ]
  },
  {
   "cell_type": "code",
   "execution_count": 47,
   "id": "fe36410c-0fdc-48e4-9af6-251fa81495ec",
   "metadata": {},
   "outputs": [
    {
     "data": {
      "image/png": "[encoded data removed]",
      "text/plain": [
       "<Figure size 720x480 with 1 Axes>"
      ]
     },
     "metadata": {},
     "output_type": "display_data"
    }
   ],
   "source": [
    "# Tortendiagramm\n",
    "figure(dpi=120)\n",
    "ax = df.language.value_counts().plot(kind='pie')    "
   ]
  },
  {
   "cell_type": "code",
   "execution_count": 48,
   "id": "f8f2935b-9840-4965-bfa2-8ffb3c6f2b8d",
   "metadata": {},
   "outputs": [
    {
     "data": {
      "image/png": "[encoded data removed]",
      "text/plain": [
       "<Figure size 720x432 with 1 Axes>"
      ]
     },
     "metadata": {
      "needs_background": "light"
     },
     "output_type": "display_data"
    }
   ],
   "source": [
    "# Gruppiertes Kastendiagramm \n",
    "ax = df.boxplot(column='start_year', by='language', vert=False, grid=False, rot=30, fontsize=14, figsize=(10,6))"
   ]
  },
  {
   "cell_type": "markdown",
   "id": "4412cd74-9e85-496a-967f-e2b71b93ccff",
   "metadata": {},
   "source": [
    "### Visualisierungen mit Seaborn\n",
    "\n",
    "Siehe auch die umfangreiche Dokumentation von Seaborn: https://seaborn.pydata.org/index.html."
   ]
  },
  {
   "cell_type": "code",
   "execution_count": 49,
   "id": "97e58f8f-a94c-4839-9ac3-ab730d59fb14",
   "metadata": {},
   "outputs": [
    {
     "data": {
      "image/png": "[encoded data removed]",
      "text/plain": [
       "<Figure size 648x432 with 1 Axes>"
      ]
     },
     "metadata": {
      "needs_background": "light"
     },
     "output_type": "display_data"
    }
   ],
   "source": [
    "# Gruppiertes Kastendiagramm mit Seaborn\n",
    "figure(figsize=(9, 6))\n",
    "ax = sns.boxplot(y='types', x='start_year', data=df, orient='h', palette='Set3')"
   ]
  },
  {
   "cell_type": "code",
   "execution_count": 50,
   "id": "5a9b737a-1834-45be-804c-ab70b80fca0e",
   "metadata": {},
   "outputs": [
    {
     "data": {
      "image/png": "[encoded data removed]",
      "text/plain": [
       "<Figure size 432x288 with 2 Axes>"
      ]
     },
     "metadata": {
      "needs_background": "light"
     },
     "output_type": "display_data"
    }
   ],
   "source": [
    "# Heatmap mit Seaborn: Types vs. Language\n",
    "ct = pd.crosstab( df['types'], df['language'])\n",
    "ax = sns.heatmap(ct, annot=True, fmt='d', cmap='magma_r', linewidths=.5)"
   ]
  },
  {
   "cell_type": "markdown",
   "id": "632538a7-92de-4601-8079-e0f4c4ffc7be",
   "metadata": {},
   "source": [
    "### Visualisierungen mit Matplotlib\n",
    "\n",
    "Zur umfangreichen Dokumentation von Matplotlib siehe hier: https://matplotlib.org/."
   ]
  },
  {
   "cell_type": "code",
   "execution_count": 51,
   "id": "4d126c00-86e2-49fd-bdc3-f1fcd1f4bc72",
   "metadata": {},
   "outputs": [
    {
     "data": {
      "image/png": "[encoded data removed]",
      "text/plain": [
       "<Figure size 720x480 with 1 Axes>"
      ]
     },
     "metadata": {
      "needs_background": "light"
     },
     "output_type": "display_data"
    }
   ],
   "source": [
    "# Visualisierung von \"sets_all\"\n",
    "counter = collections.Counter(sets_all)\n",
    "sets = counter.most_common(20)\n",
    "x, y = zip(*sets)\n",
    "\n",
    "figure(dpi=120)\n",
    "plt.barh(x, y, color='violet')\n",
    "plt.show()"
   ]
  },
  {
   "cell_type": "code",
   "execution_count": 52,
   "id": "7d4f4a0d-e5dd-45d1-b7e5-653808f2758f",
   "metadata": {},
   "outputs": [
    {
     "data": {
      "image/png": "[encoded data removed]",
      "text/plain": [
       "<Figure size 480x320 with 1 Axes>"
      ]
     },
     "metadata": {
      "needs_background": "light"
     },
     "output_type": "display_data"
    }
   ],
   "source": [
    "# Visualisierung von \"subjects_all\"\n",
    "counter = collections.Counter(subjects_all)\n",
    "subjects = counter.most_common(10)\n",
    "x, y = zip(*subjects)\n",
    "\n",
    "figure(dpi=80)\n",
    "plt.barh(x, y, color='teal')\n",
    "plt.show()"
   ]
  },
  {
   "cell_type": "code",
   "execution_count": 53,
   "id": "06540d01-cc74-4e84-bf87-f42b106246f4",
   "metadata": {},
   "outputs": [
    {
     "data": {
      "image/png": "[encoded data removed]",
      "text/plain": [
       "<Figure size 600x400 with 1 Axes>"
      ]
     },
     "metadata": {
      "needs_background": "light"
     },
     "output_type": "display_data"
    }
   ],
   "source": [
    "# Visualisierung von \"types\"\n",
    "counter = collections.Counter(types_all)\n",
    "types = counter.most_common(20)\n",
    "x, y = zip(*types)\n",
    "\n",
    "figure(dpi=100)\n",
    "plt.barh(x, y, color='gold')\n",
    "plt.show()"
   ]
  }
 ],
 "metadata": {
  "kernelspec": {
   "display_name": "Python 3 (ipykernel)",
   "language": "python",
   "name": "python3"
  },
  "language_info": {
   "codemirror_mode": {
    "name": "ipython",
    "version": 3
   },
   "file_extension": ".py",
   "mimetype": "text/x-python",
   "name": "python",
   "nbconvert_exporter": "python",
   "pygments_lexer": "ipython3",
   "version": "3.8.10"
  }
 },
 "nbformat": 4,
 "nbformat_minor": 5
}
