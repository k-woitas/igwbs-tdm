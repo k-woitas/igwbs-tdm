{
 "cells": [
  {
   "cell_type": "markdown",
   "id": "e9c7849e-766f-42e2-a495-c357de2e5f27",
   "metadata": {},
   "source": [
    "# TDM for IGWBS 1: Daten von der OAI-Schnittstelle von e-rara"
   ]
  },
  {
   "cell_type": "markdown",
   "id": "f8a1492e-27d2-44ed-ae92-456e75c3d239",
   "metadata": {},
   "source": [
    "## Womit arbeiten wir hier eigentlich?"
   ]
  },
  {
   "cell_type": "code",
   "execution_count": 1,
   "id": "b62e01fb-347e-4f77-be78-de1b0b8a7d4c",
   "metadata": {},
   "outputs": [
    {
     "name": "stdout",
     "output_type": "stream",
     "text": [
      "Python 3.8.10\n"
     ]
    }
   ],
   "source": [
    "!python --version"
   ]
  },
  {
   "cell_type": "code",
   "execution_count": 2,
   "id": "f63daf93-8ac1-416b-a119-d290bd90beb4",
   "metadata": {},
   "outputs": [],
   "source": [
    "# vorinstallierte Libraries - bei Interesse \"#\" vor dem Code entfernen und ausführen\n",
    "#!pip list"
   ]
  },
  {
   "cell_type": "code",
   "execution_count": 3,
   "id": "47b9653e-6cb3-45ed-b811-349404c11dd4",
   "metadata": {},
   "outputs": [
    {
     "name": "stdout",
     "output_type": "stream",
     "text": [
      "Defaulting to user installation because normal site-packages is not writeable\n",
      "Requirement already satisfied: beautifulsoup4 in /home/.local/lib/python3.8/site-packages (4.11.1)\n",
      "Requirement already satisfied: soupsieve>1.2 in /home/.local/lib/python3.8/site-packages (from beautifulsoup4) (2.3.2.post1)\n"
     ]
    }
   ],
   "source": [
    "# Installation fehlender Libraries\n",
    "!pip install beautifulsoup4 "
   ]
  },
  {
   "cell_type": "code",
   "execution_count": 4,
   "id": "4810ce6e-83af-4106-b6e2-810330cc73bc",
   "metadata": {},
   "outputs": [
    {
     "name": "stdout",
     "output_type": "stream",
     "text": [
      "Alle Libraries erfolgreich importiert\n"
     ]
    }
   ],
   "source": [
    "# Import der (installierten) Libraries, die im Nachfolgenden benutzt werden\n",
    "\n",
    "from IPython.display import IFrame              # Webpages in Jupyter Notebook anzeigen/einbetten\n",
    "import requests                                 # Web-URLs abfragen\n",
    "from bs4 import BeautifulSoup as soup           # Webscraping und HTML/XML parsen\n",
    "import lxml                                     # XML Parser für Beautiful Soup\n",
    "                                                \n",
    "import os                                       # System und z.B. Ordner navigieren und manipulieren \n",
    "import re                                       # mit Regex (Regular Expressions) arbeiten\n",
    "import pandas as pd                             # Standard Library für Dataframes (tabelleartige Datenstrukturen)\n",
    "print(\"Alle Libraries erfolgreich importiert\")"
   ]
  },
  {
   "cell_type": "markdown",
   "id": "6812ba6c-e63a-4521-99e6-3ff94beb49a2",
   "metadata": {
    "tags": []
   },
   "source": [
    "## Wie sieht die OAI-Schnittstelle im Web aus?\n",
    "\n",
    "Die OAI-Schnittstelle von e-rara ist frei zugänglich: ES braucht keine Registrierung oder API Key zur Nutzung der Daten. Diese stehen unter [freien Lizenzen](https://www.e-rara.ch/wiki/termsOfUse) zur Verfügung.\n",
    "\n",
    "Mit`IFrame` können Websites in einem Jupyter Notebook angezeigt/eingebunden werden, so auch die OAI-Startseite von e-rara, `https://www.e-rara.ch/oai?verb=Identify`.\n",
    "\n",
    "Probieren Sie verschiedene **OAI verbs** in der OAI-URL im Code unten aus:\n",
    "* `Identify`\n",
    "* `ListMetadataFormats`\n",
    "* `ListSets`."
   ]
  },
  {
   "cell_type": "code",
   "execution_count": 5,
   "id": "72a2588c-0bba-4a62-a245-ff6de5c0ee42",
   "metadata": {},
   "outputs": [
    {
     "data": {
      "text/html": [
       "\n",
       "        <iframe\n",
       "            width=\"820\"\n",
       "            height=\"300\"\n",
       "            src=\"https://www.e-rara.ch/oai?verb=Identify\"\n",
       "            frameborder=\"0\"\n",
       "            allowfullscreen\n",
       "        ></iframe>\n",
       "        "
      ],
      "text/plain": [
       "<IPython.lib.display.IFrame at 0x7f69f05dcf10>"
      ]
     },
     "execution_count": 5,
     "metadata": {},
     "output_type": "execute_result"
    }
   ],
   "source": [
    "# Identify = Startseite der OAI-Schnittstelle\n",
    "IFrame('https://www.e-rara.ch/oai?verb=Identify', width=820, height=300)"
   ]
  },
  {
   "cell_type": "markdown",
   "id": "398d932e-d191-430c-94a4-d56123d74aa3",
   "metadata": {},
   "source": [
    "Mit dem OAI verb `GetRecord` und dem entsprechenden **e-rara-Identifier** lassen sich einfach die Metadaten eines bestimmten Titels anzeigen.\n",
    "\n",
    "In der URL des Titel auf der e-rara-Plattform, z.B. https://www.e-rara.ch/zut/content/titleinfo/26079348, ist der e-rara-Identifier enthalten, im Beispiel: `26079348`.\n",
    "\n",
    "Probieren Sie verschiedene Metadatenstandards aus. Diese lassen sich mit dem Parameter `metadataPrefix` in der URL einfach variieren:\n",
    "* `oai_dc` - [Simple Dublin Core](http://purl.org/dc/elements/1.1/)\n",
    "* `mods` - [MODS](https://www.loc.gov/standards/mods/)\n",
    "* `mets`- [METS](https://www.loc.gov/standards/mets/)\n",
    "\n",
    "Und natürlich können Sie auch andere e-rara-Identifier ausprobieren,z.B. `26079348`!"
   ]
  },
  {
   "cell_type": "code",
   "execution_count": 6,
   "id": "14d860fb-93ea-4e8b-8b79-b8f85222621a",
   "metadata": {},
   "outputs": [
    {
     "data": {
      "text/html": [
       "\n",
       "        <iframe\n",
       "            width=\"820\"\n",
       "            height=\"300\"\n",
       "            src=\"https://www.e-rara.ch/oai?verb=GetRecord&metadataPrefix=oai_dc&identifier=20329783\"\n",
       "            frameborder=\"0\"\n",
       "            allowfullscreen\n",
       "        ></iframe>\n",
       "        "
      ],
      "text/plain": [
       "<IPython.lib.display.IFrame at 0x7f6995f405e0>"
      ]
     },
     "execution_count": 6,
     "metadata": {},
     "output_type": "execute_result"
    }
   ],
   "source": [
    "# Beipieldatensatz aus e-rara\n",
    "IFrame('https://www.e-rara.ch/oai?verb=GetRecord&metadataPrefix=oai_dc&identifier=20329783', width=820, height=300)"
   ]
  },
  {
   "cell_type": "markdown",
   "id": "82aebd2f-ba81-4ecc-a9f4-0075519789c2",
   "metadata": {},
   "source": [
    "## XML-Daten von der OAI-Schnittstelle beziehen\n",
    "\n",
    "Bisher haben wir die **Metadaten im  XML-Format** nur auf einer Website angezeigt erhalten - nun greifen wir direkt auf diese Daten zu, d.h. laden sie herunter und speichern sie in Dateien. Hierfür werden zwei kleine Funktionen definiert: `load_xml`und `download_record`. Bei Letzterem wird das OAI verb `GetRecord` benutzt."
   ]
  },
  {
   "cell_type": "code",
   "execution_count": 7,
   "id": "81a352c3-eab8-4670-b60b-4dd1b9e6a57f",
   "metadata": {},
   "outputs": [],
   "source": [
    "# Basis-URL der OAI-Schnittstelle als definierte Variable macht die weitere Verwendung einfacher\n",
    "oai = 'https://www.e-rara.ch/oai'"
   ]
  },
  {
   "cell_type": "code",
   "execution_count": 8,
   "id": "17902ae1-4988-4ab2-8ad2-bd0ce9c69862",
   "metadata": {},
   "outputs": [],
   "source": [
    "# allgemeine Funktion zur Datenabfrage der OAI-Schnittstelle und Dekodierung in XML\n",
    "def load_xml(params):\n",
    "    '''\n",
    "    Accesses the OAI interface according to given parameters and scrapes its content.\n",
    "    Parameters:\n",
    "    All available native OAI verbs and parameter/value pairs.\n",
    "    '''\n",
    "    base_url = oai\n",
    "    response = requests.get(base_url, params=params)\n",
    "    output_soup = soup(response.content, features=\"xml\")   #\"lxml\"\n",
    "    return output_soup"
   ]
  },
  {
   "cell_type": "code",
   "execution_count": 9,
   "id": "1e4cd158-7584-4451-942b-c82ff82043b7",
   "metadata": {},
   "outputs": [
    {
     "data": {
      "text/plain": [
       "<?xml version=\"1.0\" encoding=\"utf-8\"?>\n",
       "<OAI-PMH xmlns=\"http://www.openarchives.org/OAI/2.0/\" xmlns:xsi=\"http://www.w3.org/2001/XMLSchema-instance\" xsi:schemaLocation=\"http://www.openarchives.org/OAI/2.0/ http://www.openarchives.org/OAI/2.0/OAI-PMH.xsd\"><responseDate>2022-06-14T15:22:59Z</responseDate><request verb=\"Identify\">https://www.e-rara.ch/oai/</request><Identify><repositoryName>Visual Library Server</repositoryName><baseURL>https://www.e-rara.ch/oai/</baseURL><protocolVersion>2.0</protocolVersion><adminEmail>issue-erara@library.ethz.ch</adminEmail><earliestDatestamp>2009-11-10T09:38:31Z</earliestDatestamp><deletedRecord>no</deletedRecord><granularity>YYYY-MM-DDThh:mm:ssZ</granularity></Identify></OAI-PMH>"
      ]
     },
     "execution_count": 9,
     "metadata": {},
     "output_type": "execute_result"
    }
   ],
   "source": [
    "# \"load_xml\"-Funktion benötigt die Parameter, die in den URLs oben angehängt wurden\n",
    "xml_soup = load_xml({'verb': 'Identify'})\n",
    "xml_soup"
   ]
  },
  {
   "cell_type": "code",
   "execution_count": 10,
   "id": "c446be0f-6de3-49a0-afd6-16d70115d906",
   "metadata": {},
   "outputs": [
    {
     "data": {
      "text/plain": [
       "<?xml version=\"1.0\" encoding=\"utf-8\"?>\n",
       "<OAI-PMH xmlns=\"http://www.openarchives.org/OAI/2.0/\" xmlns:xsi=\"http://www.w3.org/2001/XMLSchema-instance\" xsi:schemaLocation=\"http://www.openarchives.org/OAI/2.0/ http://www.openarchives.org/OAI/2.0/OAI-PMH.xsd\"><responseDate>2022-06-14T15:22:59Z</responseDate><request identifier=\"26079348\" metadataPrefix=\"oai_dc\" verb=\"GetRecord\">https://www.e-rara.ch/oai/</request><GetRecord><record><header><identifier>oai:www.e-rara.ch:26079348</identifier><datestamp>2021-10-27T06:45:24Z</datestamp><setSpec>zut</setSpec><setSpec>book</setSpec></header><metadata><oai_dc:dc xmlns:dc=\"http://purl.org/dc/elements/1.1/\" xmlns:oai_dc=\"http://www.openarchives.org/OAI/2.0/oai_dc/\" xmlns:xsi=\"http://www.w3.org/2001/XMLSchema-instance\" xsi:schemaLocation=\"http://www.openarchives.org/OAI/2.0/oai_dc/ http://www.openarchives.org/OAI/2.0/oai_dc.xsd\"><dc:title>Handbuch der Bibliothekswissenschaft, der Literatur- und Bücherkunde : eine gedrängte Uebersicht der Handschriftenkunde, der Geschichte der Buchdruckerkunst und des Buchhandels, der Bücherkenntniss  (Bibliographie) im engern Sinne, der Bibliothekenkunde und Bibliothekonomie und der literärhistorischen und bibliograpischen Schriften ; für Studirende und Freunde der Literatur überhaupt und für Bibliothekare, Buchhändler, Antiquare und Buchdrucker insbesondere</dc:title><dc:creator>Schmidt, Johann August Friedrich</dc:creator><dc:description>von Joh. Aug. Friedr. Schmidt</dc:description><dc:publisher>Verlag und Druck von Bernhard Friedrich Voigt</dc:publisher><dc:date>1840</dc:date><dc:type>Text</dc:type><dc:type>Book</dc:type><dc:format>VIII, 472 Seiten ; 22 cm (4')</dc:format><dc:identifier>doi:10.3931/e-rara-91401</dc:identifier><dc:identifier>https://www.e-rara.ch/zut/doi/10.3931/e-rara-91401</dc:identifier><dc:identifier>system:990023908900205503</dc:identifier><dc:relation>vignette : https://www.e-rara.ch/zut/titlepage/doi/10.3931/e-rara-91401/128</dc:relation><dc:language>ger</dc:language><dc:coverage>Weimar</dc:coverage><dc:rights>pdm</dc:rights></oai_dc:dc></metadata></record></GetRecord></OAI-PMH>"
      ]
     },
     "execution_count": 10,
     "metadata": {},
     "output_type": "execute_result"
    }
   ],
   "source": [
    "# OAI verb, metadataPrefix, identifier als Parameter für die \"load_xml\"-Funktion\n",
    "# entspricht: https://www.e-rara.ch/oai?verb=GetRecord&metadataPrefix=oai_dc&identifier=26079348\n",
    "\n",
    "xml_soup = load_xml({'verb': 'GetRecord', 'metadataPrefix': 'oai_dc', 'identifier': '26079348'})\n",
    "xml_soup"
   ]
  },
  {
   "cell_type": "code",
   "execution_count": 11,
   "id": "4d66f8f3-ab86-4685-a276-b6912f7e2b8d",
   "metadata": {},
   "outputs": [],
   "source": [
    "# Funktion um Metadaten eines Titels herunterzuladen - in verschiedenenen Metadatenstandards und in genuiner XML-Formatierung\n",
    "\n",
    "def download_record(ID, metadataPrefix='mods'):\n",
    "    '''\n",
    "    Downloads a certain metadata record in original XML formatting from OAI to a single XML file.\n",
    "    Throws a notice when download is successful and if download fails.\n",
    "    Parameters:\n",
    "    ID = E-rara ID of the desired metadata record.\n",
    "    metadataPrefix = Metadata format to be delivered. Can be: oai_dc, mods, rawmods, mets. Default value is mods.\n",
    "    '''\n",
    "    path = os.getcwd()\n",
    "    output_soup = load_xml({'verb': 'GetRecord', 'metadataPrefix': metadataPrefix, 'identifier': ID})\n",
    "    outfile = path + '/{}.xml'.format(ID) \n",
    "    try:\n",
    "        with open(outfile, mode='w', encoding='utf-8') as f:\n",
    "            f.write(output_soup.decode())\n",
    "            print(\"Metadata file {}.xml saved\".format(ID))\n",
    "    except:\n",
    "            print(\"Saving metadata file failed\".format(ID))\n",
    "    finally:\n",
    "            pass"
   ]
  },
  {
   "cell_type": "code",
   "execution_count": 12,
   "id": "1cecc2b4-e7e9-46bc-a82b-6b28f45e98d9",
   "metadata": {},
   "outputs": [
    {
     "name": "stdout",
     "output_type": "stream",
     "text": [
      "Metadata file 26079348.xml saved\n"
     ]
    }
   ],
   "source": [
    "# die Funkion in Aktion\n",
    "download_record('26079348')\n",
    "#download_record('26079348', metadataPrefix='oai_dc')"
   ]
  },
  {
   "cell_type": "code",
   "execution_count": 13,
   "id": "972f5eb9-710d-4f38-925c-7fa2fd8066f2",
   "metadata": {},
   "outputs": [
    {
     "name": "stdout",
     "output_type": "stream",
     "text": [
      "Metadata file 22400512.xml saved\n",
      "Metadata file 4310610.xml saved\n",
      "Metadata file 13621365.xml saved\n"
     ]
    }
   ],
   "source": [
    "# auch mehrere Titel sind mittels einer FOR-Schleife möglich\n",
    "for ID in ['22400512', '4310610', '13621365']:\n",
    "    download_record(ID, metadataPrefix='oai_dc')"
   ]
  },
  {
   "cell_type": "markdown",
   "id": "99c7335b-6568-4561-b0e8-47f241da2018",
   "metadata": {
    "tags": []
   },
   "source": [
    "## Etwas einfacher: Arbeiten mit der Polymatheia Library\n",
    "\n",
    "Genuin liefert die OAI-PMH-Schnittstelle XML-formatierte Metadaten gemäss verschiedenen Standards aus. Mit [Polymatheia](https://polymatheia.readthedocs.io/en/latest/index.html), einer spezifischen Python \"Library\" für OAI-Schnittstellen, können diese nicht nur **einfacher abgefragt** werden, sondern die Daten werden auch in einem **einfacher auswertbaren Format** ausgegeben. Das [Navigable Dictionary](https://polymatheia.readthedocs.io/en/latest/concepts.html) macht die direkte Addressierung einzelner Datenelemente möglich. Zudem kann es leicht im [JSON](https://de.wikipedia.org/wiki/JavaScript_Object_Notation)-Format gespeichert werden."
   ]
  },
  {
   "cell_type": "code",
   "execution_count": 14,
   "id": "98461182-2269-4cf2-a67e-3ff6d2802f59",
   "metadata": {},
   "outputs": [
    {
     "name": "stdout",
     "output_type": "stream",
     "text": [
      "Defaulting to user installation because normal site-packages is not writeable\n",
      "Requirement already satisfied: polymatheia in /home/.local/lib/python3.8/site-packages (0.3.1)\n",
      "Requirement already satisfied: deprecation<3.0.0,>=2.1.0 in /usr/local/lib/python3.8/dist-packages (from polymatheia) (2.1.0)\n",
      "Requirement already satisfied: pandas<2.0.0,>=1.1.0 in /usr/local/lib/python3.8/dist-packages (from polymatheia) (1.3.2)\n",
      "Requirement already satisfied: requests<3.0.0,>=2.24.0 in /usr/local/lib/python3.8/dist-packages (from polymatheia) (2.26.0)\n",
      "Requirement already satisfied: munch<3.0.0,>=2.5.0 in /home/.local/lib/python3.8/site-packages (from polymatheia) (2.5.0)\n",
      "Requirement already satisfied: srupy<0.0.46,>=0.0.45 in /home/.local/lib/python3.8/site-packages (from polymatheia) (0.0.45)\n",
      "Requirement already satisfied: lxml<5.0.0,>=4.5.2 in /usr/local/lib/python3.8/dist-packages (from polymatheia) (4.6.3)\n",
      "Requirement already satisfied: sickle<0.8.0,>=0.7.0 in /home/.local/lib/python3.8/site-packages (from polymatheia) (0.7.0)\n",
      "Requirement already satisfied: packaging in /usr/local/lib/python3.8/dist-packages (from deprecation<3.0.0,>=2.1.0->polymatheia) (21.3)\n",
      "Requirement already satisfied: six in /usr/local/lib/python3.8/dist-packages (from munch<3.0.0,>=2.5.0->polymatheia) (1.15.0)\n",
      "Requirement already satisfied: numpy>=1.17.3 in /usr/local/lib/python3.8/dist-packages (from pandas<2.0.0,>=1.1.0->polymatheia) (1.21.2)\n",
      "Requirement already satisfied: pytz>=2017.3 in /usr/local/lib/python3.8/dist-packages (from pandas<2.0.0,>=1.1.0->polymatheia) (2021.1)\n",
      "Requirement already satisfied: python-dateutil>=2.7.3 in /usr/local/lib/python3.8/dist-packages (from pandas<2.0.0,>=1.1.0->polymatheia) (2.8.2)\n",
      "Requirement already satisfied: charset-normalizer~=2.0.0 in /usr/local/lib/python3.8/dist-packages (from requests<3.0.0,>=2.24.0->polymatheia) (2.0.4)\n",
      "Requirement already satisfied: certifi>=2017.4.17 in /usr/local/lib/python3.8/dist-packages (from requests<3.0.0,>=2.24.0->polymatheia) (2021.10.8)\n",
      "Requirement already satisfied: idna<4,>=2.5 in /usr/lib/python3/dist-packages (from requests<3.0.0,>=2.24.0->polymatheia) (2.8)\n",
      "Requirement already satisfied: urllib3<1.27,>=1.21.1 in /usr/local/lib/python3.8/dist-packages (from requests<3.0.0,>=2.24.0->polymatheia) (1.26.6)\n",
      "Requirement already satisfied: pyparsing!=3.0.5,>=2.0.2 in /usr/local/lib/python3.8/dist-packages (from packaging->deprecation<3.0.0,>=2.1.0->polymatheia) (2.4.7)\n"
     ]
    }
   ],
   "source": [
    "# Polymatheia library installieren\n",
    "!pip install polymatheia"
   ]
  },
  {
   "cell_type": "code",
   "execution_count": 15,
   "id": "ab43bc30-b537-4ac7-af5e-6ebd6eaa6eb7",
   "metadata": {},
   "outputs": [
    {
     "name": "stdout",
     "output_type": "stream",
     "text": [
      "Successfully imported necessary libraries\n"
     ]
    }
   ],
   "source": [
    "# verschiedene Module von Polymatheia importieren\n",
    "from polymatheia.data.reader import OAISetReader               # list OAI sets\n",
    "from polymatheia.data.reader import OAIMetadataFormatReader    # list available metadata formats\n",
    "from polymatheia.data.reader import OAIRecordReader            # read metadata records from OAI\n",
    "from polymatheia.data.writer import PandasDFWriter             # easy transformation of flat data into a dataframe\n",
    "print(\"Successfully imported necessary libraries\")"
   ]
  },
  {
   "cell_type": "code",
   "execution_count": 16,
   "id": "0b7e22a4-3a37-43ef-8784-4bf9182f0c9a",
   "metadata": {},
   "outputs": [],
   "source": [
    "# Basis-URL der OAI-Schnittstelle als definierte Variable macht die weitere Verwendung einfacher\n",
    "oai = 'https://www.e-rara.ch/oai'"
   ]
  },
  {
   "cell_type": "markdown",
   "id": "fbe3a18f-ac81-4f81-996b-7c21eae21446",
   "metadata": {},
   "source": [
    "### Sets/Sammlungen und Metadatenformate abfragen\n",
    "\n",
    "Polymatheia arbeitet mit vorgefertigten **Readern**, die einfach zur Abfrage gemäss der verschiedenen OAI verbs benutzt werden können. Der Reader nimmt die ausgelieferten Daten entgegen und speichert sie in einem Objekt (einem Navigable Dictionary), das dann ausgelesen werden kann."
   ]
  },
  {
   "cell_type": "code",
   "execution_count": 17,
   "id": "494bab7d-3c51-4617-9644-b0ab024f19e1",
   "metadata": {},
   "outputs": [
    {
     "data": {
      "text/plain": [
       "polymatheia.data.reader.OAIMetadataFormatReader"
      ]
     },
     "execution_count": 17,
     "metadata": {},
     "output_type": "execute_result"
    }
   ],
   "source": [
    "# Der OAIMetadataFormatReader, der das OAI verb \"ListMetadataFormats\" nutzt\n",
    "reader = OAIMetadataFormatReader(oai)\n",
    "type(reader)"
   ]
  },
  {
   "cell_type": "code",
   "execution_count": 18,
   "id": "52ae8a18-2357-4ac3-83a1-a9bc1e9ba91f",
   "metadata": {},
   "outputs": [
    {
     "name": "stdout",
     "output_type": "stream",
     "text": [
      "oai_dc\n",
      "mets\n",
      "mods\n",
      "rawmods\n",
      "epicur\n"
     ]
    }
   ],
   "source": [
    "# Welche Metdatenformate sind verfügbar? Daten aus dem Reader auslesen\n",
    "for formats in reader:\n",
    "    #print(formats)\n",
    "    print(formats.metadataPrefix)"
   ]
  },
  {
   "cell_type": "code",
   "execution_count": 19,
   "id": "d9734769-24ee-4d27-a2c0-4f084ba033e5",
   "metadata": {},
   "outputs": [
    {
     "data": {
      "text/plain": [
       "['oai_dc', 'mets', 'mods', 'rawmods', 'epicur']"
      ]
     },
     "execution_count": 19,
     "metadata": {},
     "output_type": "execute_result"
    }
   ],
   "source": [
    "[formats.metadataPrefix for formats in reader]    # abgekürzte Variante der FOR-Schleife oben"
   ]
  },
  {
   "cell_type": "code",
   "execution_count": 20,
   "id": "c45cccc4-4d92-42d6-87a9-4a89e7514709",
   "metadata": {},
   "outputs": [
    {
     "data": {
      "text/plain": [
       "[{'setSpec': 'frc_g', 'setName': 'BCU Fribourg (GLN)'},\n",
       " {'setSpec': 'elibch', 'setName': 'Alle Bibliotheken'},\n",
       " {'setSpec': 'zbs', 'setName': 'Zentralbibliothek Solothurn'},\n",
       " {'setSpec': 'sbs', 'setName': 'Stadtbibliothek Schaffhausen'},\n",
       " {'setSpec': 'astrorara', 'setName': 'Astronomie-rara'},\n",
       " {'setSpec': 'bau_1', 'setName': 'UB Basel (DSV01)'},\n",
       " {'setSpec': 'kbg', 'setName': 'Kantonsbibliothek Graubünden'},\n",
       " {'setSpec': 'nep_r',\n",
       "  'setName': 'Bibliothèque des Pasteurs, BPU Neuchâtel (RERO)'},\n",
       " {'setSpec': 'astrozut', 'setName': 'ETH-Bibliothek Zürich'},\n",
       " {'setSpec': 'stibi', 'setName': 'Stiftsbibliothek St. Gallen'},\n",
       " {'setSpec': 'frc_r', 'setName': 'BCU Fribourg (RERO)'},\n",
       " {'setSpec': 'ebs', 'setName': 'Eisenbibliothek Schlatt'},\n",
       " {'setSpec': 'nep_g',\n",
       "  'setName': 'Bibliothèque des Pasteurs, BPU Neuchâtel (GLN)'},\n",
       " {'setSpec': 'lg1', 'setName': 'Biblioteca Salita dei Frati, Lugano'},\n",
       " {'setSpec': 'kbv', 'setName': 'Kantonsbibliothek Vadiana'},\n",
       " {'setSpec': 'demusmu', 'setName': 'Deutsches Museum, München'},\n",
       " {'setSpec': 'ge88', 'setName': 'Institut et Musée Voltaire, Genève'},\n",
       " {'setSpec': 'lac1_g', 'setName': 'BCU Lausanne (GLN)'},\n",
       " {'setSpec': 'cgj', 'setName': 'C.G. Jung'},\n",
       " {'setSpec': 'mhr_g',\n",
       "  'setName': 'Musée historique de la Réformation, Genève (GLN)'},\n",
       " {'setSpec': 'snm', 'setName': 'Schweizerisches Nationalmuseum'},\n",
       " {'setSpec': 'zhdk', 'setName': 'Zürcher Hochschule der Künste'},\n",
       " {'setSpec': 'mhr_r',\n",
       "  'setName': 'Musée historique de la Réformation, Genève (RERO)'},\n",
       " {'setSpec': 'mab', 'setName': 'Bibliothek der Musik-Akademie Basel'},\n",
       " {'setSpec': 'lac1_r', 'setName': 'BCU Lausanne (RERO)'},\n",
       " {'setSpec': 'sikjm',\n",
       "  'setName': 'Schweizerisches Institut für Kinder- und Jugendmedien SIKJM'},\n",
       " {'setSpec': 'oec',\n",
       "  'setName': 'Stiftung Bibliothek Werner Oechslin, Einsiedeln'},\n",
       " {'setSpec': 'supsi', 'setName': 'Biblioteca SUPSI DFA, Locarno'},\n",
       " {'setSpec': 'bes_5', 'setName': 'UB Bern (NEBIS)'},\n",
       " {'setSpec': 'zut', 'setName': 'ETH-Bibliothek (NEBIS)'},\n",
       " {'setSpec': 'bes_1', 'setName': 'UB Bern (DSV01)'},\n",
       " {'setSpec': 'nev_g', 'setName': 'BPU Neuchâtel (GLN)'},\n",
       " {'setSpec': 'gep_r', 'setName': 'Bibliothèque de Genève (RERO)'},\n",
       " {'setSpec': 'zuz', 'setName': 'ZB Zürich (NEBIS)'},\n",
       " {'setSpec': 'zhb', 'setName': 'Zentral- & Hochschulbibliothek Luzern'},\n",
       " {'setSpec': 'stp', 'setName': 'Stiftung Pestalozzianum'},\n",
       " {'setSpec': 'erara', 'setName': 'e-rara'},\n",
       " {'setSpec': 'nev_r', 'setName': 'BPU Neuchâtel (RERO)'},\n",
       " {'setSpec': 'gep_g', 'setName': 'Bibliothèque de Genève (GLN)'},\n",
       " {'setSpec': 'ch15', 'setName': 'Schweizer Drucke des 15. Jahrhunderts'},\n",
       " {'setSpec': 'ch16', 'setName': 'Schweizer Drucke des 16. Jahrhunderts'},\n",
       " {'setSpec': 'alch',\n",
       "  'setName': 'Alchemie, Magie und Kabbala (Stiftung der Werke von C.G. Jung, Zürich)'},\n",
       " {'setSpec': 'ch', 'setName': 'Schweizer Drucke'},\n",
       " {'setSpec': 'ch17', 'setName': 'Schweizer Drucke des 17. Jahrhunderts'},\n",
       " {'setSpec': 'solothurn',\n",
       "  'setName': 'Alte Drucke aus Solothurn (ZB Solothurn)'},\n",
       " {'setSpec': 'ch18', 'setName': 'Schweizer Drucke des 18. Jahrhunderts'},\n",
       " {'setSpec': 'anatomie', 'setName': 'Anatomie (BPU Neuchâtel)'},\n",
       " {'setSpec': 'ch19', 'setName': 'Schweizer Drucke des 19. Jahrhunderts\\n \\n'},\n",
       " {'setSpec': 'bernensia',\n",
       "  'setName': 'Bernensia des 18. bis frühen 20. Jahrhunderts (UB Bern)'},\n",
       " {'setSpec': 'ch20', 'setName': 'Schweizer Drucke des 20. Jahrhunderts'},\n",
       " {'setSpec': 'bibleikon',\n",
       "  'setName': 'Bibleikon (Bibliothèque des Pasteurs, BPU Neuchâtel)'},\n",
       " {'setSpec': 'nagezh',\n",
       "  'setName': 'Bibliothek der Naturforschenden Gesellschaft Zürich (ZB Zürich)'},\n",
       " {'setSpec': 'ephemera', 'setName': 'Ephemera'},\n",
       " {'setSpec': 'flug', 'setName': 'Flugschriften'},\n",
       " {'setSpec': 'fondo',\n",
       "  'setName': 'Fondo Gianini (Biblioteca SUPSI DFA, Locarno)'},\n",
       " {'setSpec': 'brochgenevoises', 'setName': 'Genfer Broschüren'},\n",
       " {'setSpec': 'italpoet',\n",
       "  'setName': 'Italienische Poesie und Prosa des 17. Jahrhunderts (Biblioteca Salita dei Frati, Lugano)'},\n",
       " {'setSpec': 'collections', 'setName': 'Themen und Sammlungen'},\n",
       " {'setSpec': 'cartesgeneve', 'setName': 'Karten von Genf und seiner Umgebung'},\n",
       " {'setSpec': 'museecarto', 'setName': 'Kartographisches Museum von Genf'},\n",
       " {'setSpec': 'rheinau', 'setName': 'Kloster Rheinau (ZB Zürich)'},\n",
       " {'setSpec': 'atlanten',\n",
       "  'setName': 'Prachtsatlanten: Von den Anfängen bis ins Goldene Zeitalter'},\n",
       " {'setSpec': 'rossica', 'setName': 'Rossica Europeana (UB Bern)'},\n",
       " {'setSpec': 'russexil', 'setName': 'Russisches Schrifttum im Exil (UB Bern)'},\n",
       " {'setSpec': 'sikjmc',\n",
       "  'setName': 'Schweizer Kinder- und Jugendbücher (Schweizerisches Institut für Kinder- und Jugendmedien SIKJM)'},\n",
       " {'setSpec': 'tewi',\n",
       "  'setName': 'Technik- und Wissenschaftsgeschichte (Eisenbibliothek)'},\n",
       " {'setSpec': 'ticinensia',\n",
       "  'setName': 'Tessiner Editionen des 18. und 19. Jahrhunderts (Biblioteca Salita dei Frati, Lugano)'},\n",
       " {'setSpec': 'vitruviana',\n",
       "  'setName': 'Vitruviana (Stiftung Bibliothek Werner Oechslin, Einsiedeln)'},\n",
       " {'setSpec': 'oiseaux', 'setName': 'Vogelbücher (BPU Neuchâtel)'},\n",
       " {'setSpec': 'rousseau',\n",
       "  'setName': 'Werke von Jean-Jacques Rousseau (Bibliothèque de Genève)'},\n",
       " {'setSpec': 'profethz',\n",
       "  'setName': 'Werke von Professoren der ETH Zürich (ETH-Bibliothek)'},\n",
       " {'setSpec': 'wihibe',\n",
       "  'setName': 'Wissenschaftshistorische Bestände (ETH-Bibliothek)'},\n",
       " {'setSpec': 'pbhzwingli', 'setName': 'Huldrych Zwingli (1484–1531)'},\n",
       " {'setSpec': 'pbjwaser', 'setName': 'Josias Waser (1598-1629)'},\n",
       " {'setSpec': 'pbjjbodmer', 'setName': 'Johann Jakob Bodmer (1698–1783)'},\n",
       " {'setSpec': 'pbhkescher',\n",
       "  'setName': 'Hans Konrad Escher von der Linth (1767-1823)'},\n",
       " {'setSpec': 'pboheer', 'setName': 'Oswald Heer (1809-1883)'},\n",
       " {'setSpec': 'pbrwolf', 'setName': 'Rudolf Wolf (1816-1893)'},\n",
       " {'setSpec': 'pbgkeller', 'setName': 'Gottfried Keller (1819-1890)'},\n",
       " {'setSpec': 'pbjorelli', 'setName': 'Johannes Orelli (1822-1885)'},\n",
       " {'setSpec': 'pbawaldner', 'setName': 'August Waldner (1844-1906)'},\n",
       " {'setSpec': 'pbifriedlaender',\n",
       "  'setName': 'Immanuel Friedlaender (1871-1948)'},\n",
       " {'setSpec': 'pbebircher', 'setName': 'Eugen Bircher (1882- 1956)'},\n",
       " {'setSpec': 'collection25656349', 'setName': None},\n",
       " {'setSpec': 'privlib', 'setName': 'Privatbibliotheken'},\n",
       " {'setSpec': 'doi', 'setName': 'unknown spec'},\n",
       " {'setSpec': 'notated_music', 'setName': 'notated music'},\n",
       " {'setSpec': 'book', 'setName': 'book'},\n",
       " {'setSpec': 'illustration_document', 'setName': 'illustration document'},\n",
       " {'setSpec': 'cartographic', 'setName': 'cartographic'}]"
      ]
     },
     "execution_count": 20,
     "metadata": {},
     "output_type": "execute_result"
    }
   ],
   "source": [
    "# Welche Sets/Sammlungen bietet die Schnittstelle an? Hierfür gibt es den OAISetReader.\n",
    "\n",
    "reader = OAISetReader(oai)                         \n",
    "[x for x in reader]"
   ]
  },
  {
   "cell_type": "code",
   "execution_count": 21,
   "id": "d3163485-3368-4e83-a9a4-c1d1e57b202e",
   "metadata": {},
   "outputs": [
    {
     "data": {
      "text/html": [
       "<style type=\"text/css\">\n",
       "</style>\n",
       "<table id=\"T_373f1_\">\n",
       "  <thead>\n",
       "    <tr>\n",
       "      <th class=\"blank level0\" >&nbsp;</th>\n",
       "      <th class=\"col_heading level0 col0\" >setSpec</th>\n",
       "      <th class=\"col_heading level0 col1\" >setName</th>\n",
       "    </tr>\n",
       "  </thead>\n",
       "  <tbody>\n",
       "    <tr>\n",
       "      <th id=\"T_373f1_level0_row0\" class=\"row_heading level0 row0\" >0</th>\n",
       "      <td id=\"T_373f1_row0_col0\" class=\"data row0 col0\" >frc_g</td>\n",
       "      <td id=\"T_373f1_row0_col1\" class=\"data row0 col1\" >BCU Fribourg (GLN)</td>\n",
       "    </tr>\n",
       "    <tr>\n",
       "      <th id=\"T_373f1_level0_row1\" class=\"row_heading level0 row1\" >1</th>\n",
       "      <td id=\"T_373f1_row1_col0\" class=\"data row1 col0\" >elibch</td>\n",
       "      <td id=\"T_373f1_row1_col1\" class=\"data row1 col1\" >Alle Bibliotheken</td>\n",
       "    </tr>\n",
       "    <tr>\n",
       "      <th id=\"T_373f1_level0_row2\" class=\"row_heading level0 row2\" >2</th>\n",
       "      <td id=\"T_373f1_row2_col0\" class=\"data row2 col0\" >zbs</td>\n",
       "      <td id=\"T_373f1_row2_col1\" class=\"data row2 col1\" >Zentralbibliothek Solothurn</td>\n",
       "    </tr>\n",
       "    <tr>\n",
       "      <th id=\"T_373f1_level0_row3\" class=\"row_heading level0 row3\" >3</th>\n",
       "      <td id=\"T_373f1_row3_col0\" class=\"data row3 col0\" >sbs</td>\n",
       "      <td id=\"T_373f1_row3_col1\" class=\"data row3 col1\" >Stadtbibliothek Schaffhausen</td>\n",
       "    </tr>\n",
       "    <tr>\n",
       "      <th id=\"T_373f1_level0_row4\" class=\"row_heading level0 row4\" >4</th>\n",
       "      <td id=\"T_373f1_row4_col0\" class=\"data row4 col0\" >astrorara</td>\n",
       "      <td id=\"T_373f1_row4_col1\" class=\"data row4 col1\" >Astronomie-rara</td>\n",
       "    </tr>\n",
       "    <tr>\n",
       "      <th id=\"T_373f1_level0_row5\" class=\"row_heading level0 row5\" >5</th>\n",
       "      <td id=\"T_373f1_row5_col0\" class=\"data row5 col0\" >bau_1</td>\n",
       "      <td id=\"T_373f1_row5_col1\" class=\"data row5 col1\" >UB Basel (DSV01)</td>\n",
       "    </tr>\n",
       "    <tr>\n",
       "      <th id=\"T_373f1_level0_row6\" class=\"row_heading level0 row6\" >6</th>\n",
       "      <td id=\"T_373f1_row6_col0\" class=\"data row6 col0\" >kbg</td>\n",
       "      <td id=\"T_373f1_row6_col1\" class=\"data row6 col1\" >Kantonsbibliothek Graubünden</td>\n",
       "    </tr>\n",
       "    <tr>\n",
       "      <th id=\"T_373f1_level0_row7\" class=\"row_heading level0 row7\" >7</th>\n",
       "      <td id=\"T_373f1_row7_col0\" class=\"data row7 col0\" >nep_r</td>\n",
       "      <td id=\"T_373f1_row7_col1\" class=\"data row7 col1\" >Bibliothèque des Pasteurs, BPU Neuchâtel (RERO)</td>\n",
       "    </tr>\n",
       "    <tr>\n",
       "      <th id=\"T_373f1_level0_row8\" class=\"row_heading level0 row8\" >8</th>\n",
       "      <td id=\"T_373f1_row8_col0\" class=\"data row8 col0\" >astrozut</td>\n",
       "      <td id=\"T_373f1_row8_col1\" class=\"data row8 col1\" >ETH-Bibliothek Zürich</td>\n",
       "    </tr>\n",
       "    <tr>\n",
       "      <th id=\"T_373f1_level0_row9\" class=\"row_heading level0 row9\" >9</th>\n",
       "      <td id=\"T_373f1_row9_col0\" class=\"data row9 col0\" >stibi</td>\n",
       "      <td id=\"T_373f1_row9_col1\" class=\"data row9 col1\" >Stiftsbibliothek St. Gallen</td>\n",
       "    </tr>\n",
       "    <tr>\n",
       "      <th id=\"T_373f1_level0_row10\" class=\"row_heading level0 row10\" >10</th>\n",
       "      <td id=\"T_373f1_row10_col0\" class=\"data row10 col0\" >frc_r</td>\n",
       "      <td id=\"T_373f1_row10_col1\" class=\"data row10 col1\" >BCU Fribourg (RERO)</td>\n",
       "    </tr>\n",
       "    <tr>\n",
       "      <th id=\"T_373f1_level0_row11\" class=\"row_heading level0 row11\" >11</th>\n",
       "      <td id=\"T_373f1_row11_col0\" class=\"data row11 col0\" >ebs</td>\n",
       "      <td id=\"T_373f1_row11_col1\" class=\"data row11 col1\" >Eisenbibliothek Schlatt</td>\n",
       "    </tr>\n",
       "    <tr>\n",
       "      <th id=\"T_373f1_level0_row12\" class=\"row_heading level0 row12\" >12</th>\n",
       "      <td id=\"T_373f1_row12_col0\" class=\"data row12 col0\" >nep_g</td>\n",
       "      <td id=\"T_373f1_row12_col1\" class=\"data row12 col1\" >Bibliothèque des Pasteurs, BPU Neuchâtel (GLN)</td>\n",
       "    </tr>\n",
       "    <tr>\n",
       "      <th id=\"T_373f1_level0_row13\" class=\"row_heading level0 row13\" >13</th>\n",
       "      <td id=\"T_373f1_row13_col0\" class=\"data row13 col0\" >lg1</td>\n",
       "      <td id=\"T_373f1_row13_col1\" class=\"data row13 col1\" >Biblioteca Salita dei Frati, Lugano</td>\n",
       "    </tr>\n",
       "    <tr>\n",
       "      <th id=\"T_373f1_level0_row14\" class=\"row_heading level0 row14\" >14</th>\n",
       "      <td id=\"T_373f1_row14_col0\" class=\"data row14 col0\" >kbv</td>\n",
       "      <td id=\"T_373f1_row14_col1\" class=\"data row14 col1\" >Kantonsbibliothek Vadiana</td>\n",
       "    </tr>\n",
       "    <tr>\n",
       "      <th id=\"T_373f1_level0_row15\" class=\"row_heading level0 row15\" >15</th>\n",
       "      <td id=\"T_373f1_row15_col0\" class=\"data row15 col0\" >demusmu</td>\n",
       "      <td id=\"T_373f1_row15_col1\" class=\"data row15 col1\" >Deutsches Museum, München</td>\n",
       "    </tr>\n",
       "    <tr>\n",
       "      <th id=\"T_373f1_level0_row16\" class=\"row_heading level0 row16\" >16</th>\n",
       "      <td id=\"T_373f1_row16_col0\" class=\"data row16 col0\" >ge88</td>\n",
       "      <td id=\"T_373f1_row16_col1\" class=\"data row16 col1\" >Institut et Musée Voltaire, Genève</td>\n",
       "    </tr>\n",
       "    <tr>\n",
       "      <th id=\"T_373f1_level0_row17\" class=\"row_heading level0 row17\" >17</th>\n",
       "      <td id=\"T_373f1_row17_col0\" class=\"data row17 col0\" >lac1_g</td>\n",
       "      <td id=\"T_373f1_row17_col1\" class=\"data row17 col1\" >BCU Lausanne (GLN)</td>\n",
       "    </tr>\n",
       "    <tr>\n",
       "      <th id=\"T_373f1_level0_row18\" class=\"row_heading level0 row18\" >18</th>\n",
       "      <td id=\"T_373f1_row18_col0\" class=\"data row18 col0\" >cgj</td>\n",
       "      <td id=\"T_373f1_row18_col1\" class=\"data row18 col1\" >C.G. Jung</td>\n",
       "    </tr>\n",
       "    <tr>\n",
       "      <th id=\"T_373f1_level0_row19\" class=\"row_heading level0 row19\" >19</th>\n",
       "      <td id=\"T_373f1_row19_col0\" class=\"data row19 col0\" >mhr_g</td>\n",
       "      <td id=\"T_373f1_row19_col1\" class=\"data row19 col1\" >Musée historique de la Réformation, Genève (GLN)</td>\n",
       "    </tr>\n",
       "    <tr>\n",
       "      <th id=\"T_373f1_level0_row20\" class=\"row_heading level0 row20\" >20</th>\n",
       "      <td id=\"T_373f1_row20_col0\" class=\"data row20 col0\" >snm</td>\n",
       "      <td id=\"T_373f1_row20_col1\" class=\"data row20 col1\" >Schweizerisches Nationalmuseum</td>\n",
       "    </tr>\n",
       "    <tr>\n",
       "      <th id=\"T_373f1_level0_row21\" class=\"row_heading level0 row21\" >21</th>\n",
       "      <td id=\"T_373f1_row21_col0\" class=\"data row21 col0\" >zhdk</td>\n",
       "      <td id=\"T_373f1_row21_col1\" class=\"data row21 col1\" >Zürcher Hochschule der Künste</td>\n",
       "    </tr>\n",
       "    <tr>\n",
       "      <th id=\"T_373f1_level0_row22\" class=\"row_heading level0 row22\" >22</th>\n",
       "      <td id=\"T_373f1_row22_col0\" class=\"data row22 col0\" >mhr_r</td>\n",
       "      <td id=\"T_373f1_row22_col1\" class=\"data row22 col1\" >Musée historique de la Réformation, Genève (RERO)</td>\n",
       "    </tr>\n",
       "    <tr>\n",
       "      <th id=\"T_373f1_level0_row23\" class=\"row_heading level0 row23\" >23</th>\n",
       "      <td id=\"T_373f1_row23_col0\" class=\"data row23 col0\" >mab</td>\n",
       "      <td id=\"T_373f1_row23_col1\" class=\"data row23 col1\" >Bibliothek der Musik-Akademie Basel</td>\n",
       "    </tr>\n",
       "    <tr>\n",
       "      <th id=\"T_373f1_level0_row24\" class=\"row_heading level0 row24\" >24</th>\n",
       "      <td id=\"T_373f1_row24_col0\" class=\"data row24 col0\" >lac1_r</td>\n",
       "      <td id=\"T_373f1_row24_col1\" class=\"data row24 col1\" >BCU Lausanne (RERO)</td>\n",
       "    </tr>\n",
       "    <tr>\n",
       "      <th id=\"T_373f1_level0_row25\" class=\"row_heading level0 row25\" >25</th>\n",
       "      <td id=\"T_373f1_row25_col0\" class=\"data row25 col0\" >sikjm</td>\n",
       "      <td id=\"T_373f1_row25_col1\" class=\"data row25 col1\" >Schweizerisches Institut für Kinder- und Jugendmedien SIKJM</td>\n",
       "    </tr>\n",
       "    <tr>\n",
       "      <th id=\"T_373f1_level0_row26\" class=\"row_heading level0 row26\" >26</th>\n",
       "      <td id=\"T_373f1_row26_col0\" class=\"data row26 col0\" >oec</td>\n",
       "      <td id=\"T_373f1_row26_col1\" class=\"data row26 col1\" >Stiftung Bibliothek Werner Oechslin, Einsiedeln</td>\n",
       "    </tr>\n",
       "    <tr>\n",
       "      <th id=\"T_373f1_level0_row27\" class=\"row_heading level0 row27\" >27</th>\n",
       "      <td id=\"T_373f1_row27_col0\" class=\"data row27 col0\" >supsi</td>\n",
       "      <td id=\"T_373f1_row27_col1\" class=\"data row27 col1\" >Biblioteca SUPSI DFA, Locarno</td>\n",
       "    </tr>\n",
       "    <tr>\n",
       "      <th id=\"T_373f1_level0_row28\" class=\"row_heading level0 row28\" >28</th>\n",
       "      <td id=\"T_373f1_row28_col0\" class=\"data row28 col0\" >bes_5</td>\n",
       "      <td id=\"T_373f1_row28_col1\" class=\"data row28 col1\" >UB Bern (NEBIS)</td>\n",
       "    </tr>\n",
       "    <tr>\n",
       "      <th id=\"T_373f1_level0_row29\" class=\"row_heading level0 row29\" >29</th>\n",
       "      <td id=\"T_373f1_row29_col0\" class=\"data row29 col0\" >zut</td>\n",
       "      <td id=\"T_373f1_row29_col1\" class=\"data row29 col1\" >ETH-Bibliothek (NEBIS)</td>\n",
       "    </tr>\n",
       "    <tr>\n",
       "      <th id=\"T_373f1_level0_row30\" class=\"row_heading level0 row30\" >30</th>\n",
       "      <td id=\"T_373f1_row30_col0\" class=\"data row30 col0\" >bes_1</td>\n",
       "      <td id=\"T_373f1_row30_col1\" class=\"data row30 col1\" >UB Bern (DSV01)</td>\n",
       "    </tr>\n",
       "    <tr>\n",
       "      <th id=\"T_373f1_level0_row31\" class=\"row_heading level0 row31\" >31</th>\n",
       "      <td id=\"T_373f1_row31_col0\" class=\"data row31 col0\" >nev_g</td>\n",
       "      <td id=\"T_373f1_row31_col1\" class=\"data row31 col1\" >BPU Neuchâtel (GLN)</td>\n",
       "    </tr>\n",
       "    <tr>\n",
       "      <th id=\"T_373f1_level0_row32\" class=\"row_heading level0 row32\" >32</th>\n",
       "      <td id=\"T_373f1_row32_col0\" class=\"data row32 col0\" >gep_r</td>\n",
       "      <td id=\"T_373f1_row32_col1\" class=\"data row32 col1\" >Bibliothèque de Genève (RERO)</td>\n",
       "    </tr>\n",
       "    <tr>\n",
       "      <th id=\"T_373f1_level0_row33\" class=\"row_heading level0 row33\" >33</th>\n",
       "      <td id=\"T_373f1_row33_col0\" class=\"data row33 col0\" >zuz</td>\n",
       "      <td id=\"T_373f1_row33_col1\" class=\"data row33 col1\" >ZB Zürich (NEBIS)</td>\n",
       "    </tr>\n",
       "    <tr>\n",
       "      <th id=\"T_373f1_level0_row34\" class=\"row_heading level0 row34\" >34</th>\n",
       "      <td id=\"T_373f1_row34_col0\" class=\"data row34 col0\" >zhb</td>\n",
       "      <td id=\"T_373f1_row34_col1\" class=\"data row34 col1\" >Zentral- & Hochschulbibliothek Luzern</td>\n",
       "    </tr>\n",
       "    <tr>\n",
       "      <th id=\"T_373f1_level0_row35\" class=\"row_heading level0 row35\" >35</th>\n",
       "      <td id=\"T_373f1_row35_col0\" class=\"data row35 col0\" >stp</td>\n",
       "      <td id=\"T_373f1_row35_col1\" class=\"data row35 col1\" >Stiftung Pestalozzianum</td>\n",
       "    </tr>\n",
       "    <tr>\n",
       "      <th id=\"T_373f1_level0_row36\" class=\"row_heading level0 row36\" >36</th>\n",
       "      <td id=\"T_373f1_row36_col0\" class=\"data row36 col0\" >erara</td>\n",
       "      <td id=\"T_373f1_row36_col1\" class=\"data row36 col1\" >e-rara</td>\n",
       "    </tr>\n",
       "    <tr>\n",
       "      <th id=\"T_373f1_level0_row37\" class=\"row_heading level0 row37\" >37</th>\n",
       "      <td id=\"T_373f1_row37_col0\" class=\"data row37 col0\" >nev_r</td>\n",
       "      <td id=\"T_373f1_row37_col1\" class=\"data row37 col1\" >BPU Neuchâtel (RERO)</td>\n",
       "    </tr>\n",
       "    <tr>\n",
       "      <th id=\"T_373f1_level0_row38\" class=\"row_heading level0 row38\" >38</th>\n",
       "      <td id=\"T_373f1_row38_col0\" class=\"data row38 col0\" >gep_g</td>\n",
       "      <td id=\"T_373f1_row38_col1\" class=\"data row38 col1\" >Bibliothèque de Genève (GLN)</td>\n",
       "    </tr>\n",
       "    <tr>\n",
       "      <th id=\"T_373f1_level0_row39\" class=\"row_heading level0 row39\" >39</th>\n",
       "      <td id=\"T_373f1_row39_col0\" class=\"data row39 col0\" >ch15</td>\n",
       "      <td id=\"T_373f1_row39_col1\" class=\"data row39 col1\" >Schweizer Drucke des 15. Jahrhunderts</td>\n",
       "    </tr>\n",
       "    <tr>\n",
       "      <th id=\"T_373f1_level0_row40\" class=\"row_heading level0 row40\" >40</th>\n",
       "      <td id=\"T_373f1_row40_col0\" class=\"data row40 col0\" >ch16</td>\n",
       "      <td id=\"T_373f1_row40_col1\" class=\"data row40 col1\" >Schweizer Drucke des 16. Jahrhunderts</td>\n",
       "    </tr>\n",
       "    <tr>\n",
       "      <th id=\"T_373f1_level0_row41\" class=\"row_heading level0 row41\" >41</th>\n",
       "      <td id=\"T_373f1_row41_col0\" class=\"data row41 col0\" >alch</td>\n",
       "      <td id=\"T_373f1_row41_col1\" class=\"data row41 col1\" >Alchemie, Magie und Kabbala (Stiftung der Werke von C.G. Jung, Zürich)</td>\n",
       "    </tr>\n",
       "    <tr>\n",
       "      <th id=\"T_373f1_level0_row42\" class=\"row_heading level0 row42\" >42</th>\n",
       "      <td id=\"T_373f1_row42_col0\" class=\"data row42 col0\" >ch</td>\n",
       "      <td id=\"T_373f1_row42_col1\" class=\"data row42 col1\" >Schweizer Drucke</td>\n",
       "    </tr>\n",
       "    <tr>\n",
       "      <th id=\"T_373f1_level0_row43\" class=\"row_heading level0 row43\" >43</th>\n",
       "      <td id=\"T_373f1_row43_col0\" class=\"data row43 col0\" >ch17</td>\n",
       "      <td id=\"T_373f1_row43_col1\" class=\"data row43 col1\" >Schweizer Drucke des 17. Jahrhunderts</td>\n",
       "    </tr>\n",
       "    <tr>\n",
       "      <th id=\"T_373f1_level0_row44\" class=\"row_heading level0 row44\" >44</th>\n",
       "      <td id=\"T_373f1_row44_col0\" class=\"data row44 col0\" >solothurn</td>\n",
       "      <td id=\"T_373f1_row44_col1\" class=\"data row44 col1\" >Alte Drucke aus Solothurn (ZB Solothurn)</td>\n",
       "    </tr>\n",
       "    <tr>\n",
       "      <th id=\"T_373f1_level0_row45\" class=\"row_heading level0 row45\" >45</th>\n",
       "      <td id=\"T_373f1_row45_col0\" class=\"data row45 col0\" >ch18</td>\n",
       "      <td id=\"T_373f1_row45_col1\" class=\"data row45 col1\" >Schweizer Drucke des 18. Jahrhunderts</td>\n",
       "    </tr>\n",
       "    <tr>\n",
       "      <th id=\"T_373f1_level0_row46\" class=\"row_heading level0 row46\" >46</th>\n",
       "      <td id=\"T_373f1_row46_col0\" class=\"data row46 col0\" >anatomie</td>\n",
       "      <td id=\"T_373f1_row46_col1\" class=\"data row46 col1\" >Anatomie (BPU Neuchâtel)</td>\n",
       "    </tr>\n",
       "    <tr>\n",
       "      <th id=\"T_373f1_level0_row47\" class=\"row_heading level0 row47\" >47</th>\n",
       "      <td id=\"T_373f1_row47_col0\" class=\"data row47 col0\" >ch19</td>\n",
       "      <td id=\"T_373f1_row47_col1\" class=\"data row47 col1\" >Schweizer Drucke des 19. Jahrhunderts\n",
       " \n",
       "</td>\n",
       "    </tr>\n",
       "    <tr>\n",
       "      <th id=\"T_373f1_level0_row48\" class=\"row_heading level0 row48\" >48</th>\n",
       "      <td id=\"T_373f1_row48_col0\" class=\"data row48 col0\" >bernensia</td>\n",
       "      <td id=\"T_373f1_row48_col1\" class=\"data row48 col1\" >Bernensia des 18. bis frühen 20. Jahrhunderts (UB Bern)</td>\n",
       "    </tr>\n",
       "    <tr>\n",
       "      <th id=\"T_373f1_level0_row49\" class=\"row_heading level0 row49\" >49</th>\n",
       "      <td id=\"T_373f1_row49_col0\" class=\"data row49 col0\" >ch20</td>\n",
       "      <td id=\"T_373f1_row49_col1\" class=\"data row49 col1\" >Schweizer Drucke des 20. Jahrhunderts</td>\n",
       "    </tr>\n",
       "    <tr>\n",
       "      <th id=\"T_373f1_level0_row50\" class=\"row_heading level0 row50\" >50</th>\n",
       "      <td id=\"T_373f1_row50_col0\" class=\"data row50 col0\" >bibleikon</td>\n",
       "      <td id=\"T_373f1_row50_col1\" class=\"data row50 col1\" >Bibleikon (Bibliothèque des Pasteurs, BPU Neuchâtel)</td>\n",
       "    </tr>\n",
       "    <tr>\n",
       "      <th id=\"T_373f1_level0_row51\" class=\"row_heading level0 row51\" >51</th>\n",
       "      <td id=\"T_373f1_row51_col0\" class=\"data row51 col0\" >nagezh</td>\n",
       "      <td id=\"T_373f1_row51_col1\" class=\"data row51 col1\" >Bibliothek der Naturforschenden Gesellschaft Zürich (ZB Zürich)</td>\n",
       "    </tr>\n",
       "    <tr>\n",
       "      <th id=\"T_373f1_level0_row52\" class=\"row_heading level0 row52\" >52</th>\n",
       "      <td id=\"T_373f1_row52_col0\" class=\"data row52 col0\" >ephemera</td>\n",
       "      <td id=\"T_373f1_row52_col1\" class=\"data row52 col1\" >Ephemera</td>\n",
       "    </tr>\n",
       "    <tr>\n",
       "      <th id=\"T_373f1_level0_row53\" class=\"row_heading level0 row53\" >53</th>\n",
       "      <td id=\"T_373f1_row53_col0\" class=\"data row53 col0\" >flug</td>\n",
       "      <td id=\"T_373f1_row53_col1\" class=\"data row53 col1\" >Flugschriften</td>\n",
       "    </tr>\n",
       "    <tr>\n",
       "      <th id=\"T_373f1_level0_row54\" class=\"row_heading level0 row54\" >54</th>\n",
       "      <td id=\"T_373f1_row54_col0\" class=\"data row54 col0\" >fondo</td>\n",
       "      <td id=\"T_373f1_row54_col1\" class=\"data row54 col1\" >Fondo Gianini (Biblioteca SUPSI DFA, Locarno)</td>\n",
       "    </tr>\n",
       "    <tr>\n",
       "      <th id=\"T_373f1_level0_row55\" class=\"row_heading level0 row55\" >55</th>\n",
       "      <td id=\"T_373f1_row55_col0\" class=\"data row55 col0\" >brochgenevoises</td>\n",
       "      <td id=\"T_373f1_row55_col1\" class=\"data row55 col1\" >Genfer Broschüren</td>\n",
       "    </tr>\n",
       "    <tr>\n",
       "      <th id=\"T_373f1_level0_row56\" class=\"row_heading level0 row56\" >56</th>\n",
       "      <td id=\"T_373f1_row56_col0\" class=\"data row56 col0\" >italpoet</td>\n",
       "      <td id=\"T_373f1_row56_col1\" class=\"data row56 col1\" >Italienische Poesie und Prosa des 17. Jahrhunderts (Biblioteca Salita dei Frati, Lugano)</td>\n",
       "    </tr>\n",
       "    <tr>\n",
       "      <th id=\"T_373f1_level0_row57\" class=\"row_heading level0 row57\" >57</th>\n",
       "      <td id=\"T_373f1_row57_col0\" class=\"data row57 col0\" >collections</td>\n",
       "      <td id=\"T_373f1_row57_col1\" class=\"data row57 col1\" >Themen und Sammlungen</td>\n",
       "    </tr>\n",
       "    <tr>\n",
       "      <th id=\"T_373f1_level0_row58\" class=\"row_heading level0 row58\" >58</th>\n",
       "      <td id=\"T_373f1_row58_col0\" class=\"data row58 col0\" >cartesgeneve</td>\n",
       "      <td id=\"T_373f1_row58_col1\" class=\"data row58 col1\" >Karten von Genf und seiner Umgebung</td>\n",
       "    </tr>\n",
       "    <tr>\n",
       "      <th id=\"T_373f1_level0_row59\" class=\"row_heading level0 row59\" >59</th>\n",
       "      <td id=\"T_373f1_row59_col0\" class=\"data row59 col0\" >museecarto</td>\n",
       "      <td id=\"T_373f1_row59_col1\" class=\"data row59 col1\" >Kartographisches Museum von Genf</td>\n",
       "    </tr>\n",
       "    <tr>\n",
       "      <th id=\"T_373f1_level0_row60\" class=\"row_heading level0 row60\" >60</th>\n",
       "      <td id=\"T_373f1_row60_col0\" class=\"data row60 col0\" >rheinau</td>\n",
       "      <td id=\"T_373f1_row60_col1\" class=\"data row60 col1\" >Kloster Rheinau (ZB Zürich)</td>\n",
       "    </tr>\n",
       "    <tr>\n",
       "      <th id=\"T_373f1_level0_row61\" class=\"row_heading level0 row61\" >61</th>\n",
       "      <td id=\"T_373f1_row61_col0\" class=\"data row61 col0\" >atlanten</td>\n",
       "      <td id=\"T_373f1_row61_col1\" class=\"data row61 col1\" >Prachtsatlanten: Von den Anfängen bis ins Goldene Zeitalter</td>\n",
       "    </tr>\n",
       "    <tr>\n",
       "      <th id=\"T_373f1_level0_row62\" class=\"row_heading level0 row62\" >62</th>\n",
       "      <td id=\"T_373f1_row62_col0\" class=\"data row62 col0\" >rossica</td>\n",
       "      <td id=\"T_373f1_row62_col1\" class=\"data row62 col1\" >Rossica Europeana (UB Bern)</td>\n",
       "    </tr>\n",
       "    <tr>\n",
       "      <th id=\"T_373f1_level0_row63\" class=\"row_heading level0 row63\" >63</th>\n",
       "      <td id=\"T_373f1_row63_col0\" class=\"data row63 col0\" >russexil</td>\n",
       "      <td id=\"T_373f1_row63_col1\" class=\"data row63 col1\" >Russisches Schrifttum im Exil (UB Bern)</td>\n",
       "    </tr>\n",
       "    <tr>\n",
       "      <th id=\"T_373f1_level0_row64\" class=\"row_heading level0 row64\" >64</th>\n",
       "      <td id=\"T_373f1_row64_col0\" class=\"data row64 col0\" >sikjmc</td>\n",
       "      <td id=\"T_373f1_row64_col1\" class=\"data row64 col1\" >Schweizer Kinder- und Jugendbücher (Schweizerisches Institut für Kinder- und Jugendmedien SIKJM)</td>\n",
       "    </tr>\n",
       "    <tr>\n",
       "      <th id=\"T_373f1_level0_row65\" class=\"row_heading level0 row65\" >65</th>\n",
       "      <td id=\"T_373f1_row65_col0\" class=\"data row65 col0\" >tewi</td>\n",
       "      <td id=\"T_373f1_row65_col1\" class=\"data row65 col1\" >Technik- und Wissenschaftsgeschichte (Eisenbibliothek)</td>\n",
       "    </tr>\n",
       "    <tr>\n",
       "      <th id=\"T_373f1_level0_row66\" class=\"row_heading level0 row66\" >66</th>\n",
       "      <td id=\"T_373f1_row66_col0\" class=\"data row66 col0\" >ticinensia</td>\n",
       "      <td id=\"T_373f1_row66_col1\" class=\"data row66 col1\" >Tessiner Editionen des 18. und 19. Jahrhunderts (Biblioteca Salita dei Frati, Lugano)</td>\n",
       "    </tr>\n",
       "    <tr>\n",
       "      <th id=\"T_373f1_level0_row67\" class=\"row_heading level0 row67\" >67</th>\n",
       "      <td id=\"T_373f1_row67_col0\" class=\"data row67 col0\" >vitruviana</td>\n",
       "      <td id=\"T_373f1_row67_col1\" class=\"data row67 col1\" >Vitruviana (Stiftung Bibliothek Werner Oechslin, Einsiedeln)</td>\n",
       "    </tr>\n",
       "    <tr>\n",
       "      <th id=\"T_373f1_level0_row68\" class=\"row_heading level0 row68\" >68</th>\n",
       "      <td id=\"T_373f1_row68_col0\" class=\"data row68 col0\" >oiseaux</td>\n",
       "      <td id=\"T_373f1_row68_col1\" class=\"data row68 col1\" >Vogelbücher (BPU Neuchâtel)</td>\n",
       "    </tr>\n",
       "    <tr>\n",
       "      <th id=\"T_373f1_level0_row69\" class=\"row_heading level0 row69\" >69</th>\n",
       "      <td id=\"T_373f1_row69_col0\" class=\"data row69 col0\" >rousseau</td>\n",
       "      <td id=\"T_373f1_row69_col1\" class=\"data row69 col1\" >Werke von Jean-Jacques Rousseau (Bibliothèque de Genève)</td>\n",
       "    </tr>\n",
       "    <tr>\n",
       "      <th id=\"T_373f1_level0_row70\" class=\"row_heading level0 row70\" >70</th>\n",
       "      <td id=\"T_373f1_row70_col0\" class=\"data row70 col0\" >profethz</td>\n",
       "      <td id=\"T_373f1_row70_col1\" class=\"data row70 col1\" >Werke von Professoren der ETH Zürich (ETH-Bibliothek)</td>\n",
       "    </tr>\n",
       "    <tr>\n",
       "      <th id=\"T_373f1_level0_row71\" class=\"row_heading level0 row71\" >71</th>\n",
       "      <td id=\"T_373f1_row71_col0\" class=\"data row71 col0\" >wihibe</td>\n",
       "      <td id=\"T_373f1_row71_col1\" class=\"data row71 col1\" >Wissenschaftshistorische Bestände (ETH-Bibliothek)</td>\n",
       "    </tr>\n",
       "    <tr>\n",
       "      <th id=\"T_373f1_level0_row72\" class=\"row_heading level0 row72\" >72</th>\n",
       "      <td id=\"T_373f1_row72_col0\" class=\"data row72 col0\" >pbhzwingli</td>\n",
       "      <td id=\"T_373f1_row72_col1\" class=\"data row72 col1\" >Huldrych Zwingli (1484–1531)</td>\n",
       "    </tr>\n",
       "    <tr>\n",
       "      <th id=\"T_373f1_level0_row73\" class=\"row_heading level0 row73\" >73</th>\n",
       "      <td id=\"T_373f1_row73_col0\" class=\"data row73 col0\" >pbjwaser</td>\n",
       "      <td id=\"T_373f1_row73_col1\" class=\"data row73 col1\" >Josias Waser (1598-1629)</td>\n",
       "    </tr>\n",
       "    <tr>\n",
       "      <th id=\"T_373f1_level0_row74\" class=\"row_heading level0 row74\" >74</th>\n",
       "      <td id=\"T_373f1_row74_col0\" class=\"data row74 col0\" >pbjjbodmer</td>\n",
       "      <td id=\"T_373f1_row74_col1\" class=\"data row74 col1\" >Johann Jakob Bodmer (1698–1783)</td>\n",
       "    </tr>\n",
       "    <tr>\n",
       "      <th id=\"T_373f1_level0_row75\" class=\"row_heading level0 row75\" >75</th>\n",
       "      <td id=\"T_373f1_row75_col0\" class=\"data row75 col0\" >pbhkescher</td>\n",
       "      <td id=\"T_373f1_row75_col1\" class=\"data row75 col1\" >Hans Konrad Escher von der Linth (1767-1823)</td>\n",
       "    </tr>\n",
       "    <tr>\n",
       "      <th id=\"T_373f1_level0_row76\" class=\"row_heading level0 row76\" >76</th>\n",
       "      <td id=\"T_373f1_row76_col0\" class=\"data row76 col0\" >pboheer</td>\n",
       "      <td id=\"T_373f1_row76_col1\" class=\"data row76 col1\" >Oswald Heer (1809-1883)</td>\n",
       "    </tr>\n",
       "    <tr>\n",
       "      <th id=\"T_373f1_level0_row77\" class=\"row_heading level0 row77\" >77</th>\n",
       "      <td id=\"T_373f1_row77_col0\" class=\"data row77 col0\" >pbrwolf</td>\n",
       "      <td id=\"T_373f1_row77_col1\" class=\"data row77 col1\" >Rudolf Wolf (1816-1893)</td>\n",
       "    </tr>\n",
       "    <tr>\n",
       "      <th id=\"T_373f1_level0_row78\" class=\"row_heading level0 row78\" >78</th>\n",
       "      <td id=\"T_373f1_row78_col0\" class=\"data row78 col0\" >pbgkeller</td>\n",
       "      <td id=\"T_373f1_row78_col1\" class=\"data row78 col1\" >Gottfried Keller (1819-1890)</td>\n",
       "    </tr>\n",
       "    <tr>\n",
       "      <th id=\"T_373f1_level0_row79\" class=\"row_heading level0 row79\" >79</th>\n",
       "      <td id=\"T_373f1_row79_col0\" class=\"data row79 col0\" >pbjorelli</td>\n",
       "      <td id=\"T_373f1_row79_col1\" class=\"data row79 col1\" >Johannes Orelli (1822-1885)</td>\n",
       "    </tr>\n",
       "    <tr>\n",
       "      <th id=\"T_373f1_level0_row80\" class=\"row_heading level0 row80\" >80</th>\n",
       "      <td id=\"T_373f1_row80_col0\" class=\"data row80 col0\" >pbawaldner</td>\n",
       "      <td id=\"T_373f1_row80_col1\" class=\"data row80 col1\" >August Waldner (1844-1906)</td>\n",
       "    </tr>\n",
       "    <tr>\n",
       "      <th id=\"T_373f1_level0_row81\" class=\"row_heading level0 row81\" >81</th>\n",
       "      <td id=\"T_373f1_row81_col0\" class=\"data row81 col0\" >pbifriedlaender</td>\n",
       "      <td id=\"T_373f1_row81_col1\" class=\"data row81 col1\" >Immanuel Friedlaender (1871-1948)</td>\n",
       "    </tr>\n",
       "    <tr>\n",
       "      <th id=\"T_373f1_level0_row82\" class=\"row_heading level0 row82\" >82</th>\n",
       "      <td id=\"T_373f1_row82_col0\" class=\"data row82 col0\" >pbebircher</td>\n",
       "      <td id=\"T_373f1_row82_col1\" class=\"data row82 col1\" >Eugen Bircher (1882- 1956)</td>\n",
       "    </tr>\n",
       "    <tr>\n",
       "      <th id=\"T_373f1_level0_row83\" class=\"row_heading level0 row83\" >83</th>\n",
       "      <td id=\"T_373f1_row83_col0\" class=\"data row83 col0\" >collection25656349</td>\n",
       "      <td id=\"T_373f1_row83_col1\" class=\"data row83 col1\" >None</td>\n",
       "    </tr>\n",
       "    <tr>\n",
       "      <th id=\"T_373f1_level0_row84\" class=\"row_heading level0 row84\" >84</th>\n",
       "      <td id=\"T_373f1_row84_col0\" class=\"data row84 col0\" >privlib</td>\n",
       "      <td id=\"T_373f1_row84_col1\" class=\"data row84 col1\" >Privatbibliotheken</td>\n",
       "    </tr>\n",
       "    <tr>\n",
       "      <th id=\"T_373f1_level0_row85\" class=\"row_heading level0 row85\" >85</th>\n",
       "      <td id=\"T_373f1_row85_col0\" class=\"data row85 col0\" >doi</td>\n",
       "      <td id=\"T_373f1_row85_col1\" class=\"data row85 col1\" >unknown spec</td>\n",
       "    </tr>\n",
       "    <tr>\n",
       "      <th id=\"T_373f1_level0_row86\" class=\"row_heading level0 row86\" >86</th>\n",
       "      <td id=\"T_373f1_row86_col0\" class=\"data row86 col0\" >notated_music</td>\n",
       "      <td id=\"T_373f1_row86_col1\" class=\"data row86 col1\" >notated music</td>\n",
       "    </tr>\n",
       "    <tr>\n",
       "      <th id=\"T_373f1_level0_row87\" class=\"row_heading level0 row87\" >87</th>\n",
       "      <td id=\"T_373f1_row87_col0\" class=\"data row87 col0\" >book</td>\n",
       "      <td id=\"T_373f1_row87_col1\" class=\"data row87 col1\" >book</td>\n",
       "    </tr>\n",
       "    <tr>\n",
       "      <th id=\"T_373f1_level0_row88\" class=\"row_heading level0 row88\" >88</th>\n",
       "      <td id=\"T_373f1_row88_col0\" class=\"data row88 col0\" >illustration_document</td>\n",
       "      <td id=\"T_373f1_row88_col1\" class=\"data row88 col1\" >illustration document</td>\n",
       "    </tr>\n",
       "    <tr>\n",
       "      <th id=\"T_373f1_level0_row89\" class=\"row_heading level0 row89\" >89</th>\n",
       "      <td id=\"T_373f1_row89_col0\" class=\"data row89 col0\" >cartographic</td>\n",
       "      <td id=\"T_373f1_row89_col1\" class=\"data row89 col1\" >cartographic</td>\n",
       "    </tr>\n",
       "  </tbody>\n",
       "</table>\n"
      ],
      "text/plain": [
       "<pandas.io.formats.style.Styler at 0x7f69d901ff40>"
      ]
     },
     "execution_count": 21,
     "metadata": {},
     "output_type": "execute_result"
    }
   ],
   "source": [
    "# Mit dem PandasDFWriter von Polymatheia lassen sich die Set-Daten einfach in eine übersichtlichere Tabellenform überführen.\n",
    "\n",
    "reader = OAISetReader(oai)\n",
    "setspec = []                          # make an empty list named 'setspec'\n",
    "for x in reader:\n",
    "    setspec.append(x)                 # .append adds all the single reader-contents to the list 'setspec'\n",
    "df = PandasDFWriter().write(setspec)  # write list 'setspec' into a Pandas dataframe named 'df'\n",
    "df.style"
   ]
  },
  {
   "cell_type": "markdown",
   "id": "3d7ba876-c2fa-468c-a2a0-b85e70b79f26",
   "metadata": {},
   "source": [
    "### Grösse eines Sets/einer Sammlung abrufen"
   ]
  },
  {
   "cell_type": "markdown",
   "id": "d6ccbe48-95b1-4730-98fe-7e36efc24b03",
   "metadata": {},
   "source": [
    "Von Interesse ist oft auch die Grösse eines Sets/einer Sammlung. Diese ist etwas versteckt in den ausgebenen Daten, z.B. mit dem OAI verb `ListIdentifiers`, vorhanden. Um die Setgrösse einfach abzurufen, wird eine eine weitere Funktion `setsize()` definiert. Das entsprechende Set wird mit seinem Kurzzeichen abgefragt. "
   ]
  },
  {
   "cell_type": "code",
   "execution_count": 22,
   "id": "0a6e080a-e9cc-41c7-b444-d3ebebf31fdd",
   "metadata": {},
   "outputs": [
    {
     "data": {
      "text/html": [
       "\n",
       "        <iframe\n",
       "            width=\"820\"\n",
       "            height=\"300\"\n",
       "            src=\"https://www.e-rara.ch/oai?verb=ListIdentifiers&set=vitruviana&metadataPrefix=oai_dc\"\n",
       "            frameborder=\"0\"\n",
       "            allowfullscreen\n",
       "        ></iframe>\n",
       "        "
      ],
      "text/plain": [
       "<IPython.lib.display.IFrame at 0x7f69d8fb9280>"
      ]
     },
     "execution_count": 22,
     "metadata": {},
     "output_type": "execute_result"
    }
   ],
   "source": [
    "# Wo steckt die Setgrösse?\n",
    "IFrame('https://www.e-rara.ch/oai?verb=ListIdentifiers&set=vitruviana&metadataPrefix=oai_dc', width=820, height=300)"
   ]
  },
  {
   "cell_type": "code",
   "execution_count": 23,
   "id": "3570ac0b-7403-479d-b8b4-cd63bce5eeac",
   "metadata": {},
   "outputs": [],
   "source": [
    "# Wie gross ist ein bestimtmes Set?\n",
    "\n",
    "def setsize(Set):  \n",
    "    '''\n",
    "    Accesses the OAI interface and retrieves the size of a given OAI set.\n",
    "    Parameters:\n",
    "    Set: The 'setSpec' short cut of the desired OAI set.\n",
    "    '''\n",
    "    base_url = oai\n",
    "    listsearch_term = {'verb': 'ListIdentifiers', 'metadataPrefix': 'oai_dc', 'set': Set}\n",
    "    \n",
    "    # Basic function\n",
    "    def load_xml(params):\n",
    "        '''\n",
    "        Accesses the OAI interface according to given parameters and scrapes its content.\n",
    "        Parameters:\n",
    "        All available native OAI verbs and parameter/value pairs.\n",
    "        '''\n",
    "        response = requests.get(base_url, params=params)\n",
    "        output_soup = soup(response.content, \"lxml\")\n",
    "        return output_soup\n",
    "    \n",
    "    xml_soup = load_xml(listsearch_term)\n",
    "    if xml_soup.resumptiontoken:\n",
    "        set_size = int(xml_soup.resumptiontoken['completelistsize'])\n",
    "    else:\n",
    "        set_size = len(xml_soup.find_all('identifier'))\n",
    "    return set_size"
   ]
  },
  {
   "cell_type": "code",
   "execution_count": 24,
   "id": "9bbd0272-8296-406f-86fc-add2d7ee9db1",
   "metadata": {},
   "outputs": [
    {
     "data": {
      "text/plain": [
       "92070"
      ]
     },
     "execution_count": 24,
     "metadata": {},
     "output_type": "execute_result"
    }
   ],
   "source": [
    "# alle Titel\n",
    "setsize('')"
   ]
  },
  {
   "cell_type": "code",
   "execution_count": 25,
   "id": "a46f5197-3be7-4cda-99a8-ed706b2dbd23",
   "metadata": {},
   "outputs": [
    {
     "data": {
      "text/plain": [
       "641"
      ]
     },
     "execution_count": 25,
     "metadata": {},
     "output_type": "execute_result"
    }
   ],
   "source": [
    "# \"Gottfried Keller (1819-1890)\"\n",
    "setsize('pbgkeller')"
   ]
  },
  {
   "cell_type": "markdown",
   "id": "955c2eef-a439-4704-afc4-12e3a97ae641",
   "metadata": {},
   "source": [
    "### Auf ausgewählte Metadaten eines Sets zugreifen\n",
    "\n",
    "Mit Polymatheia lassen sich leicht **massenhaft Metadaten** per OAI herunterladen. Hierbei können Metadatenstandard, Set/Sammlung und Anzahl von Datensätzen definiert werden. Der entsprechende Reader heisst `OAIRecordReader`. Die Daten sind wieder als Navigable Dictionary im Reader-Objekt gespeichert."
   ]
  },
  {
   "cell_type": "code",
   "execution_count": 26,
   "id": "46dd333d-5213-4ae9-82bb-3db7f65379fa",
   "metadata": {},
   "outputs": [
    {
     "name": "stdout",
     "output_type": "stream",
     "text": [
      "{\n",
      "  \"identifier\": {\n",
      "    \"_text\": \"oai:www.e-rara.ch:25583780\"\n",
      "  },\n",
      "  \"datestamp\": {\n",
      "    \"_text\": \"2021-05-20T06:38:03Z\"\n",
      "  },\n",
      "  \"setSpec\": [\n",
      "    {\n",
      "      \"_text\": \"stp\"\n",
      "    },\n",
      "    {\n",
      "      \"_text\": \"book\"\n",
      "    },\n",
      "    {\n",
      "      \"_text\": \"collections\"\n",
      "    },\n",
      "    {\n",
      "      \"_text\": \"ch\"\n",
      "    },\n",
      "    {\n",
      "      \"_text\": \"ch19\"\n",
      "    }\n",
      "  ]\n",
      "}\n",
      "{\n",
      "  \"identifier\": {\n",
      "    \"_text\": \"oai:www.e-rara.ch:25583895\"\n",
      "  },\n",
      "  \"datestamp\": {\n",
      "    \"_text\": \"2021-05-26T06:08:47Z\"\n",
      "  },\n",
      "  \"setSpec\": [\n",
      "    {\n",
      "      \"_text\": \"stp\"\n",
      "    },\n",
      "    {\n",
      "      \"_text\": \"book\"\n",
      "    },\n",
      "    {\n",
      "      \"_text\": \"collections\"\n",
      "    },\n",
      "    {\n",
      "      \"_text\": \"ch\"\n",
      "    },\n",
      "    {\n",
      "      \"_text\": \"ch19\"\n",
      "    }\n",
      "  ]\n",
      "}\n"
     ]
    }
   ],
   "source": [
    "# x Metadatensätze eines Sets/einer Sammlung herunterladen und die \"header section\" der Datensätze auslesen\n",
    "\n",
    "reader = OAIRecordReader(oai, metadata_prefix='oai_dc', set_spec='stp', max_records=2)\n",
    "for record in reader:\n",
    "    print(record.header)"
   ]
  },
  {
   "cell_type": "code",
   "execution_count": 27,
   "id": "60588590-9270-4fff-9e3a-4117c148a8f8",
   "metadata": {},
   "outputs": [
    {
     "data": {
      "text/plain": [
       "[{'{http://www.openarchives.org/OAI/2.0/oai_dc/}dc': {'_attrib': {'xsi_schemaLocation': 'http://www.openarchives.org/OAI/2.0/oai_dc/ http://www.openarchives.org/OAI/2.0/oai_dc.xsd'},\n",
       "   'dc_title': {'_text': 'Lesebuch für die Unterklassen schweizerischer Volksschulen'},\n",
       "   'dc_creator': {'_text': 'Eberhard, Gerold'},\n",
       "   'dc_subject': [{'_text': 'Deutschunterricht'}, {'_text': 'Volksschule'}],\n",
       "   'dc_description': {'_text': 'von Gerold Eberhard'},\n",
       "   'dc_publisher': {'_text': 'Schulthess'},\n",
       "   'dc_contributor': {'_text': 'Eberhard, Gerold'},\n",
       "   'dc_date': {'_text': '1881'},\n",
       "   'dc_type': [{'_text': 'Text'}, {'_text': 'Book'}],\n",
       "   'dc_format': {'_text': '3 Tle.'},\n",
       "   'dc_identifier': [{'_text': 'doi:10.3931/e-rara-89249'},\n",
       "    {'_text': 'https://www.e-rara.ch/stp/doi/10.3931/e-rara-89249'},\n",
       "    {'_text': 'system:990095018120205521'}],\n",
       "   'dc_relation': {'_text': 'vignette : https://www.e-rara.ch/stp/titlepage/doi/10.3931/e-rara-89249/128'},\n",
       "   'dc_language': {'_text': 'ger'},\n",
       "   'dc_rights': {'_text': 'pdm'}}},\n",
       " {'{http://www.openarchives.org/OAI/2.0/oai_dc/}dc': {'_attrib': {'xsi_schemaLocation': 'http://www.openarchives.org/OAI/2.0/oai_dc/ http://www.openarchives.org/OAI/2.0/oai_dc.xsd'},\n",
       "   'dc_title': {'_text': 'Deutsches Lesebuch für schweizerische Sekundar-, Real- und Bezirksschulen'},\n",
       "   'dc_creator': {'_text': 'Spörri, Heinrich'},\n",
       "   'dc_subject': [{'_text': 'Deutschunterricht'}, {'_text': 'Volksschule'}],\n",
       "   'dc_description': {'_text': 'von Heinrich Spörri'},\n",
       "   'dc_publisher': {'_text': 'Orell, Füssli'},\n",
       "   'dc_contributor': {'_text': 'Spörri, Heinrich'},\n",
       "   'dc_date': {'_text': '1891'},\n",
       "   'dc_type': [{'_text': 'Text'}, {'_text': 'Book'}],\n",
       "   'dc_format': {'_text': '3 Tle.'},\n",
       "   'dc_identifier': [{'_text': 'doi:10.3931/e-rara-89250'},\n",
       "    {'_text': 'https://www.e-rara.ch/stp/doi/10.3931/e-rara-89250'},\n",
       "    {'_text': 'system:990095035040205521'}],\n",
       "   'dc_relation': {'_text': 'vignette : https://www.e-rara.ch/stp/titlepage/doi/10.3931/e-rara-89250/128'},\n",
       "   'dc_language': {'_text': 'ger'},\n",
       "   'dc_rights': {'_text': 'pdm'}}}]"
      ]
     },
     "execution_count": 27,
     "metadata": {},
     "output_type": "execute_result"
    }
   ],
   "source": [
    "# Ebenso kann die \"metadata section\" des Datensätze ausgelesen werden - übersichtlicher in der abgekürzten Form der FOR-Schleife\n",
    "\n",
    "[record.metadata for record in reader]"
   ]
  },
  {
   "cell_type": "code",
   "execution_count": 28,
   "id": "5090e31e-03c0-4265-9c9a-948a3709f68c",
   "metadata": {},
   "outputs": [
    {
     "name": "stdout",
     "output_type": "stream",
     "text": [
      "oai:www.e-rara.ch:25583780\n",
      "oai:www.e-rara.ch:25583780\n",
      "---\n",
      "oai:www.e-rara.ch:25583895\n",
      "oai:www.e-rara.ch:25583895\n",
      "---\n"
     ]
    }
   ],
   "source": [
    "# Einzelne Metadatenfelder können im Navigable Dictionary direkt mit \"Subsetting\" oder per Punkt-Notation adressiert werden\n",
    "\n",
    "for record in reader:\n",
    "    print(record['header']['identifier']['_text'])       # Subsetting in Python\n",
    "    print(record.header.identifier._text)                # Punkt-Notation des NavigableDict\n",
    "    print('---')"
   ]
  },
  {
   "cell_type": "code",
   "execution_count": 29,
   "id": "a0364e52-8558-4725-96dc-7fd3d7ed6703",
   "metadata": {},
   "outputs": [
    {
     "data": {
      "text/plain": [
       "['Lesebuch für die Unterklassen schweizerischer Volksschulen',\n",
       " 'Deutsches Lesebuch für schweizerische Sekundar-, Real- und Bezirksschulen']"
      ]
     },
     "execution_count": 29,
     "metadata": {},
     "output_type": "execute_result"
    }
   ],
   "source": [
    "# Für die Abfrage in der metadata section muss an einer Stelle allerdings zwingend die Subsetting-Syntax verwendet werden \n",
    "# wg. geschweiferter Klammern als Sonderzeichen\n",
    "\n",
    "[record.metadata['{http://www.openarchives.org/OAI/2.0/oai_dc/}dc'].dc_title._text for record in reader]"
   ]
  },
  {
   "cell_type": "code",
   "execution_count": 30,
   "id": "33966306-28dd-4f8f-91bd-813088bffeab",
   "metadata": {},
   "outputs": [
    {
     "ename": "SyntaxError",
     "evalue": "invalid syntax (2734541678.py, line 3)",
     "output_type": "error",
     "traceback": [
      "\u001b[0;36m  File \u001b[0;32m\"/tmp/ipykernel_351/2734541678.py\"\u001b[0;36m, line \u001b[0;32m3\u001b[0m\n\u001b[0;31m    [record.metadata['{http://www.openarchives.org/OAI/2.0/oai_dc/}dc']...... for record in reader]\u001b[0m\n\u001b[0m                                                                       ^\u001b[0m\n\u001b[0;31mSyntaxError\u001b[0m\u001b[0;31m:\u001b[0m invalid syntax\n"
     ]
    }
   ],
   "source": [
    "# Versuchen Sie weitere Metadaten-Elemente so herauszulesen!\n",
    "\n",
    "[record.metadata['{http://www.openarchives.org/OAI/2.0/oai_dc/}dc']...... for record in reader]"
   ]
  },
  {
   "cell_type": "code",
   "execution_count": 31,
   "id": "6ae84695-4c69-42ad-94a0-6207642933fa",
   "metadata": {},
   "outputs": [
    {
     "name": "stdout",
     "output_type": "stream",
     "text": [
      "[{'_text': 'stp'}, {'_text': 'book'}, {'_text': 'collections'}, {'_text': 'ch'}, {'_text': 'ch19'}]\n",
      "[{'_text': 'stp'}, {'_text': 'book'}, {'_text': 'collections'}, {'_text': 'ch'}, {'_text': 'ch19'}]\n"
     ]
    }
   ],
   "source": [
    "# Metadatenfelder können auch mehrere Werte enthalten, wie die Angabe von mehreren Sets/Sammlungen, in die ein Titel gehört\n",
    "# Die Daten werden dann als Liste ausgegeben, zu erkennen an den einfassenden eckigen Klammern.\n",
    "\n",
    "for record in reader:\n",
    "    print(record.header.setSpec)"
   ]
  },
  {
   "cell_type": "code",
   "execution_count": 32,
   "id": "03646bd7-751f-4f6c-b1d8-d9de1c0da4cc",
   "metadata": {},
   "outputs": [
    {
     "name": "stdout",
     "output_type": "stream",
     "text": [
      "stp\n",
      "book\n",
      "collections\n",
      "ch\n",
      "ch19\n",
      "---\n",
      "stp\n",
      "book\n",
      "collections\n",
      "ch\n",
      "ch19\n",
      "---\n"
     ]
    }
   ],
   "source": [
    "# Wie beim Reader können die Listen-Elemente mit einer FOR-Schleife einzeln ausgelesen werden.\n",
    "# D.h. wird haben dann 2 ineinandergeschachtelte FOR-Schleifen\n",
    "\n",
    "for record in reader:\n",
    "    for list_item in record.header.setSpec:\n",
    "        print(list_item._text)\n",
    "    print('---')"
   ]
  },
  {
   "cell_type": "code",
   "execution_count": 33,
   "id": "c75b43d4-a6b7-4111-8a44-00b76fc8153a",
   "metadata": {},
   "outputs": [
    {
     "ename": "SyntaxError",
     "evalue": "invalid syntax (1049347581.py, line 5)",
     "output_type": "error",
     "traceback": [
      "\u001b[0;36m  File \u001b[0;32m\"/tmp/ipykernel_351/1049347581.py\"\u001b[0;36m, line \u001b[0;32m5\u001b[0m\n\u001b[0;31m    for list_item in record.metadata['{http://www.openarchives.org/OAI/2.0/oai_dc/}dc']........:\u001b[0m\n\u001b[0m                                                                                       ^\u001b[0m\n\u001b[0;31mSyntaxError\u001b[0m\u001b[0;31m:\u001b[0m invalid syntax\n"
     ]
    }
   ],
   "source": [
    "# Auch das \"dc_subject\"-Feld in der metadate section enthält eine Liste von mehreren Werten.\n",
    "# Ergänzen Sie den Code, um die einzelnen Werte auszulesen!\n",
    "\n",
    "for record in reader:\n",
    "    for list_item in record.metadata['{http://www.openarchives.org/OAI/2.0/oai_dc/}dc']........:\n",
    "        print(list_item.......)\n",
    "    print('---')"
   ]
  },
  {
   "cell_type": "markdown",
   "id": "67c5d40a-2f6c-4a74-badc-48697412e5bc",
   "metadata": {},
   "source": [
    "Es gibt aber noch einen einfacheren Weg, an die einzelnen Metadaten-Elemente heranzuzukommen! Hier gibt es **keine Probleme mehr mit Einzelwerten versus Listen** als Datenwerte. Die einzelnen hierachisch angeordneten Metadaten-Elemente werden als Parameter eines spezifischen Befehls, `get`, gehandhabt.\n",
    "\n",
    "Zu beachten ist dabei, dass im Falle von Listen ebenso eine Ergebnisliste (in eckigen Klammern) ausgegeben wird.\n"
   ]
  },
  {
   "cell_type": "code",
   "execution_count": 34,
   "id": "c64505c0-a734-4908-9194-d1e5a6df6674",
   "metadata": {},
   "outputs": [
    {
     "name": "stdout",
     "output_type": "stream",
     "text": [
      "oai:www.e-rara.ch:25583780\n",
      "['stp', 'book', 'collections', 'ch', 'ch19']\n",
      "Lesebuch für die Unterklassen schweizerischer Volksschulen\n",
      "['Deutschunterricht', 'Volksschule']\n",
      "---\n",
      "oai:www.e-rara.ch:25583895\n",
      "['stp', 'book', 'collections', 'ch', 'ch19']\n",
      "Deutsches Lesebuch für schweizerische Sekundar-, Real- und Bezirksschulen\n",
      "['Deutschunterricht', 'Volksschule']\n",
      "---\n"
     ]
    }
   ],
   "source": [
    "# Einfacher Zugriff auf alle Metadaten-Elemente mit dem \"get\"-Befehl\n",
    "\n",
    "for record in reader:\n",
    "    print(record.get(['header', 'identifier', '_text']))\n",
    "    print(record.get(['header', 'setSpec', '_text']))\n",
    "    print(record.get(['metadata', '{http://www.openarchives.org/OAI/2.0/oai_dc/}dc', 'dc_title', '_text']))\n",
    "    print(record.get(['metadata', '{http://www.openarchives.org/OAI/2.0/oai_dc/}dc', 'dc_subject', '_text']))\n",
    "    print('---')"
   ]
  },
  {
   "cell_type": "markdown",
   "id": "36b4d395-0711-4bd0-a2c0-18a13838fdfc",
   "metadata": {},
   "source": [
    "### Ausgewählte Metadaten in Tabellenform bringen und als CSV abspeichern"
   ]
  },
  {
   "cell_type": "code",
   "execution_count": 35,
   "id": "d715890d-6f14-4ced-a652-741d8db223ca",
   "metadata": {},
   "outputs": [
    {
     "data": {
      "text/plain": [
       "6285"
      ]
     },
     "execution_count": 35,
     "metadata": {},
     "output_type": "execute_result"
    }
   ],
   "source": [
    "setsize('ch19')"
   ]
  },
  {
   "cell_type": "code",
   "execution_count": 36,
   "id": "2822aace-e9be-45ee-a48d-0a1f9a20a7ad",
   "metadata": {},
   "outputs": [
    {
     "data": {
      "text/html": [
       "<div>\n",
       "<style scoped>\n",
       "    .dataframe tbody tr th:only-of-type {\n",
       "        vertical-align: middle;\n",
       "    }\n",
       "\n",
       "    .dataframe tbody tr th {\n",
       "        vertical-align: top;\n",
       "    }\n",
       "\n",
       "    .dataframe thead th {\n",
       "        text-align: right;\n",
       "    }\n",
       "</style>\n",
       "<table border=\"1\" class=\"dataframe\">\n",
       "  <thead>\n",
       "    <tr style=\"text-align: right;\">\n",
       "      <th></th>\n",
       "      <th>identifier</th>\n",
       "      <th>title</th>\n",
       "      <th>creator</th>\n",
       "      <th>year</th>\n",
       "      <th>language</th>\n",
       "      <th>publisher</th>\n",
       "      <th>subjects</th>\n",
       "      <th>sets</th>\n",
       "      <th>types</th>\n",
       "      <th>rights</th>\n",
       "    </tr>\n",
       "  </thead>\n",
       "  <tbody>\n",
       "    <tr>\n",
       "      <th>0</th>\n",
       "      <td>oai:www.e-rara.ch:14017</td>\n",
       "      <td>Funfzehn Ansichten der neuen St. Gotthards-Str...</td>\n",
       "      <td>Lusser, Karl Franz</td>\n",
       "      <td>1833</td>\n",
       "      <td>ger</td>\n",
       "      <td>bey Heinrich Füssli und Comp., Kunsthandlung z...</td>\n",
       "      <td>[ABBILDUNGEN UND BILDWERKE (DOKUMENTENTYP), GO...</td>\n",
       "      <td>[zut, book, collections, wihibe, ch, ch19]</td>\n",
       "      <td>[Text, Book]</td>\n",
       "      <td>pdm</td>\n",
       "    </tr>\n",
       "    <tr>\n",
       "      <th>1</th>\n",
       "      <td>oai:www.e-rara.ch:34616</td>\n",
       "      <td>Der  Baugarten</td>\n",
       "      <td>Esslinger, Christoph</td>\n",
       "      <td>1842</td>\n",
       "      <td>ger</td>\n",
       "      <td>Verlag von Hermann Trachsler</td>\n",
       "      <td>[PANORAMENKARTEN, ZÜRICH, STADT (KANTON ZÜRICH)]</td>\n",
       "      <td>[zut, book, collections, wihibe, ch, ch19]</td>\n",
       "      <td>[Text, Book]</td>\n",
       "      <td>pdm</td>\n",
       "    </tr>\n",
       "    <tr>\n",
       "      <th>2</th>\n",
       "      <td>oai:www.e-rara.ch:34628</td>\n",
       "      <td>Der  Höckler und das Schlösschen Maneck : ein ...</td>\n",
       "      <td>Hardmeyer, Carl Wilhelm</td>\n",
       "      <td>1840</td>\n",
       "      <td>ger</td>\n",
       "      <td>bei Herrmann Trachsler</td>\n",
       "      <td>[PANORAMENKARTEN, ZÜRICH, STADT (KANTON ZÜRICH)]</td>\n",
       "      <td>[zut, book, collections, wihibe, ch, ch19]</td>\n",
       "      <td>[Text, Book]</td>\n",
       "      <td>pdm</td>\n",
       "    </tr>\n",
       "    <tr>\n",
       "      <th>3</th>\n",
       "      <td>oai:www.e-rara.ch:366308</td>\n",
       "      <td>Ergebnisse der trigonometrischen Vermessungen ...</td>\n",
       "      <td>Eschmann, Johannes</td>\n",
       "      <td>1840</td>\n",
       "      <td>ger</td>\n",
       "      <td>Orell, Füssli</td>\n",
       "      <td>[AARBERG, ORT (KANTON BERN), BERN, STADT (KANT...</td>\n",
       "      <td>[zut, book, collections, wihibe, ch, ch19, pri...</td>\n",
       "      <td>[Text, Book]</td>\n",
       "      <td>pdm</td>\n",
       "    </tr>\n",
       "    <tr>\n",
       "      <th>4</th>\n",
       "      <td>oai:www.e-rara.ch:388892</td>\n",
       "      <td>Allgemeines Künstlerlexikon, oder: Kurze Nachr...</td>\n",
       "      <td>Füssli, Johann Rudolf</td>\n",
       "      <td>[1806, 1821]</td>\n",
       "      <td>ger</td>\n",
       "      <td>Orell, Füssli</td>\n",
       "      <td>None</td>\n",
       "      <td>[zut, book, collections, wihibe, ch, ch19]</td>\n",
       "      <td>[Text, Book]</td>\n",
       "      <td>pdm</td>\n",
       "    </tr>\n",
       "    <tr>\n",
       "      <th>...</th>\n",
       "      <td>...</td>\n",
       "      <td>...</td>\n",
       "      <td>...</td>\n",
       "      <td>...</td>\n",
       "      <td>...</td>\n",
       "      <td>...</td>\n",
       "      <td>...</td>\n",
       "      <td>...</td>\n",
       "      <td>...</td>\n",
       "      <td>...</td>\n",
       "    </tr>\n",
       "    <tr>\n",
       "      <th>995</th>\n",
       "      <td>oai:www.e-rara.ch:6775826</td>\n",
       "      <td>Dissertation sur la partie de l'optique qui tr...</td>\n",
       "      <td>La Rive, Auguste Arthur de</td>\n",
       "      <td>1823</td>\n",
       "      <td>fre</td>\n",
       "      <td>de l'imprimerie aux barrières</td>\n",
       "      <td>None</td>\n",
       "      <td>[zut, book, collections, wihibe, ch, ch19]</td>\n",
       "      <td>[Text, Book]</td>\n",
       "      <td>pdm</td>\n",
       "    </tr>\n",
       "    <tr>\n",
       "      <th>996</th>\n",
       "      <td>oai:www.e-rara.ch:6776914</td>\n",
       "      <td>Schweizerische Handels-Akademie in Zürich : Pr...</td>\n",
       "      <td>Bertsch, Ferdinand</td>\n",
       "      <td>1895</td>\n",
       "      <td>ger</td>\n",
       "      <td>Wildhaber</td>\n",
       "      <td>None</td>\n",
       "      <td>[zuz, book, ch, ch19]</td>\n",
       "      <td>[Text, Book]</td>\n",
       "      <td>pdm</td>\n",
       "    </tr>\n",
       "    <tr>\n",
       "      <th>997</th>\n",
       "      <td>oai:www.e-rara.ch:6799599</td>\n",
       "      <td>Die  Schweiz / 1 Der  schweizerische Jura : se...</td>\n",
       "      <td>Siegfried, Johann Jacob</td>\n",
       "      <td>1851</td>\n",
       "      <td>ger</td>\n",
       "      <td>Druck und Verlag von Orell, Füssli &amp; Comp.</td>\n",
       "      <td>None</td>\n",
       "      <td>[zut, book, collections, wihibe, ch, ch19]</td>\n",
       "      <td>[Text, Book]</td>\n",
       "      <td>pdm</td>\n",
       "    </tr>\n",
       "    <tr>\n",
       "      <th>998</th>\n",
       "      <td>oai:www.e-rara.ch:6800516</td>\n",
       "      <td>Bericht der Finanz-Commission des Stadtrathes ...</td>\n",
       "      <td>Bern</td>\n",
       "      <td>1834</td>\n",
       "      <td>ger</td>\n",
       "      <td>Rätzer</td>\n",
       "      <td>None</td>\n",
       "      <td>[bes_1, book, collections, bernensia, ch, ch19]</td>\n",
       "      <td>[Text, Book]</td>\n",
       "      <td>pdm</td>\n",
       "    </tr>\n",
       "    <tr>\n",
       "      <th>999</th>\n",
       "      <td>oai:www.e-rara.ch:6800520</td>\n",
       "      <td>Gutachten des verstärkten Burgerrathes zu Hand...</td>\n",
       "      <td>Bern, Burgergemeinde</td>\n",
       "      <td>1848</td>\n",
       "      <td>ger</td>\n",
       "      <td>C. Rätzer</td>\n",
       "      <td>None</td>\n",
       "      <td>[bes_1, book, collections, bernensia, ch, ch19]</td>\n",
       "      <td>[Text, Book]</td>\n",
       "      <td>pdm</td>\n",
       "    </tr>\n",
       "  </tbody>\n",
       "</table>\n",
       "<p>1000 rows × 10 columns</p>\n",
       "</div>"
      ],
      "text/plain": [
       "                    identifier  \\\n",
       "0      oai:www.e-rara.ch:14017   \n",
       "1      oai:www.e-rara.ch:34616   \n",
       "2      oai:www.e-rara.ch:34628   \n",
       "3     oai:www.e-rara.ch:366308   \n",
       "4     oai:www.e-rara.ch:388892   \n",
       "..                         ...   \n",
       "995  oai:www.e-rara.ch:6775826   \n",
       "996  oai:www.e-rara.ch:6776914   \n",
       "997  oai:www.e-rara.ch:6799599   \n",
       "998  oai:www.e-rara.ch:6800516   \n",
       "999  oai:www.e-rara.ch:6800520   \n",
       "\n",
       "                                                 title  \\\n",
       "0    Funfzehn Ansichten der neuen St. Gotthards-Str...   \n",
       "1                                       Der  Baugarten   \n",
       "2    Der  Höckler und das Schlösschen Maneck : ein ...   \n",
       "3    Ergebnisse der trigonometrischen Vermessungen ...   \n",
       "4    Allgemeines Künstlerlexikon, oder: Kurze Nachr...   \n",
       "..                                                 ...   \n",
       "995  Dissertation sur la partie de l'optique qui tr...   \n",
       "996  Schweizerische Handels-Akademie in Zürich : Pr...   \n",
       "997  Die  Schweiz / 1 Der  schweizerische Jura : se...   \n",
       "998  Bericht der Finanz-Commission des Stadtrathes ...   \n",
       "999  Gutachten des verstärkten Burgerrathes zu Hand...   \n",
       "\n",
       "                        creator          year language  \\\n",
       "0            Lusser, Karl Franz          1833      ger   \n",
       "1          Esslinger, Christoph          1842      ger   \n",
       "2       Hardmeyer, Carl Wilhelm          1840      ger   \n",
       "3            Eschmann, Johannes          1840      ger   \n",
       "4         Füssli, Johann Rudolf  [1806, 1821]      ger   \n",
       "..                          ...           ...      ...   \n",
       "995  La Rive, Auguste Arthur de          1823      fre   \n",
       "996          Bertsch, Ferdinand          1895      ger   \n",
       "997     Siegfried, Johann Jacob          1851      ger   \n",
       "998                        Bern          1834      ger   \n",
       "999        Bern, Burgergemeinde          1848      ger   \n",
       "\n",
       "                                             publisher  \\\n",
       "0    bey Heinrich Füssli und Comp., Kunsthandlung z...   \n",
       "1                         Verlag von Hermann Trachsler   \n",
       "2                               bei Herrmann Trachsler   \n",
       "3                                        Orell, Füssli   \n",
       "4                                        Orell, Füssli   \n",
       "..                                                 ...   \n",
       "995                      de l'imprimerie aux barrières   \n",
       "996                                          Wildhaber   \n",
       "997         Druck und Verlag von Orell, Füssli & Comp.   \n",
       "998                                             Rätzer   \n",
       "999                                          C. Rätzer   \n",
       "\n",
       "                                              subjects  \\\n",
       "0    [ABBILDUNGEN UND BILDWERKE (DOKUMENTENTYP), GO...   \n",
       "1     [PANORAMENKARTEN, ZÜRICH, STADT (KANTON ZÜRICH)]   \n",
       "2     [PANORAMENKARTEN, ZÜRICH, STADT (KANTON ZÜRICH)]   \n",
       "3    [AARBERG, ORT (KANTON BERN), BERN, STADT (KANT...   \n",
       "4                                                 None   \n",
       "..                                                 ...   \n",
       "995                                               None   \n",
       "996                                               None   \n",
       "997                                               None   \n",
       "998                                               None   \n",
       "999                                               None   \n",
       "\n",
       "                                                  sets         types rights  \n",
       "0           [zut, book, collections, wihibe, ch, ch19]  [Text, Book]    pdm  \n",
       "1           [zut, book, collections, wihibe, ch, ch19]  [Text, Book]    pdm  \n",
       "2           [zut, book, collections, wihibe, ch, ch19]  [Text, Book]    pdm  \n",
       "3    [zut, book, collections, wihibe, ch, ch19, pri...  [Text, Book]    pdm  \n",
       "4           [zut, book, collections, wihibe, ch, ch19]  [Text, Book]    pdm  \n",
       "..                                                 ...           ...    ...  \n",
       "995         [zut, book, collections, wihibe, ch, ch19]  [Text, Book]    pdm  \n",
       "996                              [zuz, book, ch, ch19]  [Text, Book]    pdm  \n",
       "997         [zut, book, collections, wihibe, ch, ch19]  [Text, Book]    pdm  \n",
       "998    [bes_1, book, collections, bernensia, ch, ch19]  [Text, Book]    pdm  \n",
       "999    [bes_1, book, collections, bernensia, ch, ch19]  [Text, Book]    pdm  \n",
       "\n",
       "[1000 rows x 10 columns]"
      ]
     },
     "execution_count": 36,
     "metadata": {},
     "output_type": "execute_result"
    }
   ],
   "source": [
    "reader = OAIRecordReader(oai, metadata_prefix='oai_dc', set_spec='ch19', max_records=1000)\n",
    "\n",
    "identifier = [] \n",
    "sets = []\n",
    "creator = []\n",
    "title = [] \n",
    "year = []\n",
    "language = []\n",
    "publisher = []\n",
    "subjects = []\n",
    "types = []\n",
    "rights = []\n",
    "\n",
    "\n",
    "for record in reader:\n",
    "    identifier.append(record.get(['header', 'identifier', '_text']))\n",
    "    sets.append(record.get(['header', 'setSpec', '_text']))\n",
    "    creator.append(record.get(['metadata', '{http://www.openarchives.org/OAI/2.0/oai_dc/}dc', 'dc_creator', '_text']))\n",
    "    title.append(record.get(['metadata', '{http://www.openarchives.org/OAI/2.0/oai_dc/}dc', 'dc_title', '_text']))\n",
    "    year.append(record.get(['metadata', '{http://www.openarchives.org/OAI/2.0/oai_dc/}dc', 'dc_date', '_text']))\n",
    "    language.append(record.get(['metadata', '{http://www.openarchives.org/OAI/2.0/oai_dc/}dc', 'dc_language', '_text']))\n",
    "    publisher.append(record.get(['metadata', '{http://www.openarchives.org/OAI/2.0/oai_dc/}dc', 'dc_publisher', '_text']))\n",
    "    subjects.append(record.get(['metadata', '{http://www.openarchives.org/OAI/2.0/oai_dc/}dc', 'dc_subject', '_text']))\n",
    "    types.append(record.get(['metadata', '{http://www.openarchives.org/OAI/2.0/oai_dc/}dc', 'dc_type', '_text']))\n",
    "    rights.append(record.get(['metadata', '{http://www.openarchives.org/OAI/2.0/oai_dc/}dc', 'dc_rights', '_text']))\n",
    "    \n",
    "df = pd.DataFrame(list(zip(identifier, title, creator, year, language, publisher, subjects, sets, types, rights)),\n",
    "               columns =['identifier', 'title', 'creator', 'year', 'language', 'publisher', 'subjects', 'sets', 'types', 'rights'])\n",
    "df"
   ]
  },
  {
   "cell_type": "code",
   "execution_count": 37,
   "id": "6cc4ce44-ce73-4730-abec-2bc9053b069f",
   "metadata": {},
   "outputs": [],
   "source": [
    "# Tabelle als CSV-Datei abspeichern, mit Semikolon als Spaltentrenner\n",
    "outfile = 'e-rara_daten_semikolon.csv'\n",
    "with open(outfile, mode='w', encoding='utf-8') as f:\n",
    "    df.to_csv(f, index=False, sep=';')"
   ]
  },
  {
   "cell_type": "code",
   "execution_count": 38,
   "id": "ee2c0984-c10c-4905-bc41-3f33016b3532",
   "metadata": {},
   "outputs": [],
   "source": [
    "# Tabelle als CSV-Datei abspeichern, mit Komma als Spaltentrenner (default)\n",
    "outfile = 'e-rara_daten.csv'\n",
    "with open(outfile, mode='w', encoding='utf-8') as f:\n",
    "    df.to_csv(f, index=False)"
   ]
  },
  {
   "cell_type": "markdown",
   "id": "a3bf4509-e5a7-4a4d-a23f-e4fef2b9d50d",
   "metadata": {},
   "source": [
    "## Ganze Metadatensätze als JSON-Dateien speichern"
   ]
  },
  {
   "cell_type": "markdown",
   "id": "d2e33949-2e29-48fe-8cfb-aec730202da3",
   "metadata": {},
   "source": [
    "Daten, die als Navigable Dictionary vorliegen können einfach in **JSON-Formatierung** abgespeichert werden. Hierfür werden die einzelnen Datensätze aus dem Reader gelesen und **mit `.json` Dateiendung** mit dem **e-rara-Identifier als Dateiname** gespeichert. Im Beispiel wird vorab noch ein Ordner `json_data_dc` für die entstehenden Dateien angelegt."
   ]
  },
  {
   "cell_type": "code",
   "execution_count": 39,
   "id": "d14546c0-2e3d-4e6a-a211-6a2c206e714e",
   "metadata": {},
   "outputs": [
    {
     "name": "stdout",
     "output_type": "stream",
     "text": [
      "25583780\n",
      "25583895\n",
      "25584228\n",
      "25584375\n",
      "25584554\n",
      "24724301\n",
      "24724357\n",
      "24724422\n",
      "24724541\n",
      "24724594\n"
     ]
    }
   ],
   "source": [
    "# Auslesen der e-rara-Identifier eines Sets\n",
    "reader = OAIRecordReader(oai, metadata_prefix='oai_dc', set_spec='stp', max_records=10)\n",
    "\n",
    "for record in reader:\n",
    "    match = re.search('oai:www.e-rara.ch:(\\d+)', record.header.identifier._text)\n",
    "    ID = match.group(1)\n",
    "    print(ID)"
   ]
  },
  {
   "cell_type": "code",
   "execution_count": 40,
   "id": "eb450d74-01ad-4cf7-9d6a-16076f8bf32b",
   "metadata": {},
   "outputs": [
    {
     "name": "stdout",
     "output_type": "stream",
     "text": [
      "Metadata file 25583780.json saved\n",
      "Metadata file 25583895.json saved\n",
      "Metadata file 25584228.json saved\n",
      "Metadata file 25584375.json saved\n",
      "Metadata file 25584554.json saved\n",
      "Metadata file 24724301.json saved\n",
      "Metadata file 24724357.json saved\n",
      "Metadata file 24724422.json saved\n",
      "Metadata file 24724541.json saved\n",
      "Metadata file 24724594.json saved\n"
     ]
    }
   ],
   "source": [
    "# Metadaten eines Sets/einer Sammlung als JSON-Dateien abspeichern, mit e-rara Identifiern als Dateiname\n",
    "# Versuchen Sie auch das Gleiche im MODS-Standard und vergleichen Sie die abgespeicherten JSON-Dateien!\n",
    "\n",
    "reader = OAIRecordReader(oai, metadata_prefix='oai_dc', set_spec='stp', max_records=10)\n",
    "os.makedirs('json_data_dc', exist_ok=True)\n",
    "path = 'json_data_dc'\n",
    "\n",
    "for record in reader:\n",
    "    match = re.search('oai:www.e-rara.ch:(\\d+)', record.header.identifier._text)\n",
    "    ID = match.group(1)\n",
    "    outfile = path + '/{}.json'.format(ID)\n",
    "    try:\n",
    "        with open(outfile, mode='w', encoding='utf-8') as f:\n",
    "            f.write(str(record))\n",
    "            print(\"Metadata file {}.json saved\".format(ID))\n",
    "    except:\n",
    "            print(\"Saving metadata file failed\".format(ID))\n",
    "    finally:\n",
    "            pass"
   ]
  },
  {
   "cell_type": "code",
   "execution_count": null,
   "id": "c19a8a6f-56a1-4135-9b9a-213704148c57",
   "metadata": {},
   "outputs": [],
   "source": []
  }
 ],
 "metadata": {
  "kernelspec": {
   "display_name": "Python 3 (ipykernel)",
   "language": "python",
   "name": "python3"
  },
  "language_info": {
   "codemirror_mode": {
    "name": "ipython",
    "version": 3
   },
   "file_extension": ".py",
   "mimetype": "text/x-python",
   "name": "python",
   "nbconvert_exporter": "python",
   "pygments_lexer": "ipython3",
   "version": "3.8.10"
  },
  "toc-autonumbering": true,
  "toc-showcode": false,
  "toc-showmarkdowntxt": false
 },
 "nbformat": 4,
 "nbformat_minor": 5
}
