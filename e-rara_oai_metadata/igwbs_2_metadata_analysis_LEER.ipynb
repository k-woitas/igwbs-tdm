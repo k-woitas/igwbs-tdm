{
 "cells": [
  {
   "cell_type": "markdown",
   "id": "9b6ec704-ac61-455f-ba8d-3996dbded7b8",
   "metadata": {},
   "source": [
    "# TDM for IGWBS 2: Metadaten-Analyse und Visualisierung"
   ]
  },
  {
   "cell_type": "markdown",
   "id": "c2488d0d-4bef-43d5-b6ec-2744b2b32d7d",
   "metadata": {},
   "source": [
    "## Was brauchen wir?"
   ]
  },
  {
   "cell_type": "code",
   "execution_count": null,
   "id": "c1c78942-2f0e-4f59-a887-0a2b46451689",
   "metadata": {},
   "outputs": [],
   "source": [
    "# Benötigte Python Libraries importieren\n",
    "import pandas as pd                    # Standard Library für Dataframes (tabellenartige Datenstrukturen)\n",
    "import collections                     # spezielle Daten-Container\n",
    "import re                              # mit Regex (Regular Expressions) arbeiten\n",
    "import json                            # mit JSON Daten umgehen (hier: hilfsweise)\n",
    "import seaborn as sns                  # Visualisierung\n",
    "import matplotlib.pyplot as plt        # Visualisierung 2\n",
    "from matplotlib.pyplot import figure\n",
    "%matplotlib inline\n",
    "print(\"Alle Libraries erfolgreich importiert\")"
   ]
  },
  {
   "cell_type": "code",
   "execution_count": null,
   "id": "26ce51d2-3567-4f45-8eb8-1cf2dedddc60",
   "metadata": {},
   "outputs": [],
   "source": [
    "import warnings                        # allfällige Warnungen nicht anzeigen\n",
    "warnings.filterwarnings('ignore')"
   ]
  },
  {
   "cell_type": "markdown",
   "id": "9358dc1a-cf6f-47ff-b502-07ff267b8779",
   "metadata": {},
   "source": [
    "## Daten aus CSV in einen Dataframe laden"
   ]
  },
  {
   "cell_type": "code",
   "execution_count": null,
   "id": "9ab2f7c8-1e63-4660-84cb-e8865b2344fe",
   "metadata": {},
   "outputs": [],
   "source": [
    "infile = 'e-rara_daten_semikolon.csv'\n",
    "with open(infile, mode='r', encoding='utf-8') as f:\n",
    "    df = pd.read_csv(f, sep=';')"
   ]
  },
  {
   "cell_type": "code",
   "execution_count": null,
   "id": "717c81da-6eee-4da9-bbbd-953490baf2ee",
   "metadata": {},
   "outputs": [],
   "source": [
    "df.head(5)"
   ]
  },
  {
   "cell_type": "markdown",
   "id": "c56e5d0c-80fe-44bf-b406-44015b92336d",
   "metadata": {},
   "source": [
    "## Einfache Statistiken"
   ]
  },
  {
   "cell_type": "code",
   "execution_count": null,
   "id": "090fbd89-3fe1-454c-9fa2-c4f2e535af2c",
   "metadata": {},
   "outputs": [],
   "source": [
    "# Überblick über die Daten: Grösse, Spalten, Null-Werte, Datentypen\n",
    "df.info()"
   ]
  },
  {
   "cell_type": "code",
   "execution_count": null,
   "id": "441fa402-93e3-4062-9e55-e7fefd8c03a8",
   "metadata": {},
   "outputs": [],
   "source": [
    "# wie viele \"non-null\" Werte sind vorhanden = count\n",
    "# wie viele unterschiedliche Werte = unique\n",
    "# häufigste Werte mit Anzahl = top, freq\n",
    "\n",
    "df.describe(include='object')"
   ]
  },
  {
   "cell_type": "code",
   "execution_count": null,
   "id": "8c3a5379-26a1-4386-ba2f-6594bc7dfcfb",
   "metadata": {},
   "outputs": [],
   "source": [
    "# Wie sehen die 10 häufigsten Werte für das Metadatum \"title\" aus und wie oft tauchen diese auf?\n",
    "counter = collections.Counter(df.title)\n",
    "counter.most_common(10)"
   ]
  },
  {
   "cell_type": "code",
   "execution_count": null,
   "id": "b7092374-476d-4dcc-80ad-ade8d5030595",
   "metadata": {},
   "outputs": [],
   "source": [
    "# Analog für \"creator\"\n",
    "counter = collections.Counter(df.creator)\n",
    "counter.most_common(10)"
   ]
  },
  {
   "cell_type": "code",
   "execution_count": null,
   "id": "9fc0646b-0df7-449b-b2fa-85b1a374e2d4",
   "metadata": {},
   "outputs": [],
   "source": [
    "# Analog für \"types\"\n",
    "counter = collections.Counter(df.types)\n",
    "counter.most_common()"
   ]
  },
  {
   "cell_type": "code",
   "execution_count": null,
   "id": "be783bd6-a294-44c3-81b5-ace57d9620e0",
   "metadata": {},
   "outputs": [],
   "source": [
    "# Wie sieht es mit den Ausprägungen in \"sets\" aus, und dies in Anteilen?\n",
    "df['sets'].value_counts(normalize=True)"
   ]
  },
  {
   "cell_type": "code",
   "execution_count": null,
   "id": "de30709a-7908-4ec0-ad66-19bd963ae25e",
   "metadata": {},
   "outputs": [],
   "source": [
    "# Alternative: alle Ausprägungen für das Metadatum \"language\", mit Anzahl\n",
    "df['language'].value_counts()"
   ]
  },
  {
   "cell_type": "code",
   "execution_count": null,
   "id": "da490008-f6b8-448e-b6c0-6ee063c8fe28",
   "metadata": {},
   "outputs": [],
   "source": [
    "# Wie viele unterschiedliche Datensätze gibt es? Bzw. gibt es Duplikate?\n",
    "len(df.value_counts(dropna=False))"
   ]
  },
  {
   "cell_type": "code",
   "execution_count": null,
   "id": "7901411b-41c9-424b-89ef-c6b63f191ec5",
   "metadata": {},
   "outputs": [],
   "source": [
    "# Wie viele Null-Werte (= \"Wert nicht-vorhanden\") gibt es?\n",
    "df.isnull().sum().sum()"
   ]
  },
  {
   "cell_type": "code",
   "execution_count": null,
   "id": "3080d7f2-7f9b-45e6-8103-4798751b3b46",
   "metadata": {},
   "outputs": [],
   "source": [
    "# Und in einer spezifischen Spalte, hier \"subjects\"?\n",
    "df.subjects.isna().sum()"
   ]
  },
  {
   "cell_type": "code",
   "execution_count": null,
   "id": "a73480b1-fad0-4656-9860-219fdaa71b50",
   "metadata": {},
   "outputs": [],
   "source": [
    "# In allen Spalten im Überblick\n",
    "df.isna().sum()"
   ]
  },
  {
   "cell_type": "code",
   "execution_count": null,
   "id": "358319e8-15ea-4ce7-a36c-77839a4d2ec9",
   "metadata": {},
   "outputs": [],
   "source": [
    "# Alle Zeilen mit mindestens einem Null-Wert.\n",
    "df[df.isna().any(axis=1)]"
   ]
  },
  {
   "cell_type": "code",
   "execution_count": null,
   "id": "70bd410a-8f80-4497-a26c-50f8fad9eb66",
   "metadata": {},
   "outputs": [],
   "source": [
    "# Gegenüberstellung zweier Werte\n",
    "pd.crosstab(df.language, df.types)"
   ]
  },
  {
   "cell_type": "code",
   "execution_count": null,
   "id": "17251a1a-5c61-41a1-8fc0-53f8e5e243fe",
   "metadata": {},
   "outputs": [],
   "source": [
    "# Variante\n",
    "df.groupby(['language', 'types']).size()"
   ]
  },
  {
   "cell_type": "markdown",
   "id": "67e08bd5-47ab-430c-bf92-27f7769ed202",
   "metadata": {},
   "source": [
    "## Datentransformation und Bereinigung"
   ]
  },
  {
   "cell_type": "markdown",
   "id": "d8ff27ab-3af8-4747-9f92-d8c845b97b95",
   "metadata": {},
   "source": [
    "### Sets, Subjects und Types auswerten"
   ]
  },
  {
   "cell_type": "code",
   "execution_count": null,
   "id": "7023a15b-edb3-414a-be45-ef274a8f8c3f",
   "metadata": {},
   "outputs": [],
   "source": [
    "# Problem: Es sind mehrere Werte in den \"sets\"-Feldern enthalten - allerdings nicht als Liste, sondern als String\n",
    "# -> macht Auswertung schwer\n",
    "\n",
    "print(df.sets[721])\n",
    "print('---')\n",
    "print(type(df.sets[721]))"
   ]
  },
  {
   "cell_type": "code",
   "execution_count": null,
   "id": "91f3cf4c-b930-4de6-9b52-1cc25ce694fa",
   "metadata": {},
   "outputs": [],
   "source": [
    "# Dasselbe gilt für die \"subjects\" und \"Types\"\n",
    "print(df.subjects[721])\n",
    "print('---')\n",
    "print(type(df.subjects[721]))\n",
    "print('---')\n",
    "print(df.types[721])\n",
    "print('---')\n",
    "print(type(df.types[721]))"
   ]
  },
  {
   "cell_type": "code",
   "execution_count": null,
   "id": "0cbd3b1b-9d62-4122-95ca-a4792539fa98",
   "metadata": {},
   "outputs": [],
   "source": [
    "# Drei neue Spalten \"sets_list\", \"types_list\" und \"subjects_list\", in der Sets, Types und Subjects wieder zählbare Listen sind!\n",
    "\n",
    "df['sets_list'] = 0\n",
    "for i in df.index:\n",
    "    string = df.sets[i]\n",
    "    string2 = string.replace('\\'', '\"')\n",
    "    df['sets_list'][i] = json.loads(string2) \n",
    "    \n",
    "df['types_list'] = 0\n",
    "for i in df.index:\n",
    "    string = df.types[i]\n",
    "    string2 = string.replace('\\'', '\"')\n",
    "    df['types_list'][i] = json.loads(string2) \n",
    "    \n",
    "df['subjects_list'] = 0\n",
    "for i in df.index:\n",
    "    try:\n",
    "        #print(type(df['subjects'][i]))\n",
    "        string = df.subjects[i]\n",
    "        string2 = string.replace('\\'', '\"')\n",
    "        df['subjects_list'][i] = json.loads(string2)\n",
    "    except: pass"
   ]
  },
  {
   "cell_type": "code",
   "execution_count": null,
   "id": "39b9874c-a220-492e-909a-6967ecb7e295",
   "metadata": {},
   "outputs": [],
   "source": [
    "df[670:675]"
   ]
  },
  {
   "cell_type": "code",
   "execution_count": null,
   "id": "7a8cc90b-8bf5-4b15-8159-602e5d596ca5",
   "metadata": {},
   "outputs": [],
   "source": [
    "# Gegenprobe\n",
    "print(type(df.sets_list[3]))\n",
    "print(type(df.types_list[3]))\n",
    "print(type(df.subjects_list[3]))"
   ]
  },
  {
   "cell_type": "code",
   "execution_count": null,
   "id": "6459e583-399f-4b56-b37d-ed829c06e39c",
   "metadata": {},
   "outputs": [],
   "source": [
    "# Auslesen allen Listenelmente in der gesamte Spalte \"sets_list\" und zusammenfassen in einer externen Gesamtliste \"sets_all\"\n",
    "sets_all = []\n",
    "for i in df.index:\n",
    "    sets_all.extend(df.sets_list[i])\n",
    "    \n",
    "len(sets_all)"
   ]
  },
  {
   "cell_type": "code",
   "execution_count": null,
   "id": "236b6eee-3d21-4af9-8242-9578d00c3348",
   "metadata": {},
   "outputs": [],
   "source": [
    "# Auswertung von \"sets_all\"\n",
    "counter = collections.Counter(sets_all)\n",
    "counter.most_common(20)"
   ]
  },
  {
   "cell_type": "code",
   "execution_count": null,
   "id": "076a6718-7eb6-42df-9570-ea4c54ab0e0b",
   "metadata": {},
   "outputs": [],
   "source": [
    "# Auslesen allen Listenelmente in der gesamte Spalte \"sets_list\" und zusammenfassen in einer externen Gesamtliste \"sets_all\"\n",
    "types_all = []\n",
    "for i in df.index:\n",
    "    types_all.extend(df.types_list[i])\n",
    "    \n",
    "len(types_all)"
   ]
  },
  {
   "cell_type": "code",
   "execution_count": null,
   "id": "64b43c10-cffc-4478-a977-f70ab2494bc0",
   "metadata": {},
   "outputs": [],
   "source": [
    "# Auswerten von \"types_all\"\n",
    "counter = collections.Counter(types_all)\n",
    "counter.most_common()"
   ]
  },
  {
   "cell_type": "code",
   "execution_count": null,
   "id": "9e8b99e8-fcd6-440b-b316-472fb0870f4b",
   "metadata": {},
   "outputs": [],
   "source": [
    "# Analog für \"subjects_list\" -> externe GesamtListe \"subjects_all\" zur Auswertung\n",
    "subjects_all = []\n",
    "for i in df.index:\n",
    "    if type(df.subjects_list[i]) == list:\n",
    "        subjects_all.extend(df.subjects_list[i])\n",
    "        \n",
    "len(subjects_all)"
   ]
  },
  {
   "cell_type": "code",
   "execution_count": null,
   "id": "7eaebc37-203a-48be-b32e-16c5b4dbe3f9",
   "metadata": {},
   "outputs": [],
   "source": [
    "# Auswertung von \"subjects_all\"\n",
    "counter = collections.Counter(subjects_all)\n",
    "counter.most_common(20)"
   ]
  },
  {
   "cell_type": "markdown",
   "id": "b665cd0a-be97-458f-9357-67cdcfe9a5da",
   "metadata": {},
   "source": [
    "### Start-Jahre auslesen"
   ]
  },
  {
   "cell_type": "code",
   "execution_count": null,
   "id": "91ec6e4d-7d82-4a79-8394-7eef55151ff2",
   "metadata": {},
   "outputs": [],
   "source": [
    "# Eine neue Spalte bilden mit dem einzigen bzw. erstgenannten Jahr = \"start_year\"\n",
    "\n",
    "df['start_year'] = 0\n",
    "for i in df.index:\n",
    "    match = re.search('(\\d+)', df.year[i])\n",
    "    if match:\n",
    "        y = match.group(1)\n",
    "    else:\n",
    "        y = 0\n",
    "    df['start_year'][i] = y\n",
    "df.start_year.astype('int')"
   ]
  },
  {
   "cell_type": "code",
   "execution_count": null,
   "id": "664379c7-fb07-40d2-8d30-24df99615dd2",
   "metadata": {},
   "outputs": [],
   "source": [
    "# alternative Anzeige der ersten 5 Zeilen zu df.head(5)\n",
    "df[:5]"
   ]
  },
  {
   "cell_type": "code",
   "execution_count": null,
   "id": "03ecf829-a574-4291-9dc3-a641defa5834",
   "metadata": {},
   "outputs": [],
   "source": [
    "# Datentypen in den Spalten: Es gibt einen neuen numerischen Datentyp, \"int64\".\n",
    "df.dtypes"
   ]
  },
  {
   "cell_type": "code",
   "execution_count": null,
   "id": "87f19ef6-2493-46ae-8224-4d6394ca0e8f",
   "metadata": {},
   "outputs": [],
   "source": [
    "# statistischer Überblick über numerische Variablen \n",
    "# Jahreszahl Minimum \"0\"? Da stimmt noch etwas nicht\n",
    "\n",
    "df.describe().round(0)"
   ]
  },
  {
   "cell_type": "code",
   "execution_count": null,
   "id": "10256393-04fc-47bc-83e2-0be2a1440cda",
   "metadata": {},
   "outputs": [],
   "source": [
    "# Jahreszahl-Minimum \"0\" - was hat es damit auf sich? Anzeige dieser Datensätze...\n",
    "df[df.start_year==0]"
   ]
  },
  {
   "cell_type": "code",
   "execution_count": null,
   "id": "2a21698e-2ab1-446f-9c4a-1b6d91803f15",
   "metadata": {},
   "outputs": [],
   "source": [
    "# Weitere Überprüfung: Zeige alle Startjahre, die kleiner sind als 1800 ODER weniger Stellen haben als 4\n",
    "# -> entsprechend auskommentieren\n",
    "\n",
    "for i in df.index:\n",
    "    #if df.start_year[i] < 1800:\n",
    "    if len(str(df.start_year[i])) < 4:\n",
    "        print(df.start_year[i])"
   ]
  },
  {
   "cell_type": "code",
   "execution_count": null,
   "id": "6308d911-d129-4371-8ad5-9e3f41dfb955",
   "metadata": {},
   "outputs": [],
   "source": [
    "# Auffüllen der Jahreszahlen mit weniger als 4 Stellen mit Nullen\n",
    "for i in df.index:\n",
    "    if len(str(df.start_year[i])) < 4:\n",
    "        n = 4 - len(str(df.start_year[i]))\n",
    "        df.start_year[i] = str(df.start_year[i]) + n * (str(0))\n",
    "df.start_year.astype('int')"
   ]
  },
  {
   "cell_type": "code",
   "execution_count": null,
   "id": "320a9718-2a4e-48e2-8f97-25e954ef0bc1",
   "metadata": {},
   "outputs": [],
   "source": [
    "# Gegenprobe: Nochmal alle Jahreszahlen < 1800 oder mit weniger als 4 Stellen\n",
    "\n",
    "for i in df.index:\n",
    "    if df.start_year[i] < 1800:\n",
    "    #if len(str(df.start_year[i])) < 4:\n",
    "        print(df.start_year[i])"
   ]
  },
  {
   "cell_type": "code",
   "execution_count": null,
   "id": "de02efda-26d4-4dc3-b497-f528c8693907",
   "metadata": {},
   "outputs": [],
   "source": [
    "# Die \"0\" stört aber weiterhin, z.B. bei statistischen Auswertungen, daher:\n",
    "# Transformation der \"0\" in einen richtigen Null-Wert, d.h. ein \"Nicht-Vorhanden-Wert\"\n",
    "\n",
    "for i in df.index:\n",
    "    if df.start_year[i] == 0:\n",
    "        df.start_year[i] = None"
   ]
  },
  {
   "cell_type": "code",
   "execution_count": null,
   "id": "ee1dbe4a-277d-4c27-9c0a-9deda27f9215",
   "metadata": {},
   "outputs": [],
   "source": [
    "# Nun sieht die statistische Auswertung für \"start_year\" valide aus.\n",
    "df.describe().round()"
   ]
  },
  {
   "cell_type": "code",
   "execution_count": null,
   "id": "889262b8-4397-473c-82a0-bbeb74806ecc",
   "metadata": {},
   "outputs": [],
   "source": [
    "# Wie sehen die 10 häufigsten Werte für \"start_year\" nun aus und wie oft tauchen diese auf?\n",
    "counter = collections.Counter(df.start_year)\n",
    "counter.most_common(10)"
   ]
  },
  {
   "cell_type": "markdown",
   "id": "793eb5df-4543-4cf2-a93f-f765c34617fe",
   "metadata": {},
   "source": [
    "## Visualisierungen"
   ]
  },
  {
   "cell_type": "markdown",
   "id": "2a57cab4-99f2-41ed-a1d8-7c15dd6de62b",
   "metadata": {},
   "source": [
    "### Visualisierungen direkt aus Pandas"
   ]
  },
  {
   "cell_type": "code",
   "execution_count": null,
   "id": "f7e09224-aa35-4ac4-a5bb-77181b8d6b50",
   "metadata": {},
   "outputs": [],
   "source": [
    "# Streudiagramm\n",
    "ax = df.plot(x='start_year', y='language', kind='scatter', s=2.5, figsize=(8,4))"
   ]
  },
  {
   "cell_type": "code",
   "execution_count": null,
   "id": "39c6bcac-b5e0-4d37-a28e-7e7016f6e088",
   "metadata": {},
   "outputs": [],
   "source": [
    "# Balkendiagramm für \"language\"\n",
    "figure(figsize=(6, 6), dpi=80)\n",
    "ax = df.language.value_counts().plot(kind='bar', color='darkred')"
   ]
  },
  {
   "cell_type": "code",
   "execution_count": null,
   "id": "fe36410c-0fdc-48e4-9af6-251fa81495ec",
   "metadata": {},
   "outputs": [],
   "source": [
    "# Tortendiagramm\n",
    "figure(figsize=(6, 6), dpi=80)\n",
    "ax = df.language.value_counts().plot(kind='pie')    "
   ]
  },
  {
   "cell_type": "code",
   "execution_count": null,
   "id": "50732793-fb63-40e6-ba57-3c6619c58257",
   "metadata": {},
   "outputs": [],
   "source": [
    "# Histogramm (hier: 10 Kohorten)\n",
    "ax = df.start_year.plot(kind='hist', bins=20, color='lightgreen')                                "
   ]
  },
  {
   "cell_type": "code",
   "execution_count": null,
   "id": "5ec6e748-f25a-4b67-a40d-80d85fc173ea",
   "metadata": {},
   "outputs": [],
   "source": [
    "# Kasten-Diagramm (box whisker plot)\n",
    "ax = df.start_year.plot(kind='box', vert=False)"
   ]
  },
  {
   "cell_type": "code",
   "execution_count": null,
   "id": "18932206-305d-47da-8ce0-cd4ae12e79bc",
   "metadata": {},
   "outputs": [],
   "source": [
    "# Dichte-Diagramm\n",
    "ax = df.start_year.plot(kind='density')"
   ]
  },
  {
   "cell_type": "code",
   "execution_count": null,
   "id": "f8f2935b-9840-4965-bfa2-8ffb3c6f2b8d",
   "metadata": {},
   "outputs": [],
   "source": [
    "# Gruppiertes Kastendiagramm \n",
    "figure(figsize=(10, 10), dpi=80)\n",
    "ax = df.boxplot(column='start_year', by='language', vert=False, grid=False, rot=30, fontsize=14)"
   ]
  },
  {
   "cell_type": "markdown",
   "id": "4412cd74-9e85-496a-967f-e2b71b93ccff",
   "metadata": {},
   "source": [
    "### Visualisierungen mit Seaborn"
   ]
  },
  {
   "cell_type": "code",
   "execution_count": null,
   "id": "97e58f8f-a94c-4839-9ac3-ab730d59fb14",
   "metadata": {},
   "outputs": [],
   "source": [
    "# Gruppiertes Kastendiagramm mit Seaborn\n",
    "figure(figsize=(8, 6), dpi=80)\n",
    "ax = sns.boxplot(y='types', x='start_year', data=df, orient='h', palette='Set3')"
   ]
  },
  {
   "cell_type": "code",
   "execution_count": null,
   "id": "5a9b737a-1834-45be-804c-ab70b80fca0e",
   "metadata": {},
   "outputs": [],
   "source": [
    "# Heatmap mit Seaborn: Types vs. Language\n",
    "ct = pd.crosstab( df['types'], df['language'])\n",
    "ax = sns.heatmap(ct, annot=True, fmt='d', cmap='magma_r', linewidths=.5)"
   ]
  },
  {
   "cell_type": "markdown",
   "id": "632538a7-92de-4601-8079-e0f4c4ffc7be",
   "metadata": {},
   "source": [
    "### Visualisierungen mit Matplotlib"
   ]
  },
  {
   "cell_type": "code",
   "execution_count": null,
   "id": "4d126c00-86e2-49fd-bdc3-f1fcd1f4bc72",
   "metadata": {},
   "outputs": [],
   "source": [
    "# Visualisierung von \"sets_all\"\n",
    "counter = collections.Counter(sets_all)\n",
    "sets = counter.most_common(20)\n",
    "x, y = zip(*sets)\n",
    "\n",
    "plt.barh(x, y, color='violet')\n",
    "plt.show()"
   ]
  },
  {
   "cell_type": "code",
   "execution_count": null,
   "id": "7d4f4a0d-e5dd-45d1-b7e5-653808f2758f",
   "metadata": {},
   "outputs": [],
   "source": [
    "# Visualisierung von \"subjects_all\"\n",
    "counter = collections.Counter(subjects_all)\n",
    "subjects = counter.most_common(10)\n",
    "x, y = zip(*subjects)\n",
    "\n",
    "plt.barh(x, y, color='teal')\n",
    "plt.show()"
   ]
  },
  {
   "cell_type": "code",
   "execution_count": null,
   "id": "06540d01-cc74-4e84-bf87-f42b106246f4",
   "metadata": {},
   "outputs": [],
   "source": [
    "# Visualisierung von \"types\"\n",
    "counter = collections.Counter(types_all)\n",
    "types = counter.most_common(20)\n",
    "x, y = zip(*types)\n",
    "\n",
    "plt.barh(x, y, color='gold')\n",
    "plt.show()"
   ]
  }
 ],
 "metadata": {
  "kernelspec": {
   "display_name": "Python 3 (ipykernel)",
   "language": "python",
   "name": "python3"
  },
  "language_info": {
   "codemirror_mode": {
    "name": "ipython",
    "version": 3
   },
   "file_extension": ".py",
   "mimetype": "text/x-python",
   "name": "python",
   "nbconvert_exporter": "python",
   "pygments_lexer": "ipython3",
   "version": "3.8.10"
  }
 },
 "nbformat": 4,
 "nbformat_minor": 5
}
